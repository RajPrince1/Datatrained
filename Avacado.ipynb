{
 "cells": [
  {
   "cell_type": "code",
   "execution_count": 11,
   "id": "79b16a8c",
   "metadata": {},
   "outputs": [],
   "source": [
    "import pandas as pd\n",
    "import numpy as np\n",
    "import seaborn as sns\n",
    "import matplotlib.pyplot as plt\n",
    "import warnings\n",
    "warnings.filterwarnings('ignore')"
   ]
  },
  {
   "cell_type": "code",
   "execution_count": 31,
   "id": "13142a31",
   "metadata": {},
   "outputs": [
    {
     "data": {
      "text/html": [
       "<div>\n",
       "<style scoped>\n",
       "    .dataframe tbody tr th:only-of-type {\n",
       "        vertical-align: middle;\n",
       "    }\n",
       "\n",
       "    .dataframe tbody tr th {\n",
       "        vertical-align: top;\n",
       "    }\n",
       "\n",
       "    .dataframe thead th {\n",
       "        text-align: right;\n",
       "    }\n",
       "</style>\n",
       "<table border=\"1\" class=\"dataframe\">\n",
       "  <thead>\n",
       "    <tr style=\"text-align: right;\">\n",
       "      <th></th>\n",
       "      <th>Unnamed: 0</th>\n",
       "      <th>Date</th>\n",
       "      <th>AveragePrice</th>\n",
       "      <th>Total Volume</th>\n",
       "      <th>4046</th>\n",
       "      <th>4225</th>\n",
       "      <th>4770</th>\n",
       "      <th>Total Bags</th>\n",
       "      <th>Small Bags</th>\n",
       "      <th>Large Bags</th>\n",
       "      <th>XLarge Bags</th>\n",
       "      <th>type</th>\n",
       "      <th>year</th>\n",
       "      <th>region</th>\n",
       "    </tr>\n",
       "  </thead>\n",
       "  <tbody>\n",
       "    <tr>\n",
       "      <th>0</th>\n",
       "      <td>0.0</td>\n",
       "      <td>27-12-2015</td>\n",
       "      <td>1.33</td>\n",
       "      <td>64236.62</td>\n",
       "      <td>1036.74</td>\n",
       "      <td>54454.85</td>\n",
       "      <td>48.16</td>\n",
       "      <td>8696.87</td>\n",
       "      <td>8603.62</td>\n",
       "      <td>93.25</td>\n",
       "      <td>0.0</td>\n",
       "      <td>conventional</td>\n",
       "      <td>2015.0</td>\n",
       "      <td>Albany</td>\n",
       "    </tr>\n",
       "    <tr>\n",
       "      <th>1</th>\n",
       "      <td>1.0</td>\n",
       "      <td>20-12-2015</td>\n",
       "      <td>1.35</td>\n",
       "      <td>54876.98</td>\n",
       "      <td>674.28</td>\n",
       "      <td>44638.81</td>\n",
       "      <td>58.33</td>\n",
       "      <td>9505.56</td>\n",
       "      <td>9408.07</td>\n",
       "      <td>97.49</td>\n",
       "      <td>0.0</td>\n",
       "      <td>conventional</td>\n",
       "      <td>2015.0</td>\n",
       "      <td>Albany</td>\n",
       "    </tr>\n",
       "    <tr>\n",
       "      <th>2</th>\n",
       "      <td>2.0</td>\n",
       "      <td>13-12-2015</td>\n",
       "      <td>0.93</td>\n",
       "      <td>118220.22</td>\n",
       "      <td>794.70</td>\n",
       "      <td>109149.67</td>\n",
       "      <td>130.50</td>\n",
       "      <td>8145.35</td>\n",
       "      <td>8042.21</td>\n",
       "      <td>103.14</td>\n",
       "      <td>0.0</td>\n",
       "      <td>conventional</td>\n",
       "      <td>2015.0</td>\n",
       "      <td>Albany</td>\n",
       "    </tr>\n",
       "    <tr>\n",
       "      <th>3</th>\n",
       "      <td>3.0</td>\n",
       "      <td>06-12-2015</td>\n",
       "      <td>1.08</td>\n",
       "      <td>78992.15</td>\n",
       "      <td>1132.00</td>\n",
       "      <td>71976.41</td>\n",
       "      <td>72.58</td>\n",
       "      <td>5811.16</td>\n",
       "      <td>5677.40</td>\n",
       "      <td>133.76</td>\n",
       "      <td>0.0</td>\n",
       "      <td>conventional</td>\n",
       "      <td>2015.0</td>\n",
       "      <td>Albany</td>\n",
       "    </tr>\n",
       "    <tr>\n",
       "      <th>4</th>\n",
       "      <td>4.0</td>\n",
       "      <td>29-11-2015</td>\n",
       "      <td>1.28</td>\n",
       "      <td>51039.60</td>\n",
       "      <td>941.48</td>\n",
       "      <td>43838.39</td>\n",
       "      <td>75.78</td>\n",
       "      <td>6183.95</td>\n",
       "      <td>5986.26</td>\n",
       "      <td>197.69</td>\n",
       "      <td>0.0</td>\n",
       "      <td>conventional</td>\n",
       "      <td>2015.0</td>\n",
       "      <td>Albany</td>\n",
       "    </tr>\n",
       "    <tr>\n",
       "      <th>...</th>\n",
       "      <td>...</td>\n",
       "      <td>...</td>\n",
       "      <td>...</td>\n",
       "      <td>...</td>\n",
       "      <td>...</td>\n",
       "      <td>...</td>\n",
       "      <td>...</td>\n",
       "      <td>...</td>\n",
       "      <td>...</td>\n",
       "      <td>...</td>\n",
       "      <td>...</td>\n",
       "      <td>...</td>\n",
       "      <td>...</td>\n",
       "      <td>...</td>\n",
       "    </tr>\n",
       "    <tr>\n",
       "      <th>16463</th>\n",
       "      <td>NaN</td>\n",
       "      <td>NaN</td>\n",
       "      <td>NaN</td>\n",
       "      <td>NaN</td>\n",
       "      <td>NaN</td>\n",
       "      <td>NaN</td>\n",
       "      <td>NaN</td>\n",
       "      <td>NaN</td>\n",
       "      <td>NaN</td>\n",
       "      <td>NaN</td>\n",
       "      <td>NaN</td>\n",
       "      <td>NaN</td>\n",
       "      <td>NaN</td>\n",
       "      <td>NaN</td>\n",
       "    </tr>\n",
       "    <tr>\n",
       "      <th>16464</th>\n",
       "      <td>NaN</td>\n",
       "      <td>NaN</td>\n",
       "      <td>NaN</td>\n",
       "      <td>NaN</td>\n",
       "      <td>NaN</td>\n",
       "      <td>NaN</td>\n",
       "      <td>NaN</td>\n",
       "      <td>NaN</td>\n",
       "      <td>NaN</td>\n",
       "      <td>NaN</td>\n",
       "      <td>NaN</td>\n",
       "      <td>NaN</td>\n",
       "      <td>NaN</td>\n",
       "      <td>NaN</td>\n",
       "    </tr>\n",
       "    <tr>\n",
       "      <th>16465</th>\n",
       "      <td>NaN</td>\n",
       "      <td>NaN</td>\n",
       "      <td>NaN</td>\n",
       "      <td>NaN</td>\n",
       "      <td>NaN</td>\n",
       "      <td>NaN</td>\n",
       "      <td>NaN</td>\n",
       "      <td>NaN</td>\n",
       "      <td>NaN</td>\n",
       "      <td>NaN</td>\n",
       "      <td>NaN</td>\n",
       "      <td>NaN</td>\n",
       "      <td>NaN</td>\n",
       "      <td>NaN</td>\n",
       "    </tr>\n",
       "    <tr>\n",
       "      <th>16466</th>\n",
       "      <td>NaN</td>\n",
       "      <td>NaN</td>\n",
       "      <td>NaN</td>\n",
       "      <td>NaN</td>\n",
       "      <td>NaN</td>\n",
       "      <td>NaN</td>\n",
       "      <td>NaN</td>\n",
       "      <td>NaN</td>\n",
       "      <td>NaN</td>\n",
       "      <td>NaN</td>\n",
       "      <td>NaN</td>\n",
       "      <td>NaN</td>\n",
       "      <td>NaN</td>\n",
       "      <td>NaN</td>\n",
       "    </tr>\n",
       "    <tr>\n",
       "      <th>16467</th>\n",
       "      <td>NaN</td>\n",
       "      <td>NaN</td>\n",
       "      <td>NaN</td>\n",
       "      <td>NaN</td>\n",
       "      <td>NaN</td>\n",
       "      <td>NaN</td>\n",
       "      <td>NaN</td>\n",
       "      <td>NaN</td>\n",
       "      <td>NaN</td>\n",
       "      <td>NaN</td>\n",
       "      <td>NaN</td>\n",
       "      <td>NaN</td>\n",
       "      <td>NaN</td>\n",
       "      <td>NaN</td>\n",
       "    </tr>\n",
       "  </tbody>\n",
       "</table>\n",
       "<p>16468 rows × 14 columns</p>\n",
       "</div>"
      ],
      "text/plain": [
       "       Unnamed: 0        Date  AveragePrice  Total Volume     4046       4225  \\\n",
       "0             0.0  27-12-2015          1.33      64236.62  1036.74   54454.85   \n",
       "1             1.0  20-12-2015          1.35      54876.98   674.28   44638.81   \n",
       "2             2.0  13-12-2015          0.93     118220.22   794.70  109149.67   \n",
       "3             3.0  06-12-2015          1.08      78992.15  1132.00   71976.41   \n",
       "4             4.0  29-11-2015          1.28      51039.60   941.48   43838.39   \n",
       "...           ...         ...           ...           ...      ...        ...   \n",
       "16463         NaN         NaN           NaN           NaN      NaN        NaN   \n",
       "16464         NaN         NaN           NaN           NaN      NaN        NaN   \n",
       "16465         NaN         NaN           NaN           NaN      NaN        NaN   \n",
       "16466         NaN         NaN           NaN           NaN      NaN        NaN   \n",
       "16467         NaN         NaN           NaN           NaN      NaN        NaN   \n",
       "\n",
       "         4770  Total Bags  Small Bags  Large Bags  XLarge Bags          type  \\\n",
       "0       48.16     8696.87     8603.62       93.25          0.0  conventional   \n",
       "1       58.33     9505.56     9408.07       97.49          0.0  conventional   \n",
       "2      130.50     8145.35     8042.21      103.14          0.0  conventional   \n",
       "3       72.58     5811.16     5677.40      133.76          0.0  conventional   \n",
       "4       75.78     6183.95     5986.26      197.69          0.0  conventional   \n",
       "...       ...         ...         ...         ...          ...           ...   \n",
       "16463     NaN         NaN         NaN         NaN          NaN           NaN   \n",
       "16464     NaN         NaN         NaN         NaN          NaN           NaN   \n",
       "16465     NaN         NaN         NaN         NaN          NaN           NaN   \n",
       "16466     NaN         NaN         NaN         NaN          NaN           NaN   \n",
       "16467     NaN         NaN         NaN         NaN          NaN           NaN   \n",
       "\n",
       "         year  region  \n",
       "0      2015.0  Albany  \n",
       "1      2015.0  Albany  \n",
       "2      2015.0  Albany  \n",
       "3      2015.0  Albany  \n",
       "4      2015.0  Albany  \n",
       "...       ...     ...  \n",
       "16463     NaN     NaN  \n",
       "16464     NaN     NaN  \n",
       "16465     NaN     NaN  \n",
       "16466     NaN     NaN  \n",
       "16467     NaN     NaN  \n",
       "\n",
       "[16468 rows x 14 columns]"
      ]
     },
     "execution_count": 31,
     "metadata": {},
     "output_type": "execute_result"
    }
   ],
   "source": [
    "df = pd.read_csv(\"https://raw.githubusercontent.com/dsrscientist/Data-Science-ML-Capstone-Projects/master/avocado.csv\")\n",
    "df"
   ]
  },
  {
   "cell_type": "markdown",
   "id": "36889683",
   "metadata": {},
   "source": [
    "1-There are 16468 rows and 14 columns\n",
    "\n",
    "2-One look and we can see that there are many null values present. We have to check it\n",
    "\n",
    "3-There is an Unnamed: 0 column which we will have to remove\n",
    "\n",
    "4-4046, 4225 and 4770 are Product look up code as per the description given. We will then rename them as PL1, PL2 and PL3"
   ]
  },
  {
   "cell_type": "markdown",
   "id": "0d8f0ced",
   "metadata": {},
   "source": [
    "Lets rename the column. 1st we will copy the columns and then drop the original\n",
    "\n"
   ]
  },
  {
   "cell_type": "code",
   "execution_count": 32,
   "id": "2a2b4a85",
   "metadata": {},
   "outputs": [],
   "source": [
    "df['PL1']=df['4046']"
   ]
  },
  {
   "cell_type": "code",
   "execution_count": 33,
   "id": "85bec47e",
   "metadata": {},
   "outputs": [],
   "source": [
    "df['PL2']=df['4225']\n",
    "df['PL3']=df['4770']"
   ]
  },
  {
   "cell_type": "code",
   "execution_count": 34,
   "id": "1ae299a5",
   "metadata": {},
   "outputs": [
    {
     "data": {
      "text/html": [
       "<div>\n",
       "<style scoped>\n",
       "    .dataframe tbody tr th:only-of-type {\n",
       "        vertical-align: middle;\n",
       "    }\n",
       "\n",
       "    .dataframe tbody tr th {\n",
       "        vertical-align: top;\n",
       "    }\n",
       "\n",
       "    .dataframe thead th {\n",
       "        text-align: right;\n",
       "    }\n",
       "</style>\n",
       "<table border=\"1\" class=\"dataframe\">\n",
       "  <thead>\n",
       "    <tr style=\"text-align: right;\">\n",
       "      <th></th>\n",
       "      <th>Unnamed: 0</th>\n",
       "      <th>Date</th>\n",
       "      <th>AveragePrice</th>\n",
       "      <th>Total Volume</th>\n",
       "      <th>4046</th>\n",
       "      <th>4225</th>\n",
       "      <th>4770</th>\n",
       "      <th>Total Bags</th>\n",
       "      <th>Small Bags</th>\n",
       "      <th>Large Bags</th>\n",
       "      <th>XLarge Bags</th>\n",
       "      <th>type</th>\n",
       "      <th>year</th>\n",
       "      <th>region</th>\n",
       "      <th>PL1</th>\n",
       "      <th>PL2</th>\n",
       "      <th>PL3</th>\n",
       "    </tr>\n",
       "  </thead>\n",
       "  <tbody>\n",
       "    <tr>\n",
       "      <th>0</th>\n",
       "      <td>0.0</td>\n",
       "      <td>27-12-2015</td>\n",
       "      <td>1.33</td>\n",
       "      <td>64236.62</td>\n",
       "      <td>1036.74</td>\n",
       "      <td>54454.85</td>\n",
       "      <td>48.16</td>\n",
       "      <td>8696.87</td>\n",
       "      <td>8603.62</td>\n",
       "      <td>93.25</td>\n",
       "      <td>0.0</td>\n",
       "      <td>conventional</td>\n",
       "      <td>2015.0</td>\n",
       "      <td>Albany</td>\n",
       "      <td>1036.74</td>\n",
       "      <td>54454.85</td>\n",
       "      <td>48.16</td>\n",
       "    </tr>\n",
       "    <tr>\n",
       "      <th>1</th>\n",
       "      <td>1.0</td>\n",
       "      <td>20-12-2015</td>\n",
       "      <td>1.35</td>\n",
       "      <td>54876.98</td>\n",
       "      <td>674.28</td>\n",
       "      <td>44638.81</td>\n",
       "      <td>58.33</td>\n",
       "      <td>9505.56</td>\n",
       "      <td>9408.07</td>\n",
       "      <td>97.49</td>\n",
       "      <td>0.0</td>\n",
       "      <td>conventional</td>\n",
       "      <td>2015.0</td>\n",
       "      <td>Albany</td>\n",
       "      <td>674.28</td>\n",
       "      <td>44638.81</td>\n",
       "      <td>58.33</td>\n",
       "    </tr>\n",
       "    <tr>\n",
       "      <th>2</th>\n",
       "      <td>2.0</td>\n",
       "      <td>13-12-2015</td>\n",
       "      <td>0.93</td>\n",
       "      <td>118220.22</td>\n",
       "      <td>794.70</td>\n",
       "      <td>109149.67</td>\n",
       "      <td>130.50</td>\n",
       "      <td>8145.35</td>\n",
       "      <td>8042.21</td>\n",
       "      <td>103.14</td>\n",
       "      <td>0.0</td>\n",
       "      <td>conventional</td>\n",
       "      <td>2015.0</td>\n",
       "      <td>Albany</td>\n",
       "      <td>794.70</td>\n",
       "      <td>109149.67</td>\n",
       "      <td>130.50</td>\n",
       "    </tr>\n",
       "    <tr>\n",
       "      <th>3</th>\n",
       "      <td>3.0</td>\n",
       "      <td>06-12-2015</td>\n",
       "      <td>1.08</td>\n",
       "      <td>78992.15</td>\n",
       "      <td>1132.00</td>\n",
       "      <td>71976.41</td>\n",
       "      <td>72.58</td>\n",
       "      <td>5811.16</td>\n",
       "      <td>5677.40</td>\n",
       "      <td>133.76</td>\n",
       "      <td>0.0</td>\n",
       "      <td>conventional</td>\n",
       "      <td>2015.0</td>\n",
       "      <td>Albany</td>\n",
       "      <td>1132.00</td>\n",
       "      <td>71976.41</td>\n",
       "      <td>72.58</td>\n",
       "    </tr>\n",
       "    <tr>\n",
       "      <th>4</th>\n",
       "      <td>4.0</td>\n",
       "      <td>29-11-2015</td>\n",
       "      <td>1.28</td>\n",
       "      <td>51039.60</td>\n",
       "      <td>941.48</td>\n",
       "      <td>43838.39</td>\n",
       "      <td>75.78</td>\n",
       "      <td>6183.95</td>\n",
       "      <td>5986.26</td>\n",
       "      <td>197.69</td>\n",
       "      <td>0.0</td>\n",
       "      <td>conventional</td>\n",
       "      <td>2015.0</td>\n",
       "      <td>Albany</td>\n",
       "      <td>941.48</td>\n",
       "      <td>43838.39</td>\n",
       "      <td>75.78</td>\n",
       "    </tr>\n",
       "    <tr>\n",
       "      <th>...</th>\n",
       "      <td>...</td>\n",
       "      <td>...</td>\n",
       "      <td>...</td>\n",
       "      <td>...</td>\n",
       "      <td>...</td>\n",
       "      <td>...</td>\n",
       "      <td>...</td>\n",
       "      <td>...</td>\n",
       "      <td>...</td>\n",
       "      <td>...</td>\n",
       "      <td>...</td>\n",
       "      <td>...</td>\n",
       "      <td>...</td>\n",
       "      <td>...</td>\n",
       "      <td>...</td>\n",
       "      <td>...</td>\n",
       "      <td>...</td>\n",
       "    </tr>\n",
       "    <tr>\n",
       "      <th>16463</th>\n",
       "      <td>NaN</td>\n",
       "      <td>NaN</td>\n",
       "      <td>NaN</td>\n",
       "      <td>NaN</td>\n",
       "      <td>NaN</td>\n",
       "      <td>NaN</td>\n",
       "      <td>NaN</td>\n",
       "      <td>NaN</td>\n",
       "      <td>NaN</td>\n",
       "      <td>NaN</td>\n",
       "      <td>NaN</td>\n",
       "      <td>NaN</td>\n",
       "      <td>NaN</td>\n",
       "      <td>NaN</td>\n",
       "      <td>NaN</td>\n",
       "      <td>NaN</td>\n",
       "      <td>NaN</td>\n",
       "    </tr>\n",
       "    <tr>\n",
       "      <th>16464</th>\n",
       "      <td>NaN</td>\n",
       "      <td>NaN</td>\n",
       "      <td>NaN</td>\n",
       "      <td>NaN</td>\n",
       "      <td>NaN</td>\n",
       "      <td>NaN</td>\n",
       "      <td>NaN</td>\n",
       "      <td>NaN</td>\n",
       "      <td>NaN</td>\n",
       "      <td>NaN</td>\n",
       "      <td>NaN</td>\n",
       "      <td>NaN</td>\n",
       "      <td>NaN</td>\n",
       "      <td>NaN</td>\n",
       "      <td>NaN</td>\n",
       "      <td>NaN</td>\n",
       "      <td>NaN</td>\n",
       "    </tr>\n",
       "    <tr>\n",
       "      <th>16465</th>\n",
       "      <td>NaN</td>\n",
       "      <td>NaN</td>\n",
       "      <td>NaN</td>\n",
       "      <td>NaN</td>\n",
       "      <td>NaN</td>\n",
       "      <td>NaN</td>\n",
       "      <td>NaN</td>\n",
       "      <td>NaN</td>\n",
       "      <td>NaN</td>\n",
       "      <td>NaN</td>\n",
       "      <td>NaN</td>\n",
       "      <td>NaN</td>\n",
       "      <td>NaN</td>\n",
       "      <td>NaN</td>\n",
       "      <td>NaN</td>\n",
       "      <td>NaN</td>\n",
       "      <td>NaN</td>\n",
       "    </tr>\n",
       "    <tr>\n",
       "      <th>16466</th>\n",
       "      <td>NaN</td>\n",
       "      <td>NaN</td>\n",
       "      <td>NaN</td>\n",
       "      <td>NaN</td>\n",
       "      <td>NaN</td>\n",
       "      <td>NaN</td>\n",
       "      <td>NaN</td>\n",
       "      <td>NaN</td>\n",
       "      <td>NaN</td>\n",
       "      <td>NaN</td>\n",
       "      <td>NaN</td>\n",
       "      <td>NaN</td>\n",
       "      <td>NaN</td>\n",
       "      <td>NaN</td>\n",
       "      <td>NaN</td>\n",
       "      <td>NaN</td>\n",
       "      <td>NaN</td>\n",
       "    </tr>\n",
       "    <tr>\n",
       "      <th>16467</th>\n",
       "      <td>NaN</td>\n",
       "      <td>NaN</td>\n",
       "      <td>NaN</td>\n",
       "      <td>NaN</td>\n",
       "      <td>NaN</td>\n",
       "      <td>NaN</td>\n",
       "      <td>NaN</td>\n",
       "      <td>NaN</td>\n",
       "      <td>NaN</td>\n",
       "      <td>NaN</td>\n",
       "      <td>NaN</td>\n",
       "      <td>NaN</td>\n",
       "      <td>NaN</td>\n",
       "      <td>NaN</td>\n",
       "      <td>NaN</td>\n",
       "      <td>NaN</td>\n",
       "      <td>NaN</td>\n",
       "    </tr>\n",
       "  </tbody>\n",
       "</table>\n",
       "<p>16468 rows × 17 columns</p>\n",
       "</div>"
      ],
      "text/plain": [
       "       Unnamed: 0        Date  AveragePrice  Total Volume     4046       4225  \\\n",
       "0             0.0  27-12-2015          1.33      64236.62  1036.74   54454.85   \n",
       "1             1.0  20-12-2015          1.35      54876.98   674.28   44638.81   \n",
       "2             2.0  13-12-2015          0.93     118220.22   794.70  109149.67   \n",
       "3             3.0  06-12-2015          1.08      78992.15  1132.00   71976.41   \n",
       "4             4.0  29-11-2015          1.28      51039.60   941.48   43838.39   \n",
       "...           ...         ...           ...           ...      ...        ...   \n",
       "16463         NaN         NaN           NaN           NaN      NaN        NaN   \n",
       "16464         NaN         NaN           NaN           NaN      NaN        NaN   \n",
       "16465         NaN         NaN           NaN           NaN      NaN        NaN   \n",
       "16466         NaN         NaN           NaN           NaN      NaN        NaN   \n",
       "16467         NaN         NaN           NaN           NaN      NaN        NaN   \n",
       "\n",
       "         4770  Total Bags  Small Bags  Large Bags  XLarge Bags          type  \\\n",
       "0       48.16     8696.87     8603.62       93.25          0.0  conventional   \n",
       "1       58.33     9505.56     9408.07       97.49          0.0  conventional   \n",
       "2      130.50     8145.35     8042.21      103.14          0.0  conventional   \n",
       "3       72.58     5811.16     5677.40      133.76          0.0  conventional   \n",
       "4       75.78     6183.95     5986.26      197.69          0.0  conventional   \n",
       "...       ...         ...         ...         ...          ...           ...   \n",
       "16463     NaN         NaN         NaN         NaN          NaN           NaN   \n",
       "16464     NaN         NaN         NaN         NaN          NaN           NaN   \n",
       "16465     NaN         NaN         NaN         NaN          NaN           NaN   \n",
       "16466     NaN         NaN         NaN         NaN          NaN           NaN   \n",
       "16467     NaN         NaN         NaN         NaN          NaN           NaN   \n",
       "\n",
       "         year  region      PL1        PL2     PL3  \n",
       "0      2015.0  Albany  1036.74   54454.85   48.16  \n",
       "1      2015.0  Albany   674.28   44638.81   58.33  \n",
       "2      2015.0  Albany   794.70  109149.67  130.50  \n",
       "3      2015.0  Albany  1132.00   71976.41   72.58  \n",
       "4      2015.0  Albany   941.48   43838.39   75.78  \n",
       "...       ...     ...      ...        ...     ...  \n",
       "16463     NaN     NaN      NaN        NaN     NaN  \n",
       "16464     NaN     NaN      NaN        NaN     NaN  \n",
       "16465     NaN     NaN      NaN        NaN     NaN  \n",
       "16466     NaN     NaN      NaN        NaN     NaN  \n",
       "16467     NaN     NaN      NaN        NaN     NaN  \n",
       "\n",
       "[16468 rows x 17 columns]"
      ]
     },
     "execution_count": 34,
     "metadata": {},
     "output_type": "execute_result"
    }
   ],
   "source": [
    "df"
   ]
  },
  {
   "cell_type": "markdown",
   "id": "9407de01",
   "metadata": {},
   "source": [
    "The columns are copied now lets drop the original"
   ]
  },
  {
   "cell_type": "code",
   "execution_count": 35,
   "id": "199bc7fa",
   "metadata": {},
   "outputs": [],
   "source": [
    "df.drop(['Unnamed: 0','4046','4225','4770'],axis=1,inplace=True)"
   ]
  },
  {
   "cell_type": "code",
   "execution_count": 36,
   "id": "c0a6e418",
   "metadata": {},
   "outputs": [
    {
     "data": {
      "text/html": [
       "<div>\n",
       "<style scoped>\n",
       "    .dataframe tbody tr th:only-of-type {\n",
       "        vertical-align: middle;\n",
       "    }\n",
       "\n",
       "    .dataframe tbody tr th {\n",
       "        vertical-align: top;\n",
       "    }\n",
       "\n",
       "    .dataframe thead th {\n",
       "        text-align: right;\n",
       "    }\n",
       "</style>\n",
       "<table border=\"1\" class=\"dataframe\">\n",
       "  <thead>\n",
       "    <tr style=\"text-align: right;\">\n",
       "      <th></th>\n",
       "      <th>Date</th>\n",
       "      <th>AveragePrice</th>\n",
       "      <th>Total Volume</th>\n",
       "      <th>Total Bags</th>\n",
       "      <th>Small Bags</th>\n",
       "      <th>Large Bags</th>\n",
       "      <th>XLarge Bags</th>\n",
       "      <th>type</th>\n",
       "      <th>year</th>\n",
       "      <th>region</th>\n",
       "      <th>PL1</th>\n",
       "      <th>PL2</th>\n",
       "      <th>PL3</th>\n",
       "    </tr>\n",
       "  </thead>\n",
       "  <tbody>\n",
       "    <tr>\n",
       "      <th>0</th>\n",
       "      <td>27-12-2015</td>\n",
       "      <td>1.33</td>\n",
       "      <td>64236.62</td>\n",
       "      <td>8696.87</td>\n",
       "      <td>8603.62</td>\n",
       "      <td>93.25</td>\n",
       "      <td>0.0</td>\n",
       "      <td>conventional</td>\n",
       "      <td>2015.0</td>\n",
       "      <td>Albany</td>\n",
       "      <td>1036.74</td>\n",
       "      <td>54454.85</td>\n",
       "      <td>48.16</td>\n",
       "    </tr>\n",
       "    <tr>\n",
       "      <th>1</th>\n",
       "      <td>20-12-2015</td>\n",
       "      <td>1.35</td>\n",
       "      <td>54876.98</td>\n",
       "      <td>9505.56</td>\n",
       "      <td>9408.07</td>\n",
       "      <td>97.49</td>\n",
       "      <td>0.0</td>\n",
       "      <td>conventional</td>\n",
       "      <td>2015.0</td>\n",
       "      <td>Albany</td>\n",
       "      <td>674.28</td>\n",
       "      <td>44638.81</td>\n",
       "      <td>58.33</td>\n",
       "    </tr>\n",
       "    <tr>\n",
       "      <th>2</th>\n",
       "      <td>13-12-2015</td>\n",
       "      <td>0.93</td>\n",
       "      <td>118220.22</td>\n",
       "      <td>8145.35</td>\n",
       "      <td>8042.21</td>\n",
       "      <td>103.14</td>\n",
       "      <td>0.0</td>\n",
       "      <td>conventional</td>\n",
       "      <td>2015.0</td>\n",
       "      <td>Albany</td>\n",
       "      <td>794.70</td>\n",
       "      <td>109149.67</td>\n",
       "      <td>130.50</td>\n",
       "    </tr>\n",
       "    <tr>\n",
       "      <th>3</th>\n",
       "      <td>06-12-2015</td>\n",
       "      <td>1.08</td>\n",
       "      <td>78992.15</td>\n",
       "      <td>5811.16</td>\n",
       "      <td>5677.40</td>\n",
       "      <td>133.76</td>\n",
       "      <td>0.0</td>\n",
       "      <td>conventional</td>\n",
       "      <td>2015.0</td>\n",
       "      <td>Albany</td>\n",
       "      <td>1132.00</td>\n",
       "      <td>71976.41</td>\n",
       "      <td>72.58</td>\n",
       "    </tr>\n",
       "    <tr>\n",
       "      <th>4</th>\n",
       "      <td>29-11-2015</td>\n",
       "      <td>1.28</td>\n",
       "      <td>51039.60</td>\n",
       "      <td>6183.95</td>\n",
       "      <td>5986.26</td>\n",
       "      <td>197.69</td>\n",
       "      <td>0.0</td>\n",
       "      <td>conventional</td>\n",
       "      <td>2015.0</td>\n",
       "      <td>Albany</td>\n",
       "      <td>941.48</td>\n",
       "      <td>43838.39</td>\n",
       "      <td>75.78</td>\n",
       "    </tr>\n",
       "    <tr>\n",
       "      <th>...</th>\n",
       "      <td>...</td>\n",
       "      <td>...</td>\n",
       "      <td>...</td>\n",
       "      <td>...</td>\n",
       "      <td>...</td>\n",
       "      <td>...</td>\n",
       "      <td>...</td>\n",
       "      <td>...</td>\n",
       "      <td>...</td>\n",
       "      <td>...</td>\n",
       "      <td>...</td>\n",
       "      <td>...</td>\n",
       "      <td>...</td>\n",
       "    </tr>\n",
       "    <tr>\n",
       "      <th>16463</th>\n",
       "      <td>NaN</td>\n",
       "      <td>NaN</td>\n",
       "      <td>NaN</td>\n",
       "      <td>NaN</td>\n",
       "      <td>NaN</td>\n",
       "      <td>NaN</td>\n",
       "      <td>NaN</td>\n",
       "      <td>NaN</td>\n",
       "      <td>NaN</td>\n",
       "      <td>NaN</td>\n",
       "      <td>NaN</td>\n",
       "      <td>NaN</td>\n",
       "      <td>NaN</td>\n",
       "    </tr>\n",
       "    <tr>\n",
       "      <th>16464</th>\n",
       "      <td>NaN</td>\n",
       "      <td>NaN</td>\n",
       "      <td>NaN</td>\n",
       "      <td>NaN</td>\n",
       "      <td>NaN</td>\n",
       "      <td>NaN</td>\n",
       "      <td>NaN</td>\n",
       "      <td>NaN</td>\n",
       "      <td>NaN</td>\n",
       "      <td>NaN</td>\n",
       "      <td>NaN</td>\n",
       "      <td>NaN</td>\n",
       "      <td>NaN</td>\n",
       "    </tr>\n",
       "    <tr>\n",
       "      <th>16465</th>\n",
       "      <td>NaN</td>\n",
       "      <td>NaN</td>\n",
       "      <td>NaN</td>\n",
       "      <td>NaN</td>\n",
       "      <td>NaN</td>\n",
       "      <td>NaN</td>\n",
       "      <td>NaN</td>\n",
       "      <td>NaN</td>\n",
       "      <td>NaN</td>\n",
       "      <td>NaN</td>\n",
       "      <td>NaN</td>\n",
       "      <td>NaN</td>\n",
       "      <td>NaN</td>\n",
       "    </tr>\n",
       "    <tr>\n",
       "      <th>16466</th>\n",
       "      <td>NaN</td>\n",
       "      <td>NaN</td>\n",
       "      <td>NaN</td>\n",
       "      <td>NaN</td>\n",
       "      <td>NaN</td>\n",
       "      <td>NaN</td>\n",
       "      <td>NaN</td>\n",
       "      <td>NaN</td>\n",
       "      <td>NaN</td>\n",
       "      <td>NaN</td>\n",
       "      <td>NaN</td>\n",
       "      <td>NaN</td>\n",
       "      <td>NaN</td>\n",
       "    </tr>\n",
       "    <tr>\n",
       "      <th>16467</th>\n",
       "      <td>NaN</td>\n",
       "      <td>NaN</td>\n",
       "      <td>NaN</td>\n",
       "      <td>NaN</td>\n",
       "      <td>NaN</td>\n",
       "      <td>NaN</td>\n",
       "      <td>NaN</td>\n",
       "      <td>NaN</td>\n",
       "      <td>NaN</td>\n",
       "      <td>NaN</td>\n",
       "      <td>NaN</td>\n",
       "      <td>NaN</td>\n",
       "      <td>NaN</td>\n",
       "    </tr>\n",
       "  </tbody>\n",
       "</table>\n",
       "<p>16468 rows × 13 columns</p>\n",
       "</div>"
      ],
      "text/plain": [
       "             Date  AveragePrice  Total Volume  Total Bags  Small Bags  \\\n",
       "0      27-12-2015          1.33      64236.62     8696.87     8603.62   \n",
       "1      20-12-2015          1.35      54876.98     9505.56     9408.07   \n",
       "2      13-12-2015          0.93     118220.22     8145.35     8042.21   \n",
       "3      06-12-2015          1.08      78992.15     5811.16     5677.40   \n",
       "4      29-11-2015          1.28      51039.60     6183.95     5986.26   \n",
       "...           ...           ...           ...         ...         ...   \n",
       "16463         NaN           NaN           NaN         NaN         NaN   \n",
       "16464         NaN           NaN           NaN         NaN         NaN   \n",
       "16465         NaN           NaN           NaN         NaN         NaN   \n",
       "16466         NaN           NaN           NaN         NaN         NaN   \n",
       "16467         NaN           NaN           NaN         NaN         NaN   \n",
       "\n",
       "       Large Bags  XLarge Bags          type    year  region      PL1  \\\n",
       "0           93.25          0.0  conventional  2015.0  Albany  1036.74   \n",
       "1           97.49          0.0  conventional  2015.0  Albany   674.28   \n",
       "2          103.14          0.0  conventional  2015.0  Albany   794.70   \n",
       "3          133.76          0.0  conventional  2015.0  Albany  1132.00   \n",
       "4          197.69          0.0  conventional  2015.0  Albany   941.48   \n",
       "...           ...          ...           ...     ...     ...      ...   \n",
       "16463         NaN          NaN           NaN     NaN     NaN      NaN   \n",
       "16464         NaN          NaN           NaN     NaN     NaN      NaN   \n",
       "16465         NaN          NaN           NaN     NaN     NaN      NaN   \n",
       "16466         NaN          NaN           NaN     NaN     NaN      NaN   \n",
       "16467         NaN          NaN           NaN     NaN     NaN      NaN   \n",
       "\n",
       "             PL2     PL3  \n",
       "0       54454.85   48.16  \n",
       "1       44638.81   58.33  \n",
       "2      109149.67  130.50  \n",
       "3       71976.41   72.58  \n",
       "4       43838.39   75.78  \n",
       "...          ...     ...  \n",
       "16463        NaN     NaN  \n",
       "16464        NaN     NaN  \n",
       "16465        NaN     NaN  \n",
       "16466        NaN     NaN  \n",
       "16467        NaN     NaN  \n",
       "\n",
       "[16468 rows x 13 columns]"
      ]
     },
     "execution_count": 36,
     "metadata": {},
     "output_type": "execute_result"
    }
   ],
   "source": [
    "df"
   ]
  },
  {
   "cell_type": "markdown",
   "id": "fe622c8a",
   "metadata": {},
   "source": [
    "Done. The Unnamed columns is dropped.\n",
    "\n",
    "Now we will check for NaN values."
   ]
  },
  {
   "cell_type": "code",
   "execution_count": 37,
   "id": "79885beb",
   "metadata": {},
   "outputs": [
    {
     "data": {
      "text/plain": [
       "Date            14951\n",
       "AveragePrice    14951\n",
       "Total Volume    14951\n",
       "Total Bags      14951\n",
       "Small Bags      14951\n",
       "Large Bags      14951\n",
       "XLarge Bags     14951\n",
       "type            14951\n",
       "year            14951\n",
       "region          14951\n",
       "PL1             14951\n",
       "PL2             14951\n",
       "PL3             14951\n",
       "dtype: int64"
      ]
     },
     "execution_count": 37,
     "metadata": {},
     "output_type": "execute_result"
    }
   ],
   "source": [
    "df.isnull().sum()"
   ]
  },
  {
   "cell_type": "markdown",
   "id": "12fd828f",
   "metadata": {},
   "source": [
    "The null value is exact the same for each column and the data is huge. 91% of the data is null hence we will not fill it and we will drop the null values from the dataset"
   ]
  },
  {
   "cell_type": "code",
   "execution_count": 38,
   "id": "d9248f27",
   "metadata": {},
   "outputs": [],
   "source": [
    "df.dropna(how = 'all',inplace=True)"
   ]
  },
  {
   "cell_type": "code",
   "execution_count": 39,
   "id": "8d58cb85",
   "metadata": {},
   "outputs": [
    {
     "data": {
      "text/plain": [
       "Date            0\n",
       "AveragePrice    0\n",
       "Total Volume    0\n",
       "Total Bags      0\n",
       "Small Bags      0\n",
       "Large Bags      0\n",
       "XLarge Bags     0\n",
       "type            0\n",
       "year            0\n",
       "region          0\n",
       "PL1             0\n",
       "PL2             0\n",
       "PL3             0\n",
       "dtype: int64"
      ]
     },
     "execution_count": 39,
     "metadata": {},
     "output_type": "execute_result"
    }
   ],
   "source": [
    "df.isnull().sum()"
   ]
  },
  {
   "cell_type": "markdown",
   "id": "494a07cb",
   "metadata": {},
   "source": [
    "The above command has drop the null values from the complete dataset. Lets check the shape now of our data.\n",
    "\n"
   ]
  },
  {
   "cell_type": "code",
   "execution_count": 40,
   "id": "e163ae86",
   "metadata": {},
   "outputs": [
    {
     "data": {
      "text/plain": [
       "(1517, 13)"
      ]
     },
     "execution_count": 40,
     "metadata": {},
     "output_type": "execute_result"
    }
   ],
   "source": [
    "df.shape"
   ]
  },
  {
   "cell_type": "markdown",
   "id": "25648929",
   "metadata": {},
   "source": [
    "So no we are left with 1517 rows and 13 columns.\n",
    "\n",
    "Let's study more about the data"
   ]
  },
  {
   "cell_type": "code",
   "execution_count": 41,
   "id": "1b040777",
   "metadata": {},
   "outputs": [
    {
     "name": "stdout",
     "output_type": "stream",
     "text": [
      "<class 'pandas.core.frame.DataFrame'>\n",
      "Int64Index: 1517 entries, 0 to 1516\n",
      "Data columns (total 13 columns):\n",
      " #   Column        Non-Null Count  Dtype  \n",
      "---  ------        --------------  -----  \n",
      " 0   Date          1517 non-null   object \n",
      " 1   AveragePrice  1517 non-null   float64\n",
      " 2   Total Volume  1517 non-null   float64\n",
      " 3   Total Bags    1517 non-null   float64\n",
      " 4   Small Bags    1517 non-null   float64\n",
      " 5   Large Bags    1517 non-null   float64\n",
      " 6   XLarge Bags   1517 non-null   float64\n",
      " 7   type          1517 non-null   object \n",
      " 8   year          1517 non-null   float64\n",
      " 9   region        1517 non-null   object \n",
      " 10  PL1           1517 non-null   float64\n",
      " 11  PL2           1517 non-null   float64\n",
      " 12  PL3           1517 non-null   float64\n",
      "dtypes: float64(10), object(3)\n",
      "memory usage: 165.9+ KB\n"
     ]
    }
   ],
   "source": [
    "df.info()"
   ]
  },
  {
   "cell_type": "markdown",
   "id": "6f93885d",
   "metadata": {},
   "source": [
    "We have 3 object columns out of which one is date and remaining are numerical.\n",
    "\n"
   ]
  },
  {
   "cell_type": "code",
   "execution_count": 42,
   "id": "85ed94d2",
   "metadata": {},
   "outputs": [
    {
     "data": {
      "text/html": [
       "<div>\n",
       "<style scoped>\n",
       "    .dataframe tbody tr th:only-of-type {\n",
       "        vertical-align: middle;\n",
       "    }\n",
       "\n",
       "    .dataframe tbody tr th {\n",
       "        vertical-align: top;\n",
       "    }\n",
       "\n",
       "    .dataframe thead th {\n",
       "        text-align: right;\n",
       "    }\n",
       "</style>\n",
       "<table border=\"1\" class=\"dataframe\">\n",
       "  <thead>\n",
       "    <tr style=\"text-align: right;\">\n",
       "      <th></th>\n",
       "      <th>AveragePrice</th>\n",
       "      <th>Total Volume</th>\n",
       "      <th>Total Bags</th>\n",
       "      <th>Small Bags</th>\n",
       "      <th>Large Bags</th>\n",
       "      <th>XLarge Bags</th>\n",
       "      <th>year</th>\n",
       "      <th>PL1</th>\n",
       "      <th>PL2</th>\n",
       "      <th>PL3</th>\n",
       "    </tr>\n",
       "  </thead>\n",
       "  <tbody>\n",
       "    <tr>\n",
       "      <th>count</th>\n",
       "      <td>1517.000000</td>\n",
       "      <td>1.517000e+03</td>\n",
       "      <td>1.517000e+03</td>\n",
       "      <td>1.517000e+03</td>\n",
       "      <td>1.517000e+03</td>\n",
       "      <td>1517.000000</td>\n",
       "      <td>1517.000000</td>\n",
       "      <td>1.517000e+03</td>\n",
       "      <td>1.517000e+03</td>\n",
       "      <td>1.517000e+03</td>\n",
       "    </tr>\n",
       "    <tr>\n",
       "      <th>mean</th>\n",
       "      <td>1.074990</td>\n",
       "      <td>1.601879e+06</td>\n",
       "      <td>2.935974e+05</td>\n",
       "      <td>2.487736e+05</td>\n",
       "      <td>4.264205e+04</td>\n",
       "      <td>2181.771074</td>\n",
       "      <td>2015.162821</td>\n",
       "      <td>6.464387e+05</td>\n",
       "      <td>6.114375e+05</td>\n",
       "      <td>5.040550e+04</td>\n",
       "    </tr>\n",
       "    <tr>\n",
       "      <th>std</th>\n",
       "      <td>0.188891</td>\n",
       "      <td>4.433143e+06</td>\n",
       "      <td>7.579765e+05</td>\n",
       "      <td>6.474765e+05</td>\n",
       "      <td>1.182157e+05</td>\n",
       "      <td>7455.712144</td>\n",
       "      <td>0.369324</td>\n",
       "      <td>1.947614e+06</td>\n",
       "      <td>1.672906e+06</td>\n",
       "      <td>1.377812e+05</td>\n",
       "    </tr>\n",
       "    <tr>\n",
       "      <th>min</th>\n",
       "      <td>0.490000</td>\n",
       "      <td>3.875074e+04</td>\n",
       "      <td>3.311770e+03</td>\n",
       "      <td>3.311770e+03</td>\n",
       "      <td>0.000000e+00</td>\n",
       "      <td>0.000000</td>\n",
       "      <td>2015.000000</td>\n",
       "      <td>4.677200e+02</td>\n",
       "      <td>1.783770e+03</td>\n",
       "      <td>0.000000e+00</td>\n",
       "    </tr>\n",
       "    <tr>\n",
       "      <th>25%</th>\n",
       "      <td>0.980000</td>\n",
       "      <td>1.474700e+05</td>\n",
       "      <td>3.620689e+04</td>\n",
       "      <td>2.972722e+04</td>\n",
       "      <td>5.407400e+02</td>\n",
       "      <td>0.000000</td>\n",
       "      <td>2015.000000</td>\n",
       "      <td>2.040034e+04</td>\n",
       "      <td>4.147606e+04</td>\n",
       "      <td>9.112500e+02</td>\n",
       "    </tr>\n",
       "    <tr>\n",
       "      <th>50%</th>\n",
       "      <td>1.080000</td>\n",
       "      <td>4.027919e+05</td>\n",
       "      <td>7.397906e+04</td>\n",
       "      <td>6.237569e+04</td>\n",
       "      <td>5.044350e+03</td>\n",
       "      <td>0.000000</td>\n",
       "      <td>2015.000000</td>\n",
       "      <td>8.175117e+04</td>\n",
       "      <td>1.186649e+05</td>\n",
       "      <td>7.688170e+03</td>\n",
       "    </tr>\n",
       "    <tr>\n",
       "      <th>75%</th>\n",
       "      <td>1.190000</td>\n",
       "      <td>9.819751e+05</td>\n",
       "      <td>1.576097e+05</td>\n",
       "      <td>1.461994e+05</td>\n",
       "      <td>2.926767e+04</td>\n",
       "      <td>401.480000</td>\n",
       "      <td>2015.000000</td>\n",
       "      <td>3.775785e+05</td>\n",
       "      <td>4.851503e+05</td>\n",
       "      <td>2.916730e+04</td>\n",
       "    </tr>\n",
       "    <tr>\n",
       "      <th>max</th>\n",
       "      <td>1.680000</td>\n",
       "      <td>4.465546e+07</td>\n",
       "      <td>6.736304e+06</td>\n",
       "      <td>5.893642e+06</td>\n",
       "      <td>1.121076e+06</td>\n",
       "      <td>108072.790000</td>\n",
       "      <td>2016.000000</td>\n",
       "      <td>1.893304e+07</td>\n",
       "      <td>1.895648e+07</td>\n",
       "      <td>1.381516e+06</td>\n",
       "    </tr>\n",
       "  </tbody>\n",
       "</table>\n",
       "</div>"
      ],
      "text/plain": [
       "       AveragePrice  Total Volume    Total Bags    Small Bags    Large Bags  \\\n",
       "count   1517.000000  1.517000e+03  1.517000e+03  1.517000e+03  1.517000e+03   \n",
       "mean       1.074990  1.601879e+06  2.935974e+05  2.487736e+05  4.264205e+04   \n",
       "std        0.188891  4.433143e+06  7.579765e+05  6.474765e+05  1.182157e+05   \n",
       "min        0.490000  3.875074e+04  3.311770e+03  3.311770e+03  0.000000e+00   \n",
       "25%        0.980000  1.474700e+05  3.620689e+04  2.972722e+04  5.407400e+02   \n",
       "50%        1.080000  4.027919e+05  7.397906e+04  6.237569e+04  5.044350e+03   \n",
       "75%        1.190000  9.819751e+05  1.576097e+05  1.461994e+05  2.926767e+04   \n",
       "max        1.680000  4.465546e+07  6.736304e+06  5.893642e+06  1.121076e+06   \n",
       "\n",
       "         XLarge Bags         year           PL1           PL2           PL3  \n",
       "count    1517.000000  1517.000000  1.517000e+03  1.517000e+03  1.517000e+03  \n",
       "mean     2181.771074  2015.162821  6.464387e+05  6.114375e+05  5.040550e+04  \n",
       "std      7455.712144     0.369324  1.947614e+06  1.672906e+06  1.377812e+05  \n",
       "min         0.000000  2015.000000  4.677200e+02  1.783770e+03  0.000000e+00  \n",
       "25%         0.000000  2015.000000  2.040034e+04  4.147606e+04  9.112500e+02  \n",
       "50%         0.000000  2015.000000  8.175117e+04  1.186649e+05  7.688170e+03  \n",
       "75%       401.480000  2015.000000  3.775785e+05  4.851503e+05  2.916730e+04  \n",
       "max    108072.790000  2016.000000  1.893304e+07  1.895648e+07  1.381516e+06  "
      ]
     },
     "execution_count": 42,
     "metadata": {},
     "output_type": "execute_result"
    }
   ],
   "source": [
    "df.describe()"
   ]
  },
  {
   "cell_type": "markdown",
   "id": "ea916cf5",
   "metadata": {},
   "source": [
    "Because of the float data we are not getting the correct pciture of the statstical summary.\n",
    "\n",
    "We will need to check this after removing the error"
   ]
  },
  {
   "cell_type": "code",
   "execution_count": 43,
   "id": "1c78008a",
   "metadata": {},
   "outputs": [
    {
     "data": {
      "text/html": [
       "<div>\n",
       "<style scoped>\n",
       "    .dataframe tbody tr th:only-of-type {\n",
       "        vertical-align: middle;\n",
       "    }\n",
       "\n",
       "    .dataframe tbody tr th {\n",
       "        vertical-align: top;\n",
       "    }\n",
       "\n",
       "    .dataframe thead th {\n",
       "        text-align: right;\n",
       "    }\n",
       "</style>\n",
       "<table border=\"1\" class=\"dataframe\">\n",
       "  <thead>\n",
       "    <tr style=\"text-align: right;\">\n",
       "      <th></th>\n",
       "      <th>AveragePrice</th>\n",
       "      <th>Total Volume</th>\n",
       "      <th>Total Bags</th>\n",
       "      <th>Small Bags</th>\n",
       "      <th>Large Bags</th>\n",
       "      <th>XLarge Bags</th>\n",
       "      <th>year</th>\n",
       "      <th>PL1</th>\n",
       "      <th>PL2</th>\n",
       "      <th>PL3</th>\n",
       "    </tr>\n",
       "  </thead>\n",
       "  <tbody>\n",
       "    <tr>\n",
       "      <th>count</th>\n",
       "      <td>1517.00000</td>\n",
       "      <td>1517.00000</td>\n",
       "      <td>1517.00000</td>\n",
       "      <td>1517.00000</td>\n",
       "      <td>1517.00000</td>\n",
       "      <td>1517.00000</td>\n",
       "      <td>1517.00000</td>\n",
       "      <td>1517.00000</td>\n",
       "      <td>1517.00000</td>\n",
       "      <td>1517.00000</td>\n",
       "    </tr>\n",
       "    <tr>\n",
       "      <th>mean</th>\n",
       "      <td>1.07499</td>\n",
       "      <td>1601879.06784</td>\n",
       "      <td>293597.41574</td>\n",
       "      <td>248773.59529</td>\n",
       "      <td>42642.04937</td>\n",
       "      <td>2181.77107</td>\n",
       "      <td>2015.16282</td>\n",
       "      <td>646438.65411</td>\n",
       "      <td>611437.50259</td>\n",
       "      <td>50405.49540</td>\n",
       "    </tr>\n",
       "    <tr>\n",
       "      <th>std</th>\n",
       "      <td>0.18889</td>\n",
       "      <td>4433142.82075</td>\n",
       "      <td>757976.53132</td>\n",
       "      <td>647476.52050</td>\n",
       "      <td>118215.68184</td>\n",
       "      <td>7455.71214</td>\n",
       "      <td>0.36932</td>\n",
       "      <td>1947613.56974</td>\n",
       "      <td>1672906.16466</td>\n",
       "      <td>137781.24924</td>\n",
       "    </tr>\n",
       "    <tr>\n",
       "      <th>min</th>\n",
       "      <td>0.49000</td>\n",
       "      <td>38750.74000</td>\n",
       "      <td>3311.77000</td>\n",
       "      <td>3311.77000</td>\n",
       "      <td>0.00000</td>\n",
       "      <td>0.00000</td>\n",
       "      <td>2015.00000</td>\n",
       "      <td>467.72000</td>\n",
       "      <td>1783.77000</td>\n",
       "      <td>0.00000</td>\n",
       "    </tr>\n",
       "    <tr>\n",
       "      <th>25%</th>\n",
       "      <td>0.98000</td>\n",
       "      <td>147469.99000</td>\n",
       "      <td>36206.89000</td>\n",
       "      <td>29727.22000</td>\n",
       "      <td>540.74000</td>\n",
       "      <td>0.00000</td>\n",
       "      <td>2015.00000</td>\n",
       "      <td>20400.34000</td>\n",
       "      <td>41476.06000</td>\n",
       "      <td>911.25000</td>\n",
       "    </tr>\n",
       "    <tr>\n",
       "      <th>50%</th>\n",
       "      <td>1.08000</td>\n",
       "      <td>402791.86000</td>\n",
       "      <td>73979.06000</td>\n",
       "      <td>62375.69000</td>\n",
       "      <td>5044.35000</td>\n",
       "      <td>0.00000</td>\n",
       "      <td>2015.00000</td>\n",
       "      <td>81751.17000</td>\n",
       "      <td>118664.89000</td>\n",
       "      <td>7688.17000</td>\n",
       "    </tr>\n",
       "    <tr>\n",
       "      <th>75%</th>\n",
       "      <td>1.19000</td>\n",
       "      <td>981975.08000</td>\n",
       "      <td>157609.68000</td>\n",
       "      <td>146199.35000</td>\n",
       "      <td>29267.67000</td>\n",
       "      <td>401.48000</td>\n",
       "      <td>2015.00000</td>\n",
       "      <td>377578.48000</td>\n",
       "      <td>485150.34000</td>\n",
       "      <td>29167.30000</td>\n",
       "    </tr>\n",
       "    <tr>\n",
       "      <th>max</th>\n",
       "      <td>1.68000</td>\n",
       "      <td>44655461.51000</td>\n",
       "      <td>6736304.04000</td>\n",
       "      <td>5893641.72000</td>\n",
       "      <td>1121076.47000</td>\n",
       "      <td>108072.79000</td>\n",
       "      <td>2016.00000</td>\n",
       "      <td>18933038.04000</td>\n",
       "      <td>18956479.74000</td>\n",
       "      <td>1381516.11000</td>\n",
       "    </tr>\n",
       "  </tbody>\n",
       "</table>\n",
       "</div>"
      ],
      "text/plain": [
       "      AveragePrice    Total Volume     Total Bags     Small Bags  \\\n",
       "count   1517.00000      1517.00000     1517.00000     1517.00000   \n",
       "mean       1.07499   1601879.06784   293597.41574   248773.59529   \n",
       "std        0.18889   4433142.82075   757976.53132   647476.52050   \n",
       "min        0.49000     38750.74000     3311.77000     3311.77000   \n",
       "25%        0.98000    147469.99000    36206.89000    29727.22000   \n",
       "50%        1.08000    402791.86000    73979.06000    62375.69000   \n",
       "75%        1.19000    981975.08000   157609.68000   146199.35000   \n",
       "max        1.68000  44655461.51000  6736304.04000  5893641.72000   \n",
       "\n",
       "          Large Bags   XLarge Bags        year             PL1  \\\n",
       "count     1517.00000    1517.00000  1517.00000      1517.00000   \n",
       "mean     42642.04937    2181.77107  2015.16282    646438.65411   \n",
       "std     118215.68184    7455.71214     0.36932   1947613.56974   \n",
       "min          0.00000       0.00000  2015.00000       467.72000   \n",
       "25%        540.74000       0.00000  2015.00000     20400.34000   \n",
       "50%       5044.35000       0.00000  2015.00000     81751.17000   \n",
       "75%      29267.67000     401.48000  2015.00000    377578.48000   \n",
       "max    1121076.47000  108072.79000  2016.00000  18933038.04000   \n",
       "\n",
       "                  PL2            PL3  \n",
       "count      1517.00000     1517.00000  \n",
       "mean     611437.50259    50405.49540  \n",
       "std     1672906.16466   137781.24924  \n",
       "min        1783.77000        0.00000  \n",
       "25%       41476.06000      911.25000  \n",
       "50%      118664.89000     7688.17000  \n",
       "75%      485150.34000    29167.30000  \n",
       "max    18956479.74000  1381516.11000  "
      ]
     },
     "execution_count": 43,
     "metadata": {},
     "output_type": "execute_result"
    }
   ],
   "source": [
    "df.describe().apply(lambda s: s.apply('{0:.5f}'.format))"
   ]
  },
  {
   "cell_type": "markdown",
   "id": "f9f4964c",
   "metadata": {},
   "source": [
    "Now we can understand the data.\n",
    "\n",
    "As per above observation:\n",
    "\n",
    "Mean is higher than median. Hence skewness is present and it is right skewed.\n",
    "Standard deviation is very high is some of the columns and even big difference in 75 percentile and Max, indicating the presence of outliers.\n",
    "Min of 0 in XLarge bags, we will have to check it and if require rectify it."
   ]
  },
  {
   "cell_type": "code",
   "execution_count": 44,
   "id": "678af3b8",
   "metadata": {},
   "outputs": [
    {
     "data": {
      "text/plain": [
       "conventional    1517\n",
       "Name: type, dtype: int64"
      ]
     },
     "execution_count": 44,
     "metadata": {},
     "output_type": "execute_result"
    }
   ],
   "source": [
    "df['type'].value_counts()"
   ]
  },
  {
   "cell_type": "markdown",
   "id": "700d490f",
   "metadata": {},
   "source": [
    "There is only type of Avacado that is conventional type\n",
    "\n"
   ]
  },
  {
   "cell_type": "code",
   "execution_count": 45,
   "id": "aa94473b",
   "metadata": {},
   "outputs": [
    {
     "data": {
      "text/plain": [
       "2015.0    1270\n",
       "2016.0     247\n",
       "Name: year, dtype: int64"
      ]
     },
     "execution_count": 45,
     "metadata": {},
     "output_type": "execute_result"
    }
   ],
   "source": [
    "df['year'].value_counts()"
   ]
  },
  {
   "cell_type": "markdown",
   "id": "52dd0512",
   "metadata": {},
   "source": [
    "We have data only for 2 years 2015 and 2016"
   ]
  },
  {
   "cell_type": "code",
   "execution_count": 46,
   "id": "9f5a5abd",
   "metadata": {},
   "outputs": [],
   "source": [
    "df.Date = df.Date.apply(pd.to_datetime)\n",
    "df['Month'] = df['Date'].apply(lambda x:x.month)\n",
    "df.drop('Date',axis=1,inplace=True)\n",
    "df.Month = df.Month.map({1:'JAN',2:'FEB',3:'MARCH',4:'APRIL',5:'MAY',6:'JUNE',7:'JULY',8:'AUG',9:'SEPT',10:'OCT',11:'NOV',12:'DEC'})"
   ]
  },
  {
   "cell_type": "code",
   "execution_count": 47,
   "id": "8ddd346e",
   "metadata": {},
   "outputs": [
    {
     "data": {
      "text/html": [
       "<div>\n",
       "<style scoped>\n",
       "    .dataframe tbody tr th:only-of-type {\n",
       "        vertical-align: middle;\n",
       "    }\n",
       "\n",
       "    .dataframe tbody tr th {\n",
       "        vertical-align: top;\n",
       "    }\n",
       "\n",
       "    .dataframe thead th {\n",
       "        text-align: right;\n",
       "    }\n",
       "</style>\n",
       "<table border=\"1\" class=\"dataframe\">\n",
       "  <thead>\n",
       "    <tr style=\"text-align: right;\">\n",
       "      <th></th>\n",
       "      <th>AveragePrice</th>\n",
       "      <th>Total Volume</th>\n",
       "      <th>Total Bags</th>\n",
       "      <th>Small Bags</th>\n",
       "      <th>Large Bags</th>\n",
       "      <th>XLarge Bags</th>\n",
       "      <th>type</th>\n",
       "      <th>year</th>\n",
       "      <th>region</th>\n",
       "      <th>PL1</th>\n",
       "      <th>PL2</th>\n",
       "      <th>PL3</th>\n",
       "      <th>Month</th>\n",
       "    </tr>\n",
       "  </thead>\n",
       "  <tbody>\n",
       "    <tr>\n",
       "      <th>0</th>\n",
       "      <td>1.33</td>\n",
       "      <td>64236.62</td>\n",
       "      <td>8696.87</td>\n",
       "      <td>8603.62</td>\n",
       "      <td>93.25</td>\n",
       "      <td>0.00</td>\n",
       "      <td>conventional</td>\n",
       "      <td>2015.0</td>\n",
       "      <td>Albany</td>\n",
       "      <td>1036.74</td>\n",
       "      <td>54454.85</td>\n",
       "      <td>48.16</td>\n",
       "      <td>DEC</td>\n",
       "    </tr>\n",
       "    <tr>\n",
       "      <th>1</th>\n",
       "      <td>1.35</td>\n",
       "      <td>54876.98</td>\n",
       "      <td>9505.56</td>\n",
       "      <td>9408.07</td>\n",
       "      <td>97.49</td>\n",
       "      <td>0.00</td>\n",
       "      <td>conventional</td>\n",
       "      <td>2015.0</td>\n",
       "      <td>Albany</td>\n",
       "      <td>674.28</td>\n",
       "      <td>44638.81</td>\n",
       "      <td>58.33</td>\n",
       "      <td>DEC</td>\n",
       "    </tr>\n",
       "    <tr>\n",
       "      <th>2</th>\n",
       "      <td>0.93</td>\n",
       "      <td>118220.22</td>\n",
       "      <td>8145.35</td>\n",
       "      <td>8042.21</td>\n",
       "      <td>103.14</td>\n",
       "      <td>0.00</td>\n",
       "      <td>conventional</td>\n",
       "      <td>2015.0</td>\n",
       "      <td>Albany</td>\n",
       "      <td>794.70</td>\n",
       "      <td>109149.67</td>\n",
       "      <td>130.50</td>\n",
       "      <td>DEC</td>\n",
       "    </tr>\n",
       "    <tr>\n",
       "      <th>3</th>\n",
       "      <td>1.08</td>\n",
       "      <td>78992.15</td>\n",
       "      <td>5811.16</td>\n",
       "      <td>5677.40</td>\n",
       "      <td>133.76</td>\n",
       "      <td>0.00</td>\n",
       "      <td>conventional</td>\n",
       "      <td>2015.0</td>\n",
       "      <td>Albany</td>\n",
       "      <td>1132.00</td>\n",
       "      <td>71976.41</td>\n",
       "      <td>72.58</td>\n",
       "      <td>JUNE</td>\n",
       "    </tr>\n",
       "    <tr>\n",
       "      <th>4</th>\n",
       "      <td>1.28</td>\n",
       "      <td>51039.60</td>\n",
       "      <td>6183.95</td>\n",
       "      <td>5986.26</td>\n",
       "      <td>197.69</td>\n",
       "      <td>0.00</td>\n",
       "      <td>conventional</td>\n",
       "      <td>2015.0</td>\n",
       "      <td>Albany</td>\n",
       "      <td>941.48</td>\n",
       "      <td>43838.39</td>\n",
       "      <td>75.78</td>\n",
       "      <td>NOV</td>\n",
       "    </tr>\n",
       "    <tr>\n",
       "      <th>...</th>\n",
       "      <td>...</td>\n",
       "      <td>...</td>\n",
       "      <td>...</td>\n",
       "      <td>...</td>\n",
       "      <td>...</td>\n",
       "      <td>...</td>\n",
       "      <td>...</td>\n",
       "      <td>...</td>\n",
       "      <td>...</td>\n",
       "      <td>...</td>\n",
       "      <td>...</td>\n",
       "      <td>...</td>\n",
       "      <td>...</td>\n",
       "    </tr>\n",
       "    <tr>\n",
       "      <th>1512</th>\n",
       "      <td>1.39</td>\n",
       "      <td>190846.01</td>\n",
       "      <td>59418.46</td>\n",
       "      <td>48823.53</td>\n",
       "      <td>10354.65</td>\n",
       "      <td>240.28</td>\n",
       "      <td>conventional</td>\n",
       "      <td>2016.0</td>\n",
       "      <td>Charlotte</td>\n",
       "      <td>57529.11</td>\n",
       "      <td>56366.66</td>\n",
       "      <td>17531.78</td>\n",
       "      <td>OCT</td>\n",
       "    </tr>\n",
       "    <tr>\n",
       "      <th>1513</th>\n",
       "      <td>1.51</td>\n",
       "      <td>178235.75</td>\n",
       "      <td>63300.70</td>\n",
       "      <td>54704.14</td>\n",
       "      <td>8596.56</td>\n",
       "      <td>0.00</td>\n",
       "      <td>conventional</td>\n",
       "      <td>2016.0</td>\n",
       "      <td>Charlotte</td>\n",
       "      <td>43325.87</td>\n",
       "      <td>52189.61</td>\n",
       "      <td>19419.57</td>\n",
       "      <td>SEPT</td>\n",
       "    </tr>\n",
       "    <tr>\n",
       "      <th>1514</th>\n",
       "      <td>1.48</td>\n",
       "      <td>178410.82</td>\n",
       "      <td>62415.77</td>\n",
       "      <td>53332.61</td>\n",
       "      <td>8258.16</td>\n",
       "      <td>825.00</td>\n",
       "      <td>conventional</td>\n",
       "      <td>2016.0</td>\n",
       "      <td>Charlotte</td>\n",
       "      <td>46364.75</td>\n",
       "      <td>52893.38</td>\n",
       "      <td>16736.92</td>\n",
       "      <td>FEB</td>\n",
       "    </tr>\n",
       "    <tr>\n",
       "      <th>1515</th>\n",
       "      <td>1.47</td>\n",
       "      <td>189131.52</td>\n",
       "      <td>63931.73</td>\n",
       "      <td>55653.47</td>\n",
       "      <td>8278.26</td>\n",
       "      <td>0.00</td>\n",
       "      <td>conventional</td>\n",
       "      <td>2016.0</td>\n",
       "      <td>Charlotte</td>\n",
       "      <td>54110.79</td>\n",
       "      <td>53593.58</td>\n",
       "      <td>17495.42</td>\n",
       "      <td>SEPT</td>\n",
       "    </tr>\n",
       "    <tr>\n",
       "      <th>1516</th>\n",
       "      <td>1.43</td>\n",
       "      <td>182978.30</td>\n",
       "      <td>69104.56</td>\n",
       "      <td>57456.21</td>\n",
       "      <td>11648.35</td>\n",
       "      <td>0.00</td>\n",
       "      <td>conventional</td>\n",
       "      <td>2016.0</td>\n",
       "      <td>Charlotte</td>\n",
       "      <td>43116.41</td>\n",
       "      <td>54193.42</td>\n",
       "      <td>16563.91</td>\n",
       "      <td>SEPT</td>\n",
       "    </tr>\n",
       "  </tbody>\n",
       "</table>\n",
       "<p>1517 rows × 13 columns</p>\n",
       "</div>"
      ],
      "text/plain": [
       "      AveragePrice  Total Volume  Total Bags  Small Bags  Large Bags  \\\n",
       "0             1.33      64236.62     8696.87     8603.62       93.25   \n",
       "1             1.35      54876.98     9505.56     9408.07       97.49   \n",
       "2             0.93     118220.22     8145.35     8042.21      103.14   \n",
       "3             1.08      78992.15     5811.16     5677.40      133.76   \n",
       "4             1.28      51039.60     6183.95     5986.26      197.69   \n",
       "...            ...           ...         ...         ...         ...   \n",
       "1512          1.39     190846.01    59418.46    48823.53    10354.65   \n",
       "1513          1.51     178235.75    63300.70    54704.14     8596.56   \n",
       "1514          1.48     178410.82    62415.77    53332.61     8258.16   \n",
       "1515          1.47     189131.52    63931.73    55653.47     8278.26   \n",
       "1516          1.43     182978.30    69104.56    57456.21    11648.35   \n",
       "\n",
       "      XLarge Bags          type    year     region       PL1        PL2  \\\n",
       "0            0.00  conventional  2015.0     Albany   1036.74   54454.85   \n",
       "1            0.00  conventional  2015.0     Albany    674.28   44638.81   \n",
       "2            0.00  conventional  2015.0     Albany    794.70  109149.67   \n",
       "3            0.00  conventional  2015.0     Albany   1132.00   71976.41   \n",
       "4            0.00  conventional  2015.0     Albany    941.48   43838.39   \n",
       "...           ...           ...     ...        ...       ...        ...   \n",
       "1512       240.28  conventional  2016.0  Charlotte  57529.11   56366.66   \n",
       "1513         0.00  conventional  2016.0  Charlotte  43325.87   52189.61   \n",
       "1514       825.00  conventional  2016.0  Charlotte  46364.75   52893.38   \n",
       "1515         0.00  conventional  2016.0  Charlotte  54110.79   53593.58   \n",
       "1516         0.00  conventional  2016.0  Charlotte  43116.41   54193.42   \n",
       "\n",
       "           PL3 Month  \n",
       "0        48.16   DEC  \n",
       "1        58.33   DEC  \n",
       "2       130.50   DEC  \n",
       "3        72.58  JUNE  \n",
       "4        75.78   NOV  \n",
       "...        ...   ...  \n",
       "1512  17531.78   OCT  \n",
       "1513  19419.57  SEPT  \n",
       "1514  16736.92   FEB  \n",
       "1515  17495.42  SEPT  \n",
       "1516  16563.91  SEPT  \n",
       "\n",
       "[1517 rows x 13 columns]"
      ]
     },
     "execution_count": 47,
     "metadata": {},
     "output_type": "execute_result"
    }
   ],
   "source": [
    "df"
   ]
  },
  {
   "cell_type": "code",
   "execution_count": 48,
   "id": "3d1c1b27",
   "metadata": {},
   "outputs": [
    {
     "data": {
      "text/plain": [
       "<AxesSubplot:xlabel='year', ylabel='AveragePrice'>"
      ]
     },
     "execution_count": 48,
     "metadata": {},
     "output_type": "execute_result"
    },
    {
     "data": {
      "image/png": "[encoded data removed]",
      "text/plain": [
       "<Figure size 432x288 with 1 Axes>"
      ]
     },
     "metadata": {
      "needs_background": "light"
     },
     "output_type": "display_data"
    }
   ],
   "source": [
    "sns.barplot(x='year',y='AveragePrice',data=df)"
   ]
  },
  {
   "cell_type": "markdown",
   "id": "8331fe1f",
   "metadata": {},
   "source": [
    "Prices were higher in 2016 as compared to 2015\n",
    "\n"
   ]
  },
  {
   "cell_type": "code",
   "execution_count": 49,
   "id": "8010626b",
   "metadata": {},
   "outputs": [
    {
     "data": {
      "text/plain": [
       "<AxesSubplot:xlabel='Month', ylabel='AveragePrice'>"
      ]
     },
     "execution_count": 49,
     "metadata": {},
     "output_type": "execute_result"
    },
    {
     "data": {
      "image/png": "[encoded data removed]",
      "text/plain": [
       "<Figure size 432x288 with 1 Axes>"
      ]
     },
     "metadata": {
      "needs_background": "light"
     },
     "output_type": "display_data"
    }
   ],
   "source": [
    "sns.barplot(x='Month',y='AveragePrice',data=df)"
   ]
  },
  {
   "cell_type": "markdown",
   "id": "5dc706a6",
   "metadata": {},
   "source": [
    "Average price remains same almost throughout a year"
   ]
  },
  {
   "cell_type": "code",
   "execution_count": 50,
   "id": "cb9eee15",
   "metadata": {},
   "outputs": [
    {
     "data": {
      "text/plain": [
       "<AxesSubplot:xlabel='year', ylabel='Total Volume'>"
      ]
     },
     "execution_count": 50,
     "metadata": {},
     "output_type": "execute_result"
    },
    {
     "data": {
      "image/png": "[encoded data removed]",
      "text/plain": [
       "<Figure size 432x288 with 1 Axes>"
      ]
     },
     "metadata": {
      "needs_background": "light"
     },
     "output_type": "display_data"
    }
   ],
   "source": [
    "sns.barplot(x='year',y='Total Volume',data=df)"
   ]
  },
  {
   "cell_type": "markdown",
   "id": "c2957083",
   "metadata": {},
   "source": [
    "Volume is same in both the year"
   ]
  },
  {
   "cell_type": "code",
   "execution_count": 51,
   "id": "0a529958",
   "metadata": {},
   "outputs": [
    {
     "data": {
      "text/plain": [
       "<AxesSubplot:xlabel='Month', ylabel='Total Volume'>"
      ]
     },
     "execution_count": 51,
     "metadata": {},
     "output_type": "execute_result"
    },
    {
     "data": {
      "image/png": "[encoded data removed]",
      "text/plain": [
       "<Figure size 432x288 with 1 Axes>"
      ]
     },
     "metadata": {
      "needs_background": "light"
     },
     "output_type": "display_data"
    }
   ],
   "source": [
    "sns.barplot(x='Month',y='Total Volume',data=df)"
   ]
  },
  {
   "cell_type": "markdown",
   "id": "e1290b21",
   "metadata": {},
   "source": [
    "Volume is high in Jan, April, May and Jul. Low Sep, Nov and Dec has low volume of sale\n",
    "\n"
   ]
  },
  {
   "cell_type": "code",
   "execution_count": 52,
   "id": "69b6f2fe",
   "metadata": {},
   "outputs": [
    {
     "data": {
      "text/plain": [
       "<AxesSubplot:xlabel='Month,year'>"
      ]
     },
     "execution_count": 52,
     "metadata": {},
     "output_type": "execute_result"
    },
    {
     "data": {
      "image/png": "[encoded data removed]",
      "text/plain": [
       "<Figure size 1080x720 with 1 Axes>"
      ]
     },
     "metadata": {
      "needs_background": "light"
     },
     "output_type": "display_data"
    }
   ],
   "source": [
    "df.groupby(['Month','year']).agg({'AveragePrice':np.mean}).plot.bar(figsize=(15, 10))"
   ]
  },
  {
   "cell_type": "markdown",
   "id": "6d9dcc6c",
   "metadata": {},
   "source": [
    "Price was highest in Nov 2016 and least in Jan2016\n",
    "\n"
   ]
  },
  {
   "cell_type": "code",
   "execution_count": 53,
   "id": "a2b22148",
   "metadata": {},
   "outputs": [
    {
     "data": {
      "text/plain": [
       "<AxesSubplot:xlabel='year', ylabel='PL1'>"
      ]
     },
     "execution_count": 53,
     "metadata": {},
     "output_type": "execute_result"
    },
    {
     "data": {
      "image/png": "[encoded data removed]",
      "text/plain": [
       "<Figure size 432x288 with 1 Axes>"
      ]
     },
     "metadata": {
      "needs_background": "light"
     },
     "output_type": "display_data"
    }
   ],
   "source": [
    "sns.barplot(y='PL1',x='year',data=df)"
   ]
  },
  {
   "cell_type": "markdown",
   "id": "d7baea01",
   "metadata": {},
   "source": [
    "Product label 1 has declined from 2015\n",
    "\n"
   ]
  },
  {
   "cell_type": "code",
   "execution_count": 54,
   "id": "ba70e654",
   "metadata": {},
   "outputs": [
    {
     "data": {
      "text/plain": [
       "<AxesSubplot:xlabel='year', ylabel='PL2'>"
      ]
     },
     "execution_count": 54,
     "metadata": {},
     "output_type": "execute_result"
    },
    {
     "data": {
      "image/png": "[encoded data removed]",
      "text/plain": [
       "<Figure size 432x288 with 1 Axes>"
      ]
     },
     "metadata": {
      "needs_background": "light"
     },
     "output_type": "display_data"
    }
   ],
   "source": [
    "sns.barplot(y='PL2',x='year',data=df)"
   ]
  },
  {
   "cell_type": "markdown",
   "id": "559bbc9d",
   "metadata": {},
   "source": [
    "Slight drop in PL2 demand can also be seen\n",
    "\n"
   ]
  },
  {
   "cell_type": "code",
   "execution_count": 55,
   "id": "cdb0aaa4",
   "metadata": {},
   "outputs": [
    {
     "data": {
      "text/plain": [
       "<AxesSubplot:xlabel='year', ylabel='PL3'>"
      ]
     },
     "execution_count": 55,
     "metadata": {},
     "output_type": "execute_result"
    },
    {
     "data": {
      "image/png": "[encoded data removed]",
      "text/plain": [
       "<Figure size 432x288 with 1 Axes>"
      ]
     },
     "metadata": {
      "needs_background": "light"
     },
     "output_type": "display_data"
    }
   ],
   "source": [
    "sns.barplot(y='PL3',x='year',data=df)\n"
   ]
  },
  {
   "cell_type": "markdown",
   "id": "ca873259",
   "metadata": {},
   "source": [
    "Sigificant rise in PL3 in 2016\n",
    "\n"
   ]
  },
  {
   "cell_type": "code",
   "execution_count": 56,
   "id": "9b00b347",
   "metadata": {},
   "outputs": [
    {
     "data": {
      "image/png": "[encoded data removed]",
      "text/plain": [
       "<Figure size 1224x576 with 1 Axes>"
      ]
     },
     "metadata": {
      "needs_background": "light"
     },
     "output_type": "display_data"
    }
   ],
   "source": [
    "plt.figure(figsize=(17,8))\n",
    "sns.barplot(x='region',y='AveragePrice',data=df)\n",
    "plt.xticks(rotation=90)\n",
    "plt.show()"
   ]
  },
  {
   "cell_type": "markdown",
   "id": "e4c793b1",
   "metadata": {},
   "source": [
    "Average Price is higher is Syracuse followed by Albany, Philadelphia, Charlotte and BuffaloRocsheter. Average price is very low in PhoenixTucson\n",
    "\n"
   ]
  },
  {
   "cell_type": "code",
   "execution_count": 57,
   "id": "c98d285e",
   "metadata": {},
   "outputs": [
    {
     "data": {
      "image/png": "[encoded data removed]",
      "text/plain": [
       "<Figure size 1224x576 with 1 Axes>"
      ]
     },
     "metadata": {
      "needs_background": "light"
     },
     "output_type": "display_data"
    }
   ],
   "source": [
    "plt.figure(figsize=(17,8))\n",
    "sns.barplot(x='region',y='Total Volume',data=df)\n",
    "plt.xticks(rotation=90)\n",
    "plt.show()"
   ]
  },
  {
   "cell_type": "markdown",
   "id": "6a7d63f9",
   "metadata": {},
   "source": [
    "Volume is very low in Syracuse explaining the reason of high price. California produces the high volume of Avocado.\n",
    "\n"
   ]
  },
  {
   "cell_type": "code",
   "execution_count": 58,
   "id": "b95f554c",
   "metadata": {},
   "outputs": [
    {
     "data": {
      "text/plain": [
       "<AxesSubplot:xlabel='region,year'>"
      ]
     },
     "execution_count": 58,
     "metadata": {},
     "output_type": "execute_result"
    },
    {
     "data": {
      "image/png": "[encoded data removed]",
      "text/plain": [
       "<Figure size 1080x720 with 1 Axes>"
      ]
     },
     "metadata": {
      "needs_background": "light"
     },
     "output_type": "display_data"
    }
   ],
   "source": [
    "df.groupby(['region','year']).agg({'AveragePrice':np.mean}).plot.bar(figsize=(15, 10))"
   ]
  },
  {
   "cell_type": "markdown",
   "id": "e0c7b1cf",
   "metadata": {},
   "source": [
    "Over the years Albany has the highest average price, followed by Charlotte. Dallas, PhoneixTucson remains the lowest with Average price\n",
    "\n"
   ]
  },
  {
   "cell_type": "code",
   "execution_count": 59,
   "id": "e18c41ab",
   "metadata": {},
   "outputs": [
    {
     "data": {
      "image/png": "[encoded data removed]",
      "text/plain": [
       "<Figure size 432x288 with 1 Axes>"
      ]
     },
     "metadata": {
      "needs_background": "light"
     },
     "output_type": "display_data"
    }
   ],
   "source": [
    "sns.lineplot(x=\"year\", y=\"AveragePrice\", data=df)\n",
    "plt.show()"
   ]
  },
  {
   "cell_type": "markdown",
   "id": "bb70b2c0",
   "metadata": {},
   "source": [
    "We can see that there is increase in average price from 2015\n",
    "\n"
   ]
  },
  {
   "cell_type": "code",
   "execution_count": 60,
   "id": "b19fa61f",
   "metadata": {},
   "outputs": [
    {
     "data": {
      "image/png": "[encoded data removed]",
      "text/plain": [
       "<Figure size 432x288 with 1 Axes>"
      ]
     },
     "metadata": {
      "needs_background": "light"
     },
     "output_type": "display_data"
    }
   ],
   "source": [
    "sns.lineplot(x=\"PL1\", y=\"AveragePrice\", data=df)\n",
    "plt.show()\n"
   ]
  },
  {
   "cell_type": "code",
   "execution_count": 61,
   "id": "e3038d33",
   "metadata": {},
   "outputs": [
    {
     "data": {
      "image/png": "[encoded data removed]",
      "text/plain": [
       "<Figure size 432x288 with 1 Axes>"
      ]
     },
     "metadata": {
      "needs_background": "light"
     },
     "output_type": "display_data"
    }
   ],
   "source": [
    "sns.lineplot(x=\"PL2\", y=\"AveragePrice\", data=df)\n",
    "plt.show()"
   ]
  },
  {
   "cell_type": "code",
   "execution_count": 62,
   "id": "dc2f82d9",
   "metadata": {},
   "outputs": [
    {
     "data": {
      "image/png": "[encoded data removed]",
      "text/plain": [
       "<Figure size 432x288 with 1 Axes>"
      ]
     },
     "metadata": {
      "needs_background": "light"
     },
     "output_type": "display_data"
    }
   ],
   "source": [
    "sns.lineplot(x=\"PL3\", y=\"AveragePrice\", data=df)\n",
    "plt.show()"
   ]
  },
  {
   "cell_type": "markdown",
   "id": "4d46f1f6",
   "metadata": {},
   "source": [
    "Above line plots confirm that PL3 price has decrease. We have also observe that volume has increase, hence the decrease in Avg price\n",
    "\n"
   ]
  },
  {
   "cell_type": "code",
   "execution_count": 63,
   "id": "bcd8b495",
   "metadata": {},
   "outputs": [
    {
     "data": {
      "text/plain": [
       "<AxesSubplot:>"
      ]
     },
     "execution_count": 63,
     "metadata": {},
     "output_type": "execute_result"
    },
    {
     "data": {
      "image/png": "[encoded data removed]",
      "text/plain": [
       "<Figure size 1080x720 with 2 Axes>"
      ]
     },
     "metadata": {
      "needs_background": "light"
     },
     "output_type": "display_data"
    }
   ],
   "source": [
    "df.corr()\n",
    "plt.figure(figsize=(15,10))\n",
    "sns.heatmap(df.corr(),annot=True,cmap=\"Blues\")"
   ]
  },
  {
   "cell_type": "markdown",
   "id": "0c1b19f6",
   "metadata": {},
   "source": [
    "Observation:\n",
    "\n",
    "We can see that Total Volume is highly co related with almost all the features.\n",
    "\n",
    "Total Bags, Small Bags and Large Bags are high corelated among themselves as well as with Total Volume. Infact if we do the maths Total Volume= TotalBags + PL1+ PL2 + PL3.\n",
    "\n",
    "Lets create the column for all the numerical features for further visualization."
   ]
  },
  {
   "cell_type": "code",
   "execution_count": 64,
   "id": "bb757a67",
   "metadata": {},
   "outputs": [],
   "source": [
    "columns=['AveragePrice','Total Volume','Total Bags','Small Bags','Large Bags','XLarge Bags','PL1','PL2','PL3']"
   ]
  },
  {
   "cell_type": "code",
   "execution_count": 65,
   "id": "c340fb55",
   "metadata": {},
   "outputs": [],
   "source": [
    "df.drop(['type'],axis=1,inplace=True)"
   ]
  },
  {
   "cell_type": "code",
   "execution_count": 66,
   "id": "79831afc",
   "metadata": {},
   "outputs": [
    {
     "data": {
      "image/png": "[encoded data removed]",
      "text/plain": [
       "<Figure size 432x288 with 1 Axes>"
      ]
     },
     "metadata": {
      "needs_background": "light"
     },
     "output_type": "display_data"
    },
    {
     "data": {
      "image/png": "[encoded data removed]",
      "text/plain": [
       "<Figure size 432x288 with 1 Axes>"
      ]
     },
     "metadata": {
      "needs_background": "light"
     },
     "output_type": "display_data"
    },
    {
     "data": {
      "image/png": "[encoded data removed]",
      "text/plain": [
       "<Figure size 432x288 with 1 Axes>"
      ]
     },
     "metadata": {
      "needs_background": "light"
     },
     "output_type": "display_data"
    },
    {
     "data": {
      "image/png": "[encoded data removed]",
      "text/plain": [
       "<Figure size 432x288 with 1 Axes>"
      ]
     },
     "metadata": {
      "needs_background": "light"
     },
     "output_type": "display_data"
    },
    {
     "data": {
      "image/png": "[encoded data removed]",
      "text/plain": [
       "<Figure size 432x288 with 1 Axes>"
      ]
     },
     "metadata": {
      "needs_background": "light"
     },
     "output_type": "display_data"
    },
    {
     "data": {
      "image/png": "[encoded data removed]",
      "text/plain": [
       "<Figure size 432x288 with 1 Axes>"
      ]
     },
     "metadata": {
      "needs_background": "light"
     },
     "output_type": "display_data"
    },
    {
     "data": {
      "image/png": "[encoded data removed]",
      "text/plain": [
       "<Figure size 432x288 with 1 Axes>"
      ]
     },
     "metadata": {
      "needs_background": "light"
     },
     "output_type": "display_data"
    },
    {
     "data": {
      "image/png": "[encoded data removed]",
      "text/plain": [
       "<Figure size 432x288 with 1 Axes>"
      ]
     },
     "metadata": {
      "needs_background": "light"
     },
     "output_type": "display_data"
    },
    {
     "data": {
      "image/png": "[encoded data removed]",
      "text/plain": [
       "<Figure size 432x288 with 1 Axes>"
      ]
     },
     "metadata": {
      "needs_background": "light"
     },
     "output_type": "display_data"
    }
   ],
   "source": [
    "for i in columns:\n",
    "    sns.distplot(df[i])\n",
    "    plt.show()"
   ]
  },
  {
   "cell_type": "markdown",
   "id": "267e0d53",
   "metadata": {},
   "source": [
    "Most of the features are right skewed indicating the presence of outliers.\n"
   ]
  },
  {
   "cell_type": "code",
   "execution_count": 67,
   "id": "b625c5bc",
   "metadata": {},
   "outputs": [
    {
     "data": {
      "image/png": "[encoded data removed]",
      "text/plain": [
       "<Figure size 432x288 with 1 Axes>"
      ]
     },
     "metadata": {
      "needs_background": "light"
     },
     "output_type": "display_data"
    },
    {
     "data": {
      "image/png": "[encoded data removed]",
      "text/plain": [
       "<Figure size 432x288 with 1 Axes>"
      ]
     },
     "metadata": {
      "needs_background": "light"
     },
     "output_type": "display_data"
    },
    {
     "data": {
      "image/png": "[encoded data removed]",
      "text/plain": [
       "<Figure size 432x288 with 1 Axes>"
      ]
     },
     "metadata": {
      "needs_background": "light"
     },
     "output_type": "display_data"
    },
    {
     "data": {
      "image/png": "[encoded data removed]",
      "text/plain": [
       "<Figure size 432x288 with 1 Axes>"
      ]
     },
     "metadata": {
      "needs_background": "light"
     },
     "output_type": "display_data"
    },
    {
     "data": {
      "image/png": "[encoded data removed]",
      "text/plain": [
       "<Figure size 432x288 with 1 Axes>"
      ]
     },
     "metadata": {
      "needs_background": "light"
     },
     "output_type": "display_data"
    },
    {
     "data": {
      "image/png": "[encoded data removed]",
      "text/plain": [
       "<Figure size 432x288 with 1 Axes>"
      ]
     },
     "metadata": {
      "needs_background": "light"
     },
     "output_type": "display_data"
    },
    {
     "data": {
      "image/png": "[encoded data removed]",
      "text/plain": [
       "<Figure size 432x288 with 1 Axes>"
      ]
     },
     "metadata": {
      "needs_background": "light"
     },
     "output_type": "display_data"
    },
    {
     "data": {
      "image/png": "[encoded data removed]",
      "text/plain": [
       "<Figure size 432x288 with 1 Axes>"
      ]
     },
     "metadata": {
      "needs_background": "light"
     },
     "output_type": "display_data"
    },
    {
     "data": {
      "image/png": "[encoded data removed]",
      "text/plain": [
       "<Figure size 432x288 with 1 Axes>"
      ]
     },
     "metadata": {
      "needs_background": "light"
     },
     "output_type": "display_data"
    }
   ],
   "source": [
    "for i in columns:\n",
    "    sns.boxplot(df[i])\n",
    "    plt.show()"
   ]
  },
  {
   "cell_type": "markdown",
   "id": "79776d0b",
   "metadata": {},
   "source": [
    "There are many outliers present in the dataset and that needs to be removed.\n",
    "\n",
    "But before moving further we will change all our categorical data into numnerical using label encoder."
   ]
  },
  {
   "cell_type": "code",
   "execution_count": 68,
   "id": "e5185653",
   "metadata": {},
   "outputs": [
    {
     "data": {
      "text/html": [
       "<div>\n",
       "<style scoped>\n",
       "    .dataframe tbody tr th:only-of-type {\n",
       "        vertical-align: middle;\n",
       "    }\n",
       "\n",
       "    .dataframe tbody tr th {\n",
       "        vertical-align: top;\n",
       "    }\n",
       "\n",
       "    .dataframe thead th {\n",
       "        text-align: right;\n",
       "    }\n",
       "</style>\n",
       "<table border=\"1\" class=\"dataframe\">\n",
       "  <thead>\n",
       "    <tr style=\"text-align: right;\">\n",
       "      <th></th>\n",
       "      <th>AveragePrice</th>\n",
       "      <th>Total Volume</th>\n",
       "      <th>Total Bags</th>\n",
       "      <th>Small Bags</th>\n",
       "      <th>Large Bags</th>\n",
       "      <th>XLarge Bags</th>\n",
       "      <th>year</th>\n",
       "      <th>region</th>\n",
       "      <th>PL1</th>\n",
       "      <th>PL2</th>\n",
       "      <th>PL3</th>\n",
       "      <th>Month</th>\n",
       "    </tr>\n",
       "  </thead>\n",
       "  <tbody>\n",
       "    <tr>\n",
       "      <th>0</th>\n",
       "      <td>1.33</td>\n",
       "      <td>64236.62</td>\n",
       "      <td>8696.87</td>\n",
       "      <td>8603.62</td>\n",
       "      <td>93.25</td>\n",
       "      <td>0.00</td>\n",
       "      <td>2015.0</td>\n",
       "      <td>Albany</td>\n",
       "      <td>1036.74</td>\n",
       "      <td>54454.85</td>\n",
       "      <td>48.16</td>\n",
       "      <td>DEC</td>\n",
       "    </tr>\n",
       "    <tr>\n",
       "      <th>1</th>\n",
       "      <td>1.35</td>\n",
       "      <td>54876.98</td>\n",
       "      <td>9505.56</td>\n",
       "      <td>9408.07</td>\n",
       "      <td>97.49</td>\n",
       "      <td>0.00</td>\n",
       "      <td>2015.0</td>\n",
       "      <td>Albany</td>\n",
       "      <td>674.28</td>\n",
       "      <td>44638.81</td>\n",
       "      <td>58.33</td>\n",
       "      <td>DEC</td>\n",
       "    </tr>\n",
       "    <tr>\n",
       "      <th>2</th>\n",
       "      <td>0.93</td>\n",
       "      <td>118220.22</td>\n",
       "      <td>8145.35</td>\n",
       "      <td>8042.21</td>\n",
       "      <td>103.14</td>\n",
       "      <td>0.00</td>\n",
       "      <td>2015.0</td>\n",
       "      <td>Albany</td>\n",
       "      <td>794.70</td>\n",
       "      <td>109149.67</td>\n",
       "      <td>130.50</td>\n",
       "      <td>DEC</td>\n",
       "    </tr>\n",
       "    <tr>\n",
       "      <th>3</th>\n",
       "      <td>1.08</td>\n",
       "      <td>78992.15</td>\n",
       "      <td>5811.16</td>\n",
       "      <td>5677.40</td>\n",
       "      <td>133.76</td>\n",
       "      <td>0.00</td>\n",
       "      <td>2015.0</td>\n",
       "      <td>Albany</td>\n",
       "      <td>1132.00</td>\n",
       "      <td>71976.41</td>\n",
       "      <td>72.58</td>\n",
       "      <td>JUNE</td>\n",
       "    </tr>\n",
       "    <tr>\n",
       "      <th>4</th>\n",
       "      <td>1.28</td>\n",
       "      <td>51039.60</td>\n",
       "      <td>6183.95</td>\n",
       "      <td>5986.26</td>\n",
       "      <td>197.69</td>\n",
       "      <td>0.00</td>\n",
       "      <td>2015.0</td>\n",
       "      <td>Albany</td>\n",
       "      <td>941.48</td>\n",
       "      <td>43838.39</td>\n",
       "      <td>75.78</td>\n",
       "      <td>NOV</td>\n",
       "    </tr>\n",
       "    <tr>\n",
       "      <th>...</th>\n",
       "      <td>...</td>\n",
       "      <td>...</td>\n",
       "      <td>...</td>\n",
       "      <td>...</td>\n",
       "      <td>...</td>\n",
       "      <td>...</td>\n",
       "      <td>...</td>\n",
       "      <td>...</td>\n",
       "      <td>...</td>\n",
       "      <td>...</td>\n",
       "      <td>...</td>\n",
       "      <td>...</td>\n",
       "    </tr>\n",
       "    <tr>\n",
       "      <th>1512</th>\n",
       "      <td>1.39</td>\n",
       "      <td>190846.01</td>\n",
       "      <td>59418.46</td>\n",
       "      <td>48823.53</td>\n",
       "      <td>10354.65</td>\n",
       "      <td>240.28</td>\n",
       "      <td>2016.0</td>\n",
       "      <td>Charlotte</td>\n",
       "      <td>57529.11</td>\n",
       "      <td>56366.66</td>\n",
       "      <td>17531.78</td>\n",
       "      <td>OCT</td>\n",
       "    </tr>\n",
       "    <tr>\n",
       "      <th>1513</th>\n",
       "      <td>1.51</td>\n",
       "      <td>178235.75</td>\n",
       "      <td>63300.70</td>\n",
       "      <td>54704.14</td>\n",
       "      <td>8596.56</td>\n",
       "      <td>0.00</td>\n",
       "      <td>2016.0</td>\n",
       "      <td>Charlotte</td>\n",
       "      <td>43325.87</td>\n",
       "      <td>52189.61</td>\n",
       "      <td>19419.57</td>\n",
       "      <td>SEPT</td>\n",
       "    </tr>\n",
       "    <tr>\n",
       "      <th>1514</th>\n",
       "      <td>1.48</td>\n",
       "      <td>178410.82</td>\n",
       "      <td>62415.77</td>\n",
       "      <td>53332.61</td>\n",
       "      <td>8258.16</td>\n",
       "      <td>825.00</td>\n",
       "      <td>2016.0</td>\n",
       "      <td>Charlotte</td>\n",
       "      <td>46364.75</td>\n",
       "      <td>52893.38</td>\n",
       "      <td>16736.92</td>\n",
       "      <td>FEB</td>\n",
       "    </tr>\n",
       "    <tr>\n",
       "      <th>1515</th>\n",
       "      <td>1.47</td>\n",
       "      <td>189131.52</td>\n",
       "      <td>63931.73</td>\n",
       "      <td>55653.47</td>\n",
       "      <td>8278.26</td>\n",
       "      <td>0.00</td>\n",
       "      <td>2016.0</td>\n",
       "      <td>Charlotte</td>\n",
       "      <td>54110.79</td>\n",
       "      <td>53593.58</td>\n",
       "      <td>17495.42</td>\n",
       "      <td>SEPT</td>\n",
       "    </tr>\n",
       "    <tr>\n",
       "      <th>1516</th>\n",
       "      <td>1.43</td>\n",
       "      <td>182978.30</td>\n",
       "      <td>69104.56</td>\n",
       "      <td>57456.21</td>\n",
       "      <td>11648.35</td>\n",
       "      <td>0.00</td>\n",
       "      <td>2016.0</td>\n",
       "      <td>Charlotte</td>\n",
       "      <td>43116.41</td>\n",
       "      <td>54193.42</td>\n",
       "      <td>16563.91</td>\n",
       "      <td>SEPT</td>\n",
       "    </tr>\n",
       "  </tbody>\n",
       "</table>\n",
       "<p>1517 rows × 12 columns</p>\n",
       "</div>"
      ],
      "text/plain": [
       "      AveragePrice  Total Volume  Total Bags  Small Bags  Large Bags  \\\n",
       "0             1.33      64236.62     8696.87     8603.62       93.25   \n",
       "1             1.35      54876.98     9505.56     9408.07       97.49   \n",
       "2             0.93     118220.22     8145.35     8042.21      103.14   \n",
       "3             1.08      78992.15     5811.16     5677.40      133.76   \n",
       "4             1.28      51039.60     6183.95     5986.26      197.69   \n",
       "...            ...           ...         ...         ...         ...   \n",
       "1512          1.39     190846.01    59418.46    48823.53    10354.65   \n",
       "1513          1.51     178235.75    63300.70    54704.14     8596.56   \n",
       "1514          1.48     178410.82    62415.77    53332.61     8258.16   \n",
       "1515          1.47     189131.52    63931.73    55653.47     8278.26   \n",
       "1516          1.43     182978.30    69104.56    57456.21    11648.35   \n",
       "\n",
       "      XLarge Bags    year     region       PL1        PL2       PL3 Month  \n",
       "0            0.00  2015.0     Albany   1036.74   54454.85     48.16   DEC  \n",
       "1            0.00  2015.0     Albany    674.28   44638.81     58.33   DEC  \n",
       "2            0.00  2015.0     Albany    794.70  109149.67    130.50   DEC  \n",
       "3            0.00  2015.0     Albany   1132.00   71976.41     72.58  JUNE  \n",
       "4            0.00  2015.0     Albany    941.48   43838.39     75.78   NOV  \n",
       "...           ...     ...        ...       ...        ...       ...   ...  \n",
       "1512       240.28  2016.0  Charlotte  57529.11   56366.66  17531.78   OCT  \n",
       "1513         0.00  2016.0  Charlotte  43325.87   52189.61  19419.57  SEPT  \n",
       "1514       825.00  2016.0  Charlotte  46364.75   52893.38  16736.92   FEB  \n",
       "1515         0.00  2016.0  Charlotte  54110.79   53593.58  17495.42  SEPT  \n",
       "1516         0.00  2016.0  Charlotte  43116.41   54193.42  16563.91  SEPT  \n",
       "\n",
       "[1517 rows x 12 columns]"
      ]
     },
     "execution_count": 68,
     "metadata": {},
     "output_type": "execute_result"
    }
   ],
   "source": [
    "df"
   ]
  },
  {
   "cell_type": "markdown",
   "id": "af17cffd",
   "metadata": {},
   "source": [
    "We will have to convert the categorical feature into numerical using Label encoder.\n",
    "\n"
   ]
  },
  {
   "cell_type": "code",
   "execution_count": 70,
   "id": "7e29bf4f",
   "metadata": {},
   "outputs": [],
   "source": [
    "columns_cat=['year','Month','region']"
   ]
  },
  {
   "cell_type": "code",
   "execution_count": 71,
   "id": "9725501c",
   "metadata": {},
   "outputs": [],
   "source": [
    "from sklearn.preprocessing import LabelEncoder\n",
    "le=LabelEncoder()"
   ]
  },
  {
   "cell_type": "code",
   "execution_count": 72,
   "id": "1f27ec74",
   "metadata": {},
   "outputs": [],
   "source": [
    "for i in range(len(columns_cat)):\n",
    "    df[columns_cat[i]]=le.fit_transform(df[columns_cat[i]])"
   ]
  },
  {
   "cell_type": "code",
   "execution_count": 73,
   "id": "70b93e91",
   "metadata": {},
   "outputs": [
    {
     "data": {
      "text/html": [
       "<div>\n",
       "<style scoped>\n",
       "    .dataframe tbody tr th:only-of-type {\n",
       "        vertical-align: middle;\n",
       "    }\n",
       "\n",
       "    .dataframe tbody tr th {\n",
       "        vertical-align: top;\n",
       "    }\n",
       "\n",
       "    .dataframe thead th {\n",
       "        text-align: right;\n",
       "    }\n",
       "</style>\n",
       "<table border=\"1\" class=\"dataframe\">\n",
       "  <thead>\n",
       "    <tr style=\"text-align: right;\">\n",
       "      <th></th>\n",
       "      <th>AveragePrice</th>\n",
       "      <th>Total Volume</th>\n",
       "      <th>Total Bags</th>\n",
       "      <th>Small Bags</th>\n",
       "      <th>Large Bags</th>\n",
       "      <th>XLarge Bags</th>\n",
       "      <th>year</th>\n",
       "      <th>region</th>\n",
       "      <th>PL1</th>\n",
       "      <th>PL2</th>\n",
       "      <th>PL3</th>\n",
       "      <th>Month</th>\n",
       "    </tr>\n",
       "  </thead>\n",
       "  <tbody>\n",
       "    <tr>\n",
       "      <th>0</th>\n",
       "      <td>1.33</td>\n",
       "      <td>64236.62</td>\n",
       "      <td>8696.87</td>\n",
       "      <td>8603.62</td>\n",
       "      <td>93.25</td>\n",
       "      <td>0.00</td>\n",
       "      <td>0</td>\n",
       "      <td>0</td>\n",
       "      <td>1036.74</td>\n",
       "      <td>54454.85</td>\n",
       "      <td>48.16</td>\n",
       "      <td>2</td>\n",
       "    </tr>\n",
       "    <tr>\n",
       "      <th>1</th>\n",
       "      <td>1.35</td>\n",
       "      <td>54876.98</td>\n",
       "      <td>9505.56</td>\n",
       "      <td>9408.07</td>\n",
       "      <td>97.49</td>\n",
       "      <td>0.00</td>\n",
       "      <td>0</td>\n",
       "      <td>0</td>\n",
       "      <td>674.28</td>\n",
       "      <td>44638.81</td>\n",
       "      <td>58.33</td>\n",
       "      <td>2</td>\n",
       "    </tr>\n",
       "    <tr>\n",
       "      <th>2</th>\n",
       "      <td>0.93</td>\n",
       "      <td>118220.22</td>\n",
       "      <td>8145.35</td>\n",
       "      <td>8042.21</td>\n",
       "      <td>103.14</td>\n",
       "      <td>0.00</td>\n",
       "      <td>0</td>\n",
       "      <td>0</td>\n",
       "      <td>794.70</td>\n",
       "      <td>109149.67</td>\n",
       "      <td>130.50</td>\n",
       "      <td>2</td>\n",
       "    </tr>\n",
       "    <tr>\n",
       "      <th>3</th>\n",
       "      <td>1.08</td>\n",
       "      <td>78992.15</td>\n",
       "      <td>5811.16</td>\n",
       "      <td>5677.40</td>\n",
       "      <td>133.76</td>\n",
       "      <td>0.00</td>\n",
       "      <td>0</td>\n",
       "      <td>0</td>\n",
       "      <td>1132.00</td>\n",
       "      <td>71976.41</td>\n",
       "      <td>72.58</td>\n",
       "      <td>6</td>\n",
       "    </tr>\n",
       "    <tr>\n",
       "      <th>4</th>\n",
       "      <td>1.28</td>\n",
       "      <td>51039.60</td>\n",
       "      <td>6183.95</td>\n",
       "      <td>5986.26</td>\n",
       "      <td>197.69</td>\n",
       "      <td>0.00</td>\n",
       "      <td>0</td>\n",
       "      <td>0</td>\n",
       "      <td>941.48</td>\n",
       "      <td>43838.39</td>\n",
       "      <td>75.78</td>\n",
       "      <td>9</td>\n",
       "    </tr>\n",
       "    <tr>\n",
       "      <th>...</th>\n",
       "      <td>...</td>\n",
       "      <td>...</td>\n",
       "      <td>...</td>\n",
       "      <td>...</td>\n",
       "      <td>...</td>\n",
       "      <td>...</td>\n",
       "      <td>...</td>\n",
       "      <td>...</td>\n",
       "      <td>...</td>\n",
       "      <td>...</td>\n",
       "      <td>...</td>\n",
       "      <td>...</td>\n",
       "    </tr>\n",
       "    <tr>\n",
       "      <th>1512</th>\n",
       "      <td>1.39</td>\n",
       "      <td>190846.01</td>\n",
       "      <td>59418.46</td>\n",
       "      <td>48823.53</td>\n",
       "      <td>10354.65</td>\n",
       "      <td>240.28</td>\n",
       "      <td>1</td>\n",
       "      <td>7</td>\n",
       "      <td>57529.11</td>\n",
       "      <td>56366.66</td>\n",
       "      <td>17531.78</td>\n",
       "      <td>10</td>\n",
       "    </tr>\n",
       "    <tr>\n",
       "      <th>1513</th>\n",
       "      <td>1.51</td>\n",
       "      <td>178235.75</td>\n",
       "      <td>63300.70</td>\n",
       "      <td>54704.14</td>\n",
       "      <td>8596.56</td>\n",
       "      <td>0.00</td>\n",
       "      <td>1</td>\n",
       "      <td>7</td>\n",
       "      <td>43325.87</td>\n",
       "      <td>52189.61</td>\n",
       "      <td>19419.57</td>\n",
       "      <td>11</td>\n",
       "    </tr>\n",
       "    <tr>\n",
       "      <th>1514</th>\n",
       "      <td>1.48</td>\n",
       "      <td>178410.82</td>\n",
       "      <td>62415.77</td>\n",
       "      <td>53332.61</td>\n",
       "      <td>8258.16</td>\n",
       "      <td>825.00</td>\n",
       "      <td>1</td>\n",
       "      <td>7</td>\n",
       "      <td>46364.75</td>\n",
       "      <td>52893.38</td>\n",
       "      <td>16736.92</td>\n",
       "      <td>3</td>\n",
       "    </tr>\n",
       "    <tr>\n",
       "      <th>1515</th>\n",
       "      <td>1.47</td>\n",
       "      <td>189131.52</td>\n",
       "      <td>63931.73</td>\n",
       "      <td>55653.47</td>\n",
       "      <td>8278.26</td>\n",
       "      <td>0.00</td>\n",
       "      <td>1</td>\n",
       "      <td>7</td>\n",
       "      <td>54110.79</td>\n",
       "      <td>53593.58</td>\n",
       "      <td>17495.42</td>\n",
       "      <td>11</td>\n",
       "    </tr>\n",
       "    <tr>\n",
       "      <th>1516</th>\n",
       "      <td>1.43</td>\n",
       "      <td>182978.30</td>\n",
       "      <td>69104.56</td>\n",
       "      <td>57456.21</td>\n",
       "      <td>11648.35</td>\n",
       "      <td>0.00</td>\n",
       "      <td>1</td>\n",
       "      <td>7</td>\n",
       "      <td>43116.41</td>\n",
       "      <td>54193.42</td>\n",
       "      <td>16563.91</td>\n",
       "      <td>11</td>\n",
       "    </tr>\n",
       "  </tbody>\n",
       "</table>\n",
       "<p>1517 rows × 12 columns</p>\n",
       "</div>"
      ],
      "text/plain": [
       "      AveragePrice  Total Volume  Total Bags  Small Bags  Large Bags  \\\n",
       "0             1.33      64236.62     8696.87     8603.62       93.25   \n",
       "1             1.35      54876.98     9505.56     9408.07       97.49   \n",
       "2             0.93     118220.22     8145.35     8042.21      103.14   \n",
       "3             1.08      78992.15     5811.16     5677.40      133.76   \n",
       "4             1.28      51039.60     6183.95     5986.26      197.69   \n",
       "...            ...           ...         ...         ...         ...   \n",
       "1512          1.39     190846.01    59418.46    48823.53    10354.65   \n",
       "1513          1.51     178235.75    63300.70    54704.14     8596.56   \n",
       "1514          1.48     178410.82    62415.77    53332.61     8258.16   \n",
       "1515          1.47     189131.52    63931.73    55653.47     8278.26   \n",
       "1516          1.43     182978.30    69104.56    57456.21    11648.35   \n",
       "\n",
       "      XLarge Bags  year  region       PL1        PL2       PL3  Month  \n",
       "0            0.00     0       0   1036.74   54454.85     48.16      2  \n",
       "1            0.00     0       0    674.28   44638.81     58.33      2  \n",
       "2            0.00     0       0    794.70  109149.67    130.50      2  \n",
       "3            0.00     0       0   1132.00   71976.41     72.58      6  \n",
       "4            0.00     0       0    941.48   43838.39     75.78      9  \n",
       "...           ...   ...     ...       ...        ...       ...    ...  \n",
       "1512       240.28     1       7  57529.11   56366.66  17531.78     10  \n",
       "1513         0.00     1       7  43325.87   52189.61  19419.57     11  \n",
       "1514       825.00     1       7  46364.75   52893.38  16736.92      3  \n",
       "1515         0.00     1       7  54110.79   53593.58  17495.42     11  \n",
       "1516         0.00     1       7  43116.41   54193.42  16563.91     11  \n",
       "\n",
       "[1517 rows x 12 columns]"
      ]
     },
     "execution_count": 73,
     "metadata": {},
     "output_type": "execute_result"
    }
   ],
   "source": [
    "df"
   ]
  },
  {
   "cell_type": "markdown",
   "id": "ef4fa0ec",
   "metadata": {},
   "source": [
    "Done we have change the 3 columns to numerical\n",
    "\n",
    "Lets treat the outliers using Zscore\n",
    "\n",
    "Importing the library for Zscore"
   ]
  },
  {
   "cell_type": "code",
   "execution_count": 74,
   "id": "f080e4a4",
   "metadata": {},
   "outputs": [],
   "source": [
    "from scipy.stats import zscore\n"
   ]
  },
  {
   "cell_type": "code",
   "execution_count": 75,
   "id": "1efdfe78",
   "metadata": {},
   "outputs": [
    {
     "name": "stdout",
     "output_type": "stream",
     "text": [
      "(array([ 398,  401,  409,  412,  412,  760, 1016, 1017, 1059, 1182, 1182,\n",
      "       1182, 1182, 1182, 1182, 1182, 1182, 1183, 1183, 1183, 1183, 1183,\n",
      "       1183, 1183, 1184, 1184, 1184, 1184, 1184, 1184, 1184, 1184, 1185,\n",
      "       1185, 1185, 1185, 1185, 1185, 1185, 1186, 1186, 1186, 1186, 1186,\n",
      "       1186, 1186, 1187, 1187, 1187, 1187, 1187, 1187, 1187, 1187, 1188,\n",
      "       1188, 1188, 1188, 1188, 1188, 1188, 1189, 1189, 1189, 1189, 1189,\n",
      "       1189, 1189, 1189, 1190, 1190, 1190, 1190, 1190, 1190, 1190, 1190,\n",
      "       1191, 1191, 1191, 1191, 1191, 1191, 1191, 1191, 1192, 1192, 1192,\n",
      "       1192, 1192, 1192, 1192, 1193, 1193, 1193, 1193, 1193, 1193, 1193,\n",
      "       1194, 1194, 1194, 1194, 1194, 1194, 1194, 1195, 1195, 1195, 1195,\n",
      "       1195, 1195, 1195, 1195, 1196, 1196, 1196, 1196, 1196, 1196, 1196,\n",
      "       1197, 1197, 1197, 1197, 1197, 1197, 1197, 1198, 1198, 1198, 1198,\n",
      "       1198, 1198, 1198, 1198, 1199, 1199, 1199, 1199, 1199, 1199, 1199,\n",
      "       1200, 1200, 1200, 1200, 1200, 1200, 1200, 1201, 1201, 1201, 1201,\n",
      "       1201, 1201, 1201, 1202, 1202, 1202, 1202, 1202, 1202, 1202, 1202,\n",
      "       1203, 1203, 1203, 1203, 1203, 1203, 1203, 1204, 1204, 1204, 1204,\n",
      "       1204, 1204, 1204, 1205, 1205, 1205, 1205, 1205, 1205, 1205, 1206,\n",
      "       1206, 1206, 1206, 1206, 1206, 1206, 1207, 1208, 1209, 1210, 1212,\n",
      "       1213, 1215, 1216, 1217, 1218, 1222, 1411, 1450, 1451, 1452, 1453,\n",
      "       1454, 1455, 1456, 1457, 1457, 1458, 1459, 1460, 1461, 1462, 1463,\n",
      "       1464, 1465, 1466, 1467, 1468, 1469, 1470, 1471, 1472, 1473, 1474,\n",
      "       1475, 1476, 1477, 1478, 1479, 1480, 1481, 1483, 1483, 1484, 1495,\n",
      "       1496, 1496], dtype=int64), array([ 5,  5,  5,  5, 10,  0,  5,  5,  4,  1,  2,  3,  4,  5,  8,  9, 10,\n",
      "        1,  2,  3,  4,  8,  9, 10,  1,  2,  3,  4,  5,  8,  9, 10,  1,  2,\n",
      "        3,  4,  8,  9, 10,  1,  2,  3,  4,  8,  9, 10,  1,  2,  3,  4,  5,\n",
      "        8,  9, 10,  1,  2,  3,  4,  8,  9, 10,  1,  2,  3,  4,  5,  8,  9,\n",
      "       10,  1,  2,  3,  4,  5,  8,  9, 10,  1,  2,  3,  4,  5,  8,  9, 10,\n",
      "        1,  2,  3,  4,  8,  9, 10,  1,  2,  3,  4,  8,  9, 10,  1,  2,  3,\n",
      "        4,  8,  9, 10,  1,  2,  3,  4,  5,  8,  9, 10,  1,  2,  3,  4,  8,\n",
      "        9, 10,  1,  2,  3,  4,  8,  9, 10,  1,  2,  3,  4,  5,  8,  9, 10,\n",
      "        1,  2,  3,  4,  8,  9, 10,  1,  2,  3,  4,  8,  9, 10,  1,  2,  3,\n",
      "        4,  8,  9, 10,  1,  2,  3,  4,  5,  8,  9, 10,  1,  2,  3,  4,  8,\n",
      "        9, 10,  1,  2,  3,  4,  8,  9, 10,  1,  2,  3,  4,  8,  9, 10,  1,\n",
      "        2,  3,  4,  8,  9, 10,  4,  4,  4,  4,  4,  4,  4,  4,  4,  4,  4,\n",
      "        0,  5,  5,  5,  5,  5,  5,  5,  0,  5,  0,  5,  5,  5,  5,  5,  5,\n",
      "        5,  5,  5,  5,  5,  5,  5,  5,  5,  5,  5,  5,  5,  5,  5,  5,  5,\n",
      "        4,  5,  4,  3,  2,  3], dtype=int64))\n"
     ]
    }
   ],
   "source": [
    "zscr=np.abs(zscore(df))\n",
    "\n",
    "threshold=3\n",
    "print(np.where(zscr>3))"
   ]
  },
  {
   "cell_type": "code",
   "execution_count": 76,
   "id": "584e37e4",
   "metadata": {},
   "outputs": [
    {
     "name": "stdout",
     "output_type": "stream",
     "text": [
      "shape before removing the outliers: (1517, 12)\n",
      "shape after removing the outliers: (1436, 12)\n"
     ]
    }
   ],
   "source": [
    "print('shape before removing the outliers:', df.shape)\n",
    "\n",
    "dfnew=df[(zscr<3).all(axis=1)]\n",
    "\n",
    "print('shape after removing the outliers:', dfnew.shape)"
   ]
  },
  {
   "cell_type": "code",
   "execution_count": 77,
   "id": "ce53a204",
   "metadata": {},
   "outputs": [
    {
     "data": {
      "text/plain": [
       "94.6605141727093"
      ]
     },
     "execution_count": 77,
     "metadata": {},
     "output_type": "execute_result"
    }
   ],
   "source": [
    "100-((1517-1436)/1517)*100\n"
   ]
  },
  {
   "cell_type": "markdown",
   "id": "c02eae2e",
   "metadata": {},
   "source": [
    "We are losing around 5.34% data after removing the outliers. That's ok and we will take the newdata frame without the outliers.\n",
    "\n"
   ]
  },
  {
   "cell_type": "code",
   "execution_count": 78,
   "id": "126fb37a",
   "metadata": {},
   "outputs": [],
   "source": [
    "df=dfnew"
   ]
  },
  {
   "cell_type": "markdown",
   "id": "67abda8a",
   "metadata": {},
   "source": [
    "Lets check for skewness\n",
    "\n"
   ]
  },
  {
   "cell_type": "code",
   "execution_count": 79,
   "id": "c9f7c6c2",
   "metadata": {},
   "outputs": [],
   "source": [
    "for i in columns:\n",
    "    if df[i].skew()>0.50:\n",
    "        df[i]=np.log1p(df[i])"
   ]
  },
  {
   "cell_type": "code",
   "execution_count": 80,
   "id": "2a837b19",
   "metadata": {
    "scrolled": true
   },
   "outputs": [
    {
     "data": {
      "text/plain": [
       "AveragePrice   -0.184770\n",
       "Total Volume    0.462899\n",
       "Total Bags      0.378673\n",
       "Small Bags      0.420856\n",
       "Large Bags     -0.979047\n",
       "XLarge Bags     0.851740\n",
       "year            2.004439\n",
       "region          0.276276\n",
       "PL1            -0.270283\n",
       "PL2             0.011359\n",
       "PL3            -0.449713\n",
       "Month          -0.016383\n",
       "dtype: float64"
      ]
     },
     "execution_count": 80,
     "metadata": {},
     "output_type": "execute_result"
    }
   ],
   "source": [
    "df.skew()"
   ]
  },
  {
   "cell_type": "markdown",
   "id": "240fbea2",
   "metadata": {},
   "source": [
    "Others method were checked too for skewness but Log transform worked best\n",
    "\n"
   ]
  },
  {
   "cell_type": "markdown",
   "id": "39ee13a5",
   "metadata": {},
   "source": [
    "# Model Fitting\n"
   ]
  },
  {
   "cell_type": "markdown",
   "id": "d960a97a",
   "metadata": {},
   "source": [
    "Let's split the data into input and target variable\n",
    "\n"
   ]
  },
  {
   "cell_type": "code",
   "execution_count": 81,
   "id": "37e08fc3",
   "metadata": {},
   "outputs": [],
   "source": [
    "x=df.drop(['AveragePrice'],axis=1)\n",
    "y=df['AveragePrice']\n",
    "y=pd.DataFrame(data=y)"
   ]
  },
  {
   "cell_type": "markdown",
   "id": "b3750e7e",
   "metadata": {},
   "source": [
    "Before fitting our model, first we will bring the data to common scale using Standard Scaler\n",
    "\n"
   ]
  },
  {
   "cell_type": "code",
   "execution_count": 82,
   "id": "31cfe4f5",
   "metadata": {},
   "outputs": [],
   "source": [
    "from sklearn.preprocessing import StandardScaler\n",
    "sc=StandardScaler()\n",
    "sc_x=sc.fit_transform(x)\n",
    "sc_x=pd.DataFrame(sc_x,columns=x.columns)"
   ]
  },
  {
   "cell_type": "code",
   "execution_count": 83,
   "id": "2326f547",
   "metadata": {},
   "outputs": [
    {
     "data": {
      "text/html": [
       "<div>\n",
       "<style scoped>\n",
       "    .dataframe tbody tr th:only-of-type {\n",
       "        vertical-align: middle;\n",
       "    }\n",
       "\n",
       "    .dataframe tbody tr th {\n",
       "        vertical-align: top;\n",
       "    }\n",
       "\n",
       "    .dataframe thead th {\n",
       "        text-align: right;\n",
       "    }\n",
       "</style>\n",
       "<table border=\"1\" class=\"dataframe\">\n",
       "  <thead>\n",
       "    <tr style=\"text-align: right;\">\n",
       "      <th></th>\n",
       "      <th>Total Volume</th>\n",
       "      <th>Total Bags</th>\n",
       "      <th>Small Bags</th>\n",
       "      <th>Large Bags</th>\n",
       "      <th>XLarge Bags</th>\n",
       "      <th>year</th>\n",
       "      <th>region</th>\n",
       "      <th>PL1</th>\n",
       "      <th>PL2</th>\n",
       "      <th>PL3</th>\n",
       "      <th>Month</th>\n",
       "    </tr>\n",
       "  </thead>\n",
       "  <tbody>\n",
       "    <tr>\n",
       "      <th>0</th>\n",
       "      <td>-1.410935</td>\n",
       "      <td>-1.822359</td>\n",
       "      <td>-1.648547</td>\n",
       "      <td>-0.917419</td>\n",
       "      <td>-0.775528</td>\n",
       "      <td>-0.413870</td>\n",
       "      <td>-1.322817</td>\n",
       "      <td>-1.847345</td>\n",
       "      <td>-0.507917</td>\n",
       "      <td>-1.815979</td>\n",
       "      <td>-0.983631</td>\n",
       "    </tr>\n",
       "    <tr>\n",
       "      <th>1</th>\n",
       "      <td>-1.535660</td>\n",
       "      <td>-1.746806</td>\n",
       "      <td>-1.573622</td>\n",
       "      <td>-0.904196</td>\n",
       "      <td>-0.775528</td>\n",
       "      <td>-0.413870</td>\n",
       "      <td>-1.322817</td>\n",
       "      <td>-2.042823</td>\n",
       "      <td>-0.635183</td>\n",
       "      <td>-1.739119</td>\n",
       "      <td>-0.983631</td>\n",
       "    </tr>\n",
       "    <tr>\n",
       "      <th>2</th>\n",
       "      <td>-0.927830</td>\n",
       "      <td>-1.878029</td>\n",
       "      <td>-1.705109</td>\n",
       "      <td>-0.887434</td>\n",
       "      <td>-0.775528</td>\n",
       "      <td>-0.413870</td>\n",
       "      <td>-1.322817</td>\n",
       "      <td>-1.968169</td>\n",
       "      <td>-0.062698</td>\n",
       "      <td>-1.413794</td>\n",
       "      <td>-0.983631</td>\n",
       "    </tr>\n",
       "    <tr>\n",
       "      <th>3</th>\n",
       "      <td>-1.247168</td>\n",
       "      <td>-2.164946</td>\n",
       "      <td>-1.996977</td>\n",
       "      <td>-0.809976</td>\n",
       "      <td>-0.775528</td>\n",
       "      <td>-0.413870</td>\n",
       "      <td>-1.322817</td>\n",
       "      <td>-1.807390</td>\n",
       "      <td>-0.329300</td>\n",
       "      <td>-1.651131</td>\n",
       "      <td>0.202342</td>\n",
       "    </tr>\n",
       "    <tr>\n",
       "      <th>4</th>\n",
       "      <td>-1.593074</td>\n",
       "      <td>-2.112115</td>\n",
       "      <td>-1.952576</td>\n",
       "      <td>-0.693305</td>\n",
       "      <td>-0.775528</td>\n",
       "      <td>-0.413870</td>\n",
       "      <td>-1.322817</td>\n",
       "      <td>-1.891150</td>\n",
       "      <td>-0.646768</td>\n",
       "      <td>-1.633730</td>\n",
       "      <td>1.091822</td>\n",
       "    </tr>\n",
       "    <tr>\n",
       "      <th>...</th>\n",
       "      <td>...</td>\n",
       "      <td>...</td>\n",
       "      <td>...</td>\n",
       "      <td>...</td>\n",
       "      <td>...</td>\n",
       "      <td>...</td>\n",
       "      <td>...</td>\n",
       "      <td>...</td>\n",
       "      <td>...</td>\n",
       "      <td>...</td>\n",
       "      <td>...</td>\n",
       "    </tr>\n",
       "    <tr>\n",
       "      <th>1431</th>\n",
       "      <td>-0.548521</td>\n",
       "      <td>-0.189379</td>\n",
       "      <td>-0.193283</td>\n",
       "      <td>0.494754</td>\n",
       "      <td>0.946229</td>\n",
       "      <td>2.416215</td>\n",
       "      <td>-0.879305</td>\n",
       "      <td>-0.020619</td>\n",
       "      <td>-0.485823</td>\n",
       "      <td>0.586167</td>\n",
       "      <td>1.388316</td>\n",
       "    </tr>\n",
       "    <tr>\n",
       "      <th>1432</th>\n",
       "      <td>-0.602663</td>\n",
       "      <td>-0.135593</td>\n",
       "      <td>-0.097945</td>\n",
       "      <td>0.438844</td>\n",
       "      <td>-0.775528</td>\n",
       "      <td>2.416215</td>\n",
       "      <td>-0.879305</td>\n",
       "      <td>-0.149612</td>\n",
       "      <td>-0.535121</td>\n",
       "      <td>0.627966</td>\n",
       "      <td>1.684809</td>\n",
       "    </tr>\n",
       "    <tr>\n",
       "      <th>1433</th>\n",
       "      <td>-0.601885</td>\n",
       "      <td>-0.147557</td>\n",
       "      <td>-0.119231</td>\n",
       "      <td>0.426777</td>\n",
       "      <td>1.332463</td>\n",
       "      <td>2.416215</td>\n",
       "      <td>-0.879305</td>\n",
       "      <td>-0.118772</td>\n",
       "      <td>-0.526545</td>\n",
       "      <td>0.567203</td>\n",
       "      <td>-0.687138</td>\n",
       "    </tr>\n",
       "    <tr>\n",
       "      <th>1434</th>\n",
       "      <td>-0.555668</td>\n",
       "      <td>-0.127164</td>\n",
       "      <td>-0.083522</td>\n",
       "      <td>0.427507</td>\n",
       "      <td>-0.775528</td>\n",
       "      <td>2.416215</td>\n",
       "      <td>-0.879305</td>\n",
       "      <td>-0.048487</td>\n",
       "      <td>-0.518124</td>\n",
       "      <td>0.585318</td>\n",
       "      <td>1.684809</td>\n",
       "    </tr>\n",
       "    <tr>\n",
       "      <th>1435</th>\n",
       "      <td>-0.581864</td>\n",
       "      <td>-0.061044</td>\n",
       "      <td>-0.056798</td>\n",
       "      <td>0.530128</td>\n",
       "      <td>-0.775528</td>\n",
       "      <td>2.416215</td>\n",
       "      <td>-0.879305</td>\n",
       "      <td>-0.151817</td>\n",
       "      <td>-0.510998</td>\n",
       "      <td>0.562955</td>\n",
       "      <td>1.684809</td>\n",
       "    </tr>\n",
       "  </tbody>\n",
       "</table>\n",
       "<p>1436 rows × 11 columns</p>\n",
       "</div>"
      ],
      "text/plain": [
       "      Total Volume  Total Bags  Small Bags  Large Bags  XLarge Bags      year  \\\n",
       "0        -1.410935   -1.822359   -1.648547   -0.917419    -0.775528 -0.413870   \n",
       "1        -1.535660   -1.746806   -1.573622   -0.904196    -0.775528 -0.413870   \n",
       "2        -0.927830   -1.878029   -1.705109   -0.887434    -0.775528 -0.413870   \n",
       "3        -1.247168   -2.164946   -1.996977   -0.809976    -0.775528 -0.413870   \n",
       "4        -1.593074   -2.112115   -1.952576   -0.693305    -0.775528 -0.413870   \n",
       "...            ...         ...         ...         ...          ...       ...   \n",
       "1431     -0.548521   -0.189379   -0.193283    0.494754     0.946229  2.416215   \n",
       "1432     -0.602663   -0.135593   -0.097945    0.438844    -0.775528  2.416215   \n",
       "1433     -0.601885   -0.147557   -0.119231    0.426777     1.332463  2.416215   \n",
       "1434     -0.555668   -0.127164   -0.083522    0.427507    -0.775528  2.416215   \n",
       "1435     -0.581864   -0.061044   -0.056798    0.530128    -0.775528  2.416215   \n",
       "\n",
       "        region       PL1       PL2       PL3     Month  \n",
       "0    -1.322817 -1.847345 -0.507917 -1.815979 -0.983631  \n",
       "1    -1.322817 -2.042823 -0.635183 -1.739119 -0.983631  \n",
       "2    -1.322817 -1.968169 -0.062698 -1.413794 -0.983631  \n",
       "3    -1.322817 -1.807390 -0.329300 -1.651131  0.202342  \n",
       "4    -1.322817 -1.891150 -0.646768 -1.633730  1.091822  \n",
       "...        ...       ...       ...       ...       ...  \n",
       "1431 -0.879305 -0.020619 -0.485823  0.586167  1.388316  \n",
       "1432 -0.879305 -0.149612 -0.535121  0.627966  1.684809  \n",
       "1433 -0.879305 -0.118772 -0.526545  0.567203 -0.687138  \n",
       "1434 -0.879305 -0.048487 -0.518124  0.585318  1.684809  \n",
       "1435 -0.879305 -0.151817 -0.510998  0.562955  1.684809  \n",
       "\n",
       "[1436 rows x 11 columns]"
      ]
     },
     "execution_count": 83,
     "metadata": {},
     "output_type": "execute_result"
    }
   ],
   "source": [
    "sc_x"
   ]
  },
  {
   "cell_type": "markdown",
   "id": "178d41eb",
   "metadata": {},
   "source": [
    "Our data is now on common scale. I am reassigning x to the sc_x.\n",
    "\n"
   ]
  },
  {
   "cell_type": "code",
   "execution_count": 84,
   "id": "7acfe16d",
   "metadata": {},
   "outputs": [
    {
     "data": {
      "text/html": [
       "<div>\n",
       "<style scoped>\n",
       "    .dataframe tbody tr th:only-of-type {\n",
       "        vertical-align: middle;\n",
       "    }\n",
       "\n",
       "    .dataframe tbody tr th {\n",
       "        vertical-align: top;\n",
       "    }\n",
       "\n",
       "    .dataframe thead th {\n",
       "        text-align: right;\n",
       "    }\n",
       "</style>\n",
       "<table border=\"1\" class=\"dataframe\">\n",
       "  <thead>\n",
       "    <tr style=\"text-align: right;\">\n",
       "      <th></th>\n",
       "      <th>Total Volume</th>\n",
       "      <th>Total Bags</th>\n",
       "      <th>Small Bags</th>\n",
       "      <th>Large Bags</th>\n",
       "      <th>XLarge Bags</th>\n",
       "      <th>year</th>\n",
       "      <th>region</th>\n",
       "      <th>PL1</th>\n",
       "      <th>PL2</th>\n",
       "      <th>PL3</th>\n",
       "      <th>Month</th>\n",
       "    </tr>\n",
       "  </thead>\n",
       "  <tbody>\n",
       "    <tr>\n",
       "      <th>0</th>\n",
       "      <td>-1.410935</td>\n",
       "      <td>-1.822359</td>\n",
       "      <td>-1.648547</td>\n",
       "      <td>-0.917419</td>\n",
       "      <td>-0.775528</td>\n",
       "      <td>-0.413870</td>\n",
       "      <td>-1.322817</td>\n",
       "      <td>-1.847345</td>\n",
       "      <td>-0.507917</td>\n",
       "      <td>-1.815979</td>\n",
       "      <td>-0.983631</td>\n",
       "    </tr>\n",
       "    <tr>\n",
       "      <th>1</th>\n",
       "      <td>-1.535660</td>\n",
       "      <td>-1.746806</td>\n",
       "      <td>-1.573622</td>\n",
       "      <td>-0.904196</td>\n",
       "      <td>-0.775528</td>\n",
       "      <td>-0.413870</td>\n",
       "      <td>-1.322817</td>\n",
       "      <td>-2.042823</td>\n",
       "      <td>-0.635183</td>\n",
       "      <td>-1.739119</td>\n",
       "      <td>-0.983631</td>\n",
       "    </tr>\n",
       "    <tr>\n",
       "      <th>2</th>\n",
       "      <td>-0.927830</td>\n",
       "      <td>-1.878029</td>\n",
       "      <td>-1.705109</td>\n",
       "      <td>-0.887434</td>\n",
       "      <td>-0.775528</td>\n",
       "      <td>-0.413870</td>\n",
       "      <td>-1.322817</td>\n",
       "      <td>-1.968169</td>\n",
       "      <td>-0.062698</td>\n",
       "      <td>-1.413794</td>\n",
       "      <td>-0.983631</td>\n",
       "    </tr>\n",
       "    <tr>\n",
       "      <th>3</th>\n",
       "      <td>-1.247168</td>\n",
       "      <td>-2.164946</td>\n",
       "      <td>-1.996977</td>\n",
       "      <td>-0.809976</td>\n",
       "      <td>-0.775528</td>\n",
       "      <td>-0.413870</td>\n",
       "      <td>-1.322817</td>\n",
       "      <td>-1.807390</td>\n",
       "      <td>-0.329300</td>\n",
       "      <td>-1.651131</td>\n",
       "      <td>0.202342</td>\n",
       "    </tr>\n",
       "    <tr>\n",
       "      <th>4</th>\n",
       "      <td>-1.593074</td>\n",
       "      <td>-2.112115</td>\n",
       "      <td>-1.952576</td>\n",
       "      <td>-0.693305</td>\n",
       "      <td>-0.775528</td>\n",
       "      <td>-0.413870</td>\n",
       "      <td>-1.322817</td>\n",
       "      <td>-1.891150</td>\n",
       "      <td>-0.646768</td>\n",
       "      <td>-1.633730</td>\n",
       "      <td>1.091822</td>\n",
       "    </tr>\n",
       "    <tr>\n",
       "      <th>...</th>\n",
       "      <td>...</td>\n",
       "      <td>...</td>\n",
       "      <td>...</td>\n",
       "      <td>...</td>\n",
       "      <td>...</td>\n",
       "      <td>...</td>\n",
       "      <td>...</td>\n",
       "      <td>...</td>\n",
       "      <td>...</td>\n",
       "      <td>...</td>\n",
       "      <td>...</td>\n",
       "    </tr>\n",
       "    <tr>\n",
       "      <th>1431</th>\n",
       "      <td>-0.548521</td>\n",
       "      <td>-0.189379</td>\n",
       "      <td>-0.193283</td>\n",
       "      <td>0.494754</td>\n",
       "      <td>0.946229</td>\n",
       "      <td>2.416215</td>\n",
       "      <td>-0.879305</td>\n",
       "      <td>-0.020619</td>\n",
       "      <td>-0.485823</td>\n",
       "      <td>0.586167</td>\n",
       "      <td>1.388316</td>\n",
       "    </tr>\n",
       "    <tr>\n",
       "      <th>1432</th>\n",
       "      <td>-0.602663</td>\n",
       "      <td>-0.135593</td>\n",
       "      <td>-0.097945</td>\n",
       "      <td>0.438844</td>\n",
       "      <td>-0.775528</td>\n",
       "      <td>2.416215</td>\n",
       "      <td>-0.879305</td>\n",
       "      <td>-0.149612</td>\n",
       "      <td>-0.535121</td>\n",
       "      <td>0.627966</td>\n",
       "      <td>1.684809</td>\n",
       "    </tr>\n",
       "    <tr>\n",
       "      <th>1433</th>\n",
       "      <td>-0.601885</td>\n",
       "      <td>-0.147557</td>\n",
       "      <td>-0.119231</td>\n",
       "      <td>0.426777</td>\n",
       "      <td>1.332463</td>\n",
       "      <td>2.416215</td>\n",
       "      <td>-0.879305</td>\n",
       "      <td>-0.118772</td>\n",
       "      <td>-0.526545</td>\n",
       "      <td>0.567203</td>\n",
       "      <td>-0.687138</td>\n",
       "    </tr>\n",
       "    <tr>\n",
       "      <th>1434</th>\n",
       "      <td>-0.555668</td>\n",
       "      <td>-0.127164</td>\n",
       "      <td>-0.083522</td>\n",
       "      <td>0.427507</td>\n",
       "      <td>-0.775528</td>\n",
       "      <td>2.416215</td>\n",
       "      <td>-0.879305</td>\n",
       "      <td>-0.048487</td>\n",
       "      <td>-0.518124</td>\n",
       "      <td>0.585318</td>\n",
       "      <td>1.684809</td>\n",
       "    </tr>\n",
       "    <tr>\n",
       "      <th>1435</th>\n",
       "      <td>-0.581864</td>\n",
       "      <td>-0.061044</td>\n",
       "      <td>-0.056798</td>\n",
       "      <td>0.530128</td>\n",
       "      <td>-0.775528</td>\n",
       "      <td>2.416215</td>\n",
       "      <td>-0.879305</td>\n",
       "      <td>-0.151817</td>\n",
       "      <td>-0.510998</td>\n",
       "      <td>0.562955</td>\n",
       "      <td>1.684809</td>\n",
       "    </tr>\n",
       "  </tbody>\n",
       "</table>\n",
       "<p>1436 rows × 11 columns</p>\n",
       "</div>"
      ],
      "text/plain": [
       "      Total Volume  Total Bags  Small Bags  Large Bags  XLarge Bags      year  \\\n",
       "0        -1.410935   -1.822359   -1.648547   -0.917419    -0.775528 -0.413870   \n",
       "1        -1.535660   -1.746806   -1.573622   -0.904196    -0.775528 -0.413870   \n",
       "2        -0.927830   -1.878029   -1.705109   -0.887434    -0.775528 -0.413870   \n",
       "3        -1.247168   -2.164946   -1.996977   -0.809976    -0.775528 -0.413870   \n",
       "4        -1.593074   -2.112115   -1.952576   -0.693305    -0.775528 -0.413870   \n",
       "...            ...         ...         ...         ...          ...       ...   \n",
       "1431     -0.548521   -0.189379   -0.193283    0.494754     0.946229  2.416215   \n",
       "1432     -0.602663   -0.135593   -0.097945    0.438844    -0.775528  2.416215   \n",
       "1433     -0.601885   -0.147557   -0.119231    0.426777     1.332463  2.416215   \n",
       "1434     -0.555668   -0.127164   -0.083522    0.427507    -0.775528  2.416215   \n",
       "1435     -0.581864   -0.061044   -0.056798    0.530128    -0.775528  2.416215   \n",
       "\n",
       "        region       PL1       PL2       PL3     Month  \n",
       "0    -1.322817 -1.847345 -0.507917 -1.815979 -0.983631  \n",
       "1    -1.322817 -2.042823 -0.635183 -1.739119 -0.983631  \n",
       "2    -1.322817 -1.968169 -0.062698 -1.413794 -0.983631  \n",
       "3    -1.322817 -1.807390 -0.329300 -1.651131  0.202342  \n",
       "4    -1.322817 -1.891150 -0.646768 -1.633730  1.091822  \n",
       "...        ...       ...       ...       ...       ...  \n",
       "1431 -0.879305 -0.020619 -0.485823  0.586167  1.388316  \n",
       "1432 -0.879305 -0.149612 -0.535121  0.627966  1.684809  \n",
       "1433 -0.879305 -0.118772 -0.526545  0.567203 -0.687138  \n",
       "1434 -0.879305 -0.048487 -0.518124  0.585318  1.684809  \n",
       "1435 -0.879305 -0.151817 -0.510998  0.562955  1.684809  \n",
       "\n",
       "[1436 rows x 11 columns]"
      ]
     },
     "execution_count": 84,
     "metadata": {},
     "output_type": "execute_result"
    }
   ],
   "source": [
    "x=sc_x\n",
    "x"
   ]
  },
  {
   "cell_type": "markdown",
   "id": "e1d546f6",
   "metadata": {},
   "source": [
    "Let's import the necessary Regression libraries for model fitting.\n",
    "\n"
   ]
  },
  {
   "cell_type": "code",
   "execution_count": 86,
   "id": "d7b9dc4e",
   "metadata": {},
   "outputs": [
    {
     "data": {
      "text/html": [
       "<div>\n",
       "<style scoped>\n",
       "    .dataframe tbody tr th:only-of-type {\n",
       "        vertical-align: middle;\n",
       "    }\n",
       "\n",
       "    .dataframe tbody tr th {\n",
       "        vertical-align: top;\n",
       "    }\n",
       "\n",
       "    .dataframe thead th {\n",
       "        text-align: right;\n",
       "    }\n",
       "</style>\n",
       "<table border=\"1\" class=\"dataframe\">\n",
       "  <thead>\n",
       "    <tr style=\"text-align: right;\">\n",
       "      <th></th>\n",
       "      <th>Total Volume</th>\n",
       "      <th>Total Bags</th>\n",
       "      <th>Small Bags</th>\n",
       "      <th>Large Bags</th>\n",
       "      <th>XLarge Bags</th>\n",
       "      <th>year</th>\n",
       "      <th>region</th>\n",
       "      <th>PL1</th>\n",
       "      <th>PL2</th>\n",
       "      <th>PL3</th>\n",
       "      <th>Month</th>\n",
       "    </tr>\n",
       "  </thead>\n",
       "  <tbody>\n",
       "    <tr>\n",
       "      <th>0</th>\n",
       "      <td>-1.410935</td>\n",
       "      <td>-1.822359</td>\n",
       "      <td>-1.648547</td>\n",
       "      <td>-0.917419</td>\n",
       "      <td>-0.775528</td>\n",
       "      <td>-0.413870</td>\n",
       "      <td>-1.322817</td>\n",
       "      <td>-1.847345</td>\n",
       "      <td>-0.507917</td>\n",
       "      <td>-1.815979</td>\n",
       "      <td>-0.983631</td>\n",
       "    </tr>\n",
       "    <tr>\n",
       "      <th>1</th>\n",
       "      <td>-1.535660</td>\n",
       "      <td>-1.746806</td>\n",
       "      <td>-1.573622</td>\n",
       "      <td>-0.904196</td>\n",
       "      <td>-0.775528</td>\n",
       "      <td>-0.413870</td>\n",
       "      <td>-1.322817</td>\n",
       "      <td>-2.042823</td>\n",
       "      <td>-0.635183</td>\n",
       "      <td>-1.739119</td>\n",
       "      <td>-0.983631</td>\n",
       "    </tr>\n",
       "    <tr>\n",
       "      <th>2</th>\n",
       "      <td>-0.927830</td>\n",
       "      <td>-1.878029</td>\n",
       "      <td>-1.705109</td>\n",
       "      <td>-0.887434</td>\n",
       "      <td>-0.775528</td>\n",
       "      <td>-0.413870</td>\n",
       "      <td>-1.322817</td>\n",
       "      <td>-1.968169</td>\n",
       "      <td>-0.062698</td>\n",
       "      <td>-1.413794</td>\n",
       "      <td>-0.983631</td>\n",
       "    </tr>\n",
       "    <tr>\n",
       "      <th>3</th>\n",
       "      <td>-1.247168</td>\n",
       "      <td>-2.164946</td>\n",
       "      <td>-1.996977</td>\n",
       "      <td>-0.809976</td>\n",
       "      <td>-0.775528</td>\n",
       "      <td>-0.413870</td>\n",
       "      <td>-1.322817</td>\n",
       "      <td>-1.807390</td>\n",
       "      <td>-0.329300</td>\n",
       "      <td>-1.651131</td>\n",
       "      <td>0.202342</td>\n",
       "    </tr>\n",
       "    <tr>\n",
       "      <th>4</th>\n",
       "      <td>-1.593074</td>\n",
       "      <td>-2.112115</td>\n",
       "      <td>-1.952576</td>\n",
       "      <td>-0.693305</td>\n",
       "      <td>-0.775528</td>\n",
       "      <td>-0.413870</td>\n",
       "      <td>-1.322817</td>\n",
       "      <td>-1.891150</td>\n",
       "      <td>-0.646768</td>\n",
       "      <td>-1.633730</td>\n",
       "      <td>1.091822</td>\n",
       "    </tr>\n",
       "    <tr>\n",
       "      <th>...</th>\n",
       "      <td>...</td>\n",
       "      <td>...</td>\n",
       "      <td>...</td>\n",
       "      <td>...</td>\n",
       "      <td>...</td>\n",
       "      <td>...</td>\n",
       "      <td>...</td>\n",
       "      <td>...</td>\n",
       "      <td>...</td>\n",
       "      <td>...</td>\n",
       "      <td>...</td>\n",
       "    </tr>\n",
       "    <tr>\n",
       "      <th>1431</th>\n",
       "      <td>-0.548521</td>\n",
       "      <td>-0.189379</td>\n",
       "      <td>-0.193283</td>\n",
       "      <td>0.494754</td>\n",
       "      <td>0.946229</td>\n",
       "      <td>2.416215</td>\n",
       "      <td>-0.879305</td>\n",
       "      <td>-0.020619</td>\n",
       "      <td>-0.485823</td>\n",
       "      <td>0.586167</td>\n",
       "      <td>1.388316</td>\n",
       "    </tr>\n",
       "    <tr>\n",
       "      <th>1432</th>\n",
       "      <td>-0.602663</td>\n",
       "      <td>-0.135593</td>\n",
       "      <td>-0.097945</td>\n",
       "      <td>0.438844</td>\n",
       "      <td>-0.775528</td>\n",
       "      <td>2.416215</td>\n",
       "      <td>-0.879305</td>\n",
       "      <td>-0.149612</td>\n",
       "      <td>-0.535121</td>\n",
       "      <td>0.627966</td>\n",
       "      <td>1.684809</td>\n",
       "    </tr>\n",
       "    <tr>\n",
       "      <th>1433</th>\n",
       "      <td>-0.601885</td>\n",
       "      <td>-0.147557</td>\n",
       "      <td>-0.119231</td>\n",
       "      <td>0.426777</td>\n",
       "      <td>1.332463</td>\n",
       "      <td>2.416215</td>\n",
       "      <td>-0.879305</td>\n",
       "      <td>-0.118772</td>\n",
       "      <td>-0.526545</td>\n",
       "      <td>0.567203</td>\n",
       "      <td>-0.687138</td>\n",
       "    </tr>\n",
       "    <tr>\n",
       "      <th>1434</th>\n",
       "      <td>-0.555668</td>\n",
       "      <td>-0.127164</td>\n",
       "      <td>-0.083522</td>\n",
       "      <td>0.427507</td>\n",
       "      <td>-0.775528</td>\n",
       "      <td>2.416215</td>\n",
       "      <td>-0.879305</td>\n",
       "      <td>-0.048487</td>\n",
       "      <td>-0.518124</td>\n",
       "      <td>0.585318</td>\n",
       "      <td>1.684809</td>\n",
       "    </tr>\n",
       "    <tr>\n",
       "      <th>1435</th>\n",
       "      <td>-0.581864</td>\n",
       "      <td>-0.061044</td>\n",
       "      <td>-0.056798</td>\n",
       "      <td>0.530128</td>\n",
       "      <td>-0.775528</td>\n",
       "      <td>2.416215</td>\n",
       "      <td>-0.879305</td>\n",
       "      <td>-0.151817</td>\n",
       "      <td>-0.510998</td>\n",
       "      <td>0.562955</td>\n",
       "      <td>1.684809</td>\n",
       "    </tr>\n",
       "  </tbody>\n",
       "</table>\n",
       "<p>1436 rows × 11 columns</p>\n",
       "</div>"
      ],
      "text/plain": [
       "      Total Volume  Total Bags  Small Bags  Large Bags  XLarge Bags      year  \\\n",
       "0        -1.410935   -1.822359   -1.648547   -0.917419    -0.775528 -0.413870   \n",
       "1        -1.535660   -1.746806   -1.573622   -0.904196    -0.775528 -0.413870   \n",
       "2        -0.927830   -1.878029   -1.705109   -0.887434    -0.775528 -0.413870   \n",
       "3        -1.247168   -2.164946   -1.996977   -0.809976    -0.775528 -0.413870   \n",
       "4        -1.593074   -2.112115   -1.952576   -0.693305    -0.775528 -0.413870   \n",
       "...            ...         ...         ...         ...          ...       ...   \n",
       "1431     -0.548521   -0.189379   -0.193283    0.494754     0.946229  2.416215   \n",
       "1432     -0.602663   -0.135593   -0.097945    0.438844    -0.775528  2.416215   \n",
       "1433     -0.601885   -0.147557   -0.119231    0.426777     1.332463  2.416215   \n",
       "1434     -0.555668   -0.127164   -0.083522    0.427507    -0.775528  2.416215   \n",
       "1435     -0.581864   -0.061044   -0.056798    0.530128    -0.775528  2.416215   \n",
       "\n",
       "        region       PL1       PL2       PL3     Month  \n",
       "0    -1.322817 -1.847345 -0.507917 -1.815979 -0.983631  \n",
       "1    -1.322817 -2.042823 -0.635183 -1.739119 -0.983631  \n",
       "2    -1.322817 -1.968169 -0.062698 -1.413794 -0.983631  \n",
       "3    -1.322817 -1.807390 -0.329300 -1.651131  0.202342  \n",
       "4    -1.322817 -1.891150 -0.646768 -1.633730  1.091822  \n",
       "...        ...       ...       ...       ...       ...  \n",
       "1431 -0.879305 -0.020619 -0.485823  0.586167  1.388316  \n",
       "1432 -0.879305 -0.149612 -0.535121  0.627966  1.684809  \n",
       "1433 -0.879305 -0.118772 -0.526545  0.567203 -0.687138  \n",
       "1434 -0.879305 -0.048487 -0.518124  0.585318  1.684809  \n",
       "1435 -0.879305 -0.151817 -0.510998  0.562955  1.684809  \n",
       "\n",
       "[1436 rows x 11 columns]"
      ]
     },
     "execution_count": 86,
     "metadata": {},
     "output_type": "execute_result"
    }
   ],
   "source": [
    "x=sc_x\n",
    "x"
   ]
  },
  {
   "cell_type": "markdown",
   "id": "afc1966d",
   "metadata": {},
   "source": [
    "Let's import the necessary Regression libraries for model fitting.\n",
    "\n"
   ]
  },
  {
   "cell_type": "code",
   "execution_count": 87,
   "id": "65dcbcbd",
   "metadata": {},
   "outputs": [],
   "source": [
    "from sklearn.model_selection import train_test_split\n",
    "from sklearn.metrics import mean_squared_error,mean_absolute_error,r2_score\n",
    "from sklearn.linear_model import LinearRegression\n",
    "from sklearn.svm import SVR\n",
    "from sklearn.tree import DecisionTreeRegressor\n",
    "from sklearn.ensemble import RandomForestRegressor\n",
    "from sklearn.neighbors import KNeighborsRegressor\n",
    "from sklearn.ensemble import AdaBoostRegressor\n",
    "from sklearn.linear_model import Lasso,Ridge,ElasticNet\n",
    "from sklearn.model_selection import cross_val_score\n",
    "from sklearn.model_selection import KFold"
   ]
  },
  {
   "cell_type": "markdown",
   "id": "fdef2c66",
   "metadata": {},
   "source": [
    "We will use Linear regression model to check for the best random state to fit our training and test data\n",
    "\n"
   ]
  },
  {
   "cell_type": "code",
   "execution_count": 88,
   "id": "5dec1d0d",
   "metadata": {},
   "outputs": [
    {
     "name": "stdout",
     "output_type": "stream",
     "text": [
      "At random state 0,the training accuracy is: 0.3872484197310553\n",
      "At random state 0,the testing accuracy is: 0.43152696210054586\n",
      "\n",
      "\n",
      "At random state 1,the training accuracy is: 0.3939612704082164\n",
      "At random state 1,the testing accuracy is: 0.42075272495834615\n",
      "\n",
      "\n",
      "At random state 2,the training accuracy is: 0.39621714567255284\n",
      "At random state 2,the testing accuracy is: 0.40182022186364985\n",
      "\n",
      "\n",
      "At random state 3,the training accuracy is: 0.40063519032586703\n",
      "At random state 3,the testing accuracy is: 0.38327017359699067\n",
      "\n",
      "\n",
      "At random state 4,the training accuracy is: 0.41211052332105114\n",
      "At random state 4,the testing accuracy is: 0.3364206815742191\n",
      "\n",
      "\n",
      "At random state 5,the training accuracy is: 0.38012398614215714\n",
      "At random state 5,the testing accuracy is: 0.4610272430217851\n",
      "\n",
      "\n",
      "At random state 6,the training accuracy is: 0.4005113073994566\n",
      "At random state 6,the testing accuracy is: 0.3688800810364087\n",
      "\n",
      "\n",
      "At random state 7,the training accuracy is: 0.40238323940203913\n",
      "At random state 7,the testing accuracy is: 0.3848436745960556\n",
      "\n",
      "\n",
      "At random state 8,the training accuracy is: 0.39468689241377763\n",
      "At random state 8,the testing accuracy is: 0.41333286888591303\n",
      "\n",
      "\n",
      "At random state 9,the training accuracy is: 0.401986621433836\n",
      "At random state 9,the testing accuracy is: 0.37989300224954137\n",
      "\n",
      "\n",
      "At random state 10,the training accuracy is: 0.3955955200621879\n",
      "At random state 10,the testing accuracy is: 0.4051307814425411\n",
      "\n",
      "\n",
      "At random state 11,the training accuracy is: 0.39629045453107126\n",
      "At random state 11,the testing accuracy is: 0.40999951775107446\n",
      "\n",
      "\n",
      "At random state 12,the training accuracy is: 0.3881960443354483\n",
      "At random state 12,the testing accuracy is: 0.43547337069086733\n",
      "\n",
      "\n",
      "At random state 13,the training accuracy is: 0.40409233895826124\n",
      "At random state 13,the testing accuracy is: 0.36866780625374107\n",
      "\n",
      "\n",
      "At random state 14,the training accuracy is: 0.39437795297216094\n",
      "At random state 14,the testing accuracy is: 0.41245337283886374\n",
      "\n",
      "\n",
      "At random state 15,the training accuracy is: 0.389641970272401\n",
      "At random state 15,the testing accuracy is: 0.42008516139015106\n",
      "\n",
      "\n",
      "At random state 16,the training accuracy is: 0.39663252363486623\n",
      "At random state 16,the testing accuracy is: 0.4080619151890382\n",
      "\n",
      "\n",
      "At random state 17,the training accuracy is: 0.40602762507821044\n",
      "At random state 17,the testing accuracy is: 0.3607659199167632\n",
      "\n",
      "\n",
      "At random state 18,the training accuracy is: 0.3952129918420981\n",
      "At random state 18,the testing accuracy is: 0.41158087840865254\n",
      "\n",
      "\n",
      "At random state 19,the training accuracy is: 0.3954426886496063\n",
      "At random state 19,the testing accuracy is: 0.41034438651276284\n",
      "\n",
      "\n",
      "At random state 20,the training accuracy is: 0.3935217181886842\n",
      "At random state 20,the testing accuracy is: 0.41371761238184257\n",
      "\n",
      "\n",
      "At random state 21,the training accuracy is: 0.3897052422813\n",
      "At random state 21,the testing accuracy is: 0.43169774081505674\n",
      "\n",
      "\n",
      "At random state 22,the training accuracy is: 0.38796223541957253\n",
      "At random state 22,the testing accuracy is: 0.4373654639430615\n",
      "\n",
      "\n",
      "At random state 23,the training accuracy is: 0.385557769122745\n",
      "At random state 23,the testing accuracy is: 0.4530971053200096\n",
      "\n",
      "\n",
      "At random state 24,the training accuracy is: 0.40591037741527225\n",
      "At random state 24,the testing accuracy is: 0.3655705740300843\n",
      "\n",
      "\n",
      "At random state 25,the training accuracy is: 0.392493326034586\n",
      "At random state 25,the testing accuracy is: 0.42015280226207674\n",
      "\n",
      "\n",
      "At random state 26,the training accuracy is: 0.4163228047286971\n",
      "At random state 26,the testing accuracy is: 0.31121223517461194\n",
      "\n",
      "\n",
      "At random state 27,the training accuracy is: 0.40368956420732993\n",
      "At random state 27,the testing accuracy is: 0.3829026024313156\n",
      "\n",
      "\n",
      "At random state 28,the training accuracy is: 0.3926293865329108\n",
      "At random state 28,the testing accuracy is: 0.4193942196435322\n",
      "\n",
      "\n",
      "At random state 29,the training accuracy is: 0.4065274019075229\n",
      "At random state 29,the testing accuracy is: 0.3667957438621179\n",
      "\n",
      "\n",
      "At random state 30,the training accuracy is: 0.4089481461880279\n",
      "At random state 30,the testing accuracy is: 0.3386673736496304\n",
      "\n",
      "\n",
      "At random state 31,the training accuracy is: 0.3965459644100773\n",
      "At random state 31,the testing accuracy is: 0.4071916039049719\n",
      "\n",
      "\n",
      "At random state 32,the training accuracy is: 0.39540581034347366\n",
      "At random state 32,the testing accuracy is: 0.411881504465743\n",
      "\n",
      "\n",
      "At random state 33,the training accuracy is: 0.4197990786484024\n",
      "At random state 33,the testing accuracy is: 0.31014103893553246\n",
      "\n",
      "\n",
      "At random state 34,the training accuracy is: 0.4059288942151674\n",
      "At random state 34,the testing accuracy is: 0.3666271134947183\n",
      "\n",
      "\n",
      "At random state 35,the training accuracy is: 0.3998136230240875\n",
      "At random state 35,the testing accuracy is: 0.3931320945030756\n",
      "\n",
      "\n",
      "At random state 36,the training accuracy is: 0.3970427857323999\n",
      "At random state 36,the testing accuracy is: 0.3995857855431123\n",
      "\n",
      "\n",
      "At random state 37,the training accuracy is: 0.40552569140231043\n",
      "At random state 37,the testing accuracy is: 0.35756852323664856\n",
      "\n",
      "\n",
      "At random state 38,the training accuracy is: 0.38364690909747845\n",
      "At random state 38,the testing accuracy is: 0.4453554790028327\n",
      "\n",
      "\n",
      "At random state 39,the training accuracy is: 0.3928649597113478\n",
      "At random state 39,the testing accuracy is: 0.40742071805771685\n",
      "\n",
      "\n",
      "At random state 40,the training accuracy is: 0.4012329087904589\n",
      "At random state 40,the testing accuracy is: 0.3798305585783781\n",
      "\n",
      "\n",
      "At random state 41,the training accuracy is: 0.4040491489976554\n",
      "At random state 41,the testing accuracy is: 0.376833802825015\n",
      "\n",
      "\n",
      "At random state 42,the training accuracy is: 0.38904481251101886\n",
      "At random state 42,the testing accuracy is: 0.43638554933788065\n",
      "\n",
      "\n",
      "At random state 43,the training accuracy is: 0.41373381101026774\n",
      "At random state 43,the testing accuracy is: 0.33274519989782614\n",
      "\n",
      "\n",
      "At random state 44,the training accuracy is: 0.4212159859058938\n",
      "At random state 44,the testing accuracy is: 0.2530788051510795\n",
      "\n",
      "\n",
      "At random state 45,the training accuracy is: 0.3973210743525796\n",
      "At random state 45,the testing accuracy is: 0.4033586792697147\n",
      "\n",
      "\n",
      "At random state 46,the training accuracy is: 0.4009727529634387\n",
      "At random state 46,the testing accuracy is: 0.3835580284018546\n",
      "\n",
      "\n",
      "At random state 47,the training accuracy is: 0.39258453791076264\n",
      "At random state 47,the testing accuracy is: 0.4188352034896078\n",
      "\n",
      "\n",
      "At random state 48,the training accuracy is: 0.4024927307115014\n",
      "At random state 48,the testing accuracy is: 0.3805966050221885\n",
      "\n",
      "\n",
      "At random state 49,the training accuracy is: 0.41151186939766615\n",
      "At random state 49,the testing accuracy is: 0.33034458337607175\n",
      "\n",
      "\n",
      "At random state 50,the training accuracy is: 0.3994720889969475\n",
      "At random state 50,the testing accuracy is: 0.39629049977011455\n",
      "\n",
      "\n",
      "At random state 51,the training accuracy is: 0.41044617904510794\n",
      "At random state 51,the testing accuracy is: 0.35014336994280404\n",
      "\n",
      "\n",
      "At random state 52,the training accuracy is: 0.3974825071055118\n",
      "At random state 52,the testing accuracy is: 0.4004600936806447\n",
      "\n",
      "\n",
      "At random state 53,the training accuracy is: 0.40509633698849146\n",
      "At random state 53,the testing accuracy is: 0.3715961671636834\n",
      "\n",
      "\n",
      "At random state 54,the training accuracy is: 0.3926936568831606\n",
      "At random state 54,the testing accuracy is: 0.4217132855900616\n",
      "\n",
      "\n",
      "At random state 55,the training accuracy is: 0.4198516440104414\n",
      "At random state 55,the testing accuracy is: 0.31303285686660864\n",
      "\n",
      "\n",
      "At random state 56,the training accuracy is: 0.4335597296591692\n",
      "At random state 56,the testing accuracy is: 0.24346012456631505\n",
      "\n",
      "\n",
      "At random state 57,the training accuracy is: 0.3804565211335731\n",
      "At random state 57,the testing accuracy is: 0.46571536770931576\n",
      "\n",
      "\n",
      "At random state 58,the training accuracy is: 0.4208238492257811\n",
      "At random state 58,the testing accuracy is: 0.30462505930168604\n",
      "\n",
      "\n",
      "At random state 59,the training accuracy is: 0.390941802027421\n",
      "At random state 59,the testing accuracy is: 0.42714354243603325\n",
      "\n",
      "\n",
      "At random state 60,the training accuracy is: 0.413961904144009\n",
      "At random state 60,the testing accuracy is: 0.33276345497285265\n",
      "\n",
      "\n",
      "At random state 61,the training accuracy is: 0.4135130550100715\n",
      "At random state 61,the testing accuracy is: 0.3278953632084495\n",
      "\n",
      "\n",
      "At random state 62,the training accuracy is: 0.4051878194876495\n",
      "At random state 62,the testing accuracy is: 0.3669091441313983\n",
      "\n",
      "\n",
      "At random state 63,the training accuracy is: 0.3921691420866754\n",
      "At random state 63,the testing accuracy is: 0.4121619302118261\n",
      "\n",
      "\n",
      "At random state 64,the training accuracy is: 0.3941996752609007\n",
      "At random state 64,the testing accuracy is: 0.41014551432542157\n",
      "\n",
      "\n",
      "At random state 65,the training accuracy is: 0.40386807200015673\n",
      "At random state 65,the testing accuracy is: 0.3732669043648267\n",
      "\n",
      "\n",
      "At random state 66,the training accuracy is: 0.410976674005327\n",
      "At random state 66,the testing accuracy is: 0.3447413743081372\n",
      "\n",
      "\n",
      "At random state 67,the training accuracy is: 0.3991438844925085\n",
      "At random state 67,the testing accuracy is: 0.3955702965196989\n",
      "\n",
      "\n",
      "At random state 68,the training accuracy is: 0.39722318220246644\n",
      "At random state 68,the testing accuracy is: 0.39498578453634703\n",
      "\n",
      "\n",
      "At random state 69,the training accuracy is: 0.41508266646075664\n",
      "At random state 69,the testing accuracy is: 0.29365381029218474\n",
      "\n",
      "\n",
      "At random state 70,the training accuracy is: 0.39805157968890326\n",
      "At random state 70,the testing accuracy is: 0.3956235619195698\n",
      "\n",
      "\n",
      "At random state 71,the training accuracy is: 0.39763348920481145\n",
      "At random state 71,the testing accuracy is: 0.40118676854721824\n",
      "\n",
      "\n",
      "At random state 72,the training accuracy is: 0.4215028230549218\n",
      "At random state 72,the testing accuracy is: 0.29777836027390436\n",
      "\n",
      "\n",
      "At random state 73,the training accuracy is: 0.380091356059141\n",
      "At random state 73,the testing accuracy is: 0.45574456059794055\n",
      "\n",
      "\n",
      "At random state 74,the training accuracy is: 0.3928861762825758\n",
      "At random state 74,the testing accuracy is: 0.42427866088873356\n",
      "\n",
      "\n",
      "At random state 75,the training accuracy is: 0.39416936390772694\n",
      "At random state 75,the testing accuracy is: 0.4083668648909302\n",
      "\n",
      "\n",
      "At random state 76,the training accuracy is: 0.3908609971815513\n",
      "At random state 76,the testing accuracy is: 0.4245245333878015\n",
      "\n",
      "\n",
      "At random state 77,the training accuracy is: 0.4061015227904716\n",
      "At random state 77,the testing accuracy is: 0.3588538020767096\n",
      "\n",
      "\n",
      "At random state 78,the training accuracy is: 0.4027935242015923\n",
      "At random state 78,the testing accuracy is: 0.38058065610600333\n",
      "\n",
      "\n",
      "At random state 79,the training accuracy is: 0.399639891169006\n",
      "At random state 79,the testing accuracy is: 0.3947971158878\n",
      "\n",
      "\n",
      "At random state 80,the training accuracy is: 0.40136168385957083\n",
      "At random state 80,the testing accuracy is: 0.3830684534329216\n",
      "\n",
      "\n",
      "At random state 81,the training accuracy is: 0.3957366775811971\n",
      "At random state 81,the testing accuracy is: 0.3955041948952437\n",
      "\n",
      "\n",
      "At random state 82,the training accuracy is: 0.39226169098998687\n",
      "At random state 82,the testing accuracy is: 0.413914463899816\n",
      "\n",
      "\n",
      "At random state 83,the training accuracy is: 0.394938779327777\n",
      "At random state 83,the testing accuracy is: 0.415124325201098\n",
      "\n",
      "\n",
      "At random state 84,the training accuracy is: 0.40121267716908915\n",
      "At random state 84,the testing accuracy is: 0.38457878613729146\n",
      "\n",
      "\n",
      "At random state 85,the training accuracy is: 0.3854545234563307\n",
      "At random state 85,the testing accuracy is: 0.43230729618856956\n",
      "\n",
      "\n",
      "At random state 86,the training accuracy is: 0.3953284858749251\n",
      "At random state 86,the testing accuracy is: 0.4080938599820034\n",
      "\n",
      "\n",
      "At random state 87,the training accuracy is: 0.3982535001167832\n",
      "At random state 87,the testing accuracy is: 0.39983859034898706\n",
      "\n",
      "\n",
      "At random state 88,the training accuracy is: 0.39175587043860094\n",
      "At random state 88,the testing accuracy is: 0.4222614694572885\n",
      "\n",
      "\n",
      "At random state 89,the training accuracy is: 0.39399956704475336\n",
      "At random state 89,the testing accuracy is: 0.40362653848401797\n",
      "\n",
      "\n",
      "At random state 90,the training accuracy is: 0.3922964529170234\n",
      "At random state 90,the testing accuracy is: 0.4190362248792201\n",
      "\n",
      "\n",
      "At random state 91,the training accuracy is: 0.40008486020963685\n",
      "At random state 91,the testing accuracy is: 0.3847780258659833\n",
      "\n",
      "\n",
      "At random state 92,the training accuracy is: 0.39104904544491315\n",
      "At random state 92,the testing accuracy is: 0.4269593944958342\n",
      "\n",
      "\n",
      "At random state 93,the training accuracy is: 0.4078524091258594\n",
      "At random state 93,the testing accuracy is: 0.36728677746841165\n",
      "\n",
      "\n",
      "At random state 94,the training accuracy is: 0.4015847038406788\n",
      "At random state 94,the testing accuracy is: 0.38606676502178694\n",
      "\n",
      "\n",
      "At random state 95,the training accuracy is: 0.3978517368278366\n",
      "At random state 95,the testing accuracy is: 0.3972633175905327\n",
      "\n",
      "\n",
      "At random state 96,the training accuracy is: 0.40234407815207807\n",
      "At random state 96,the testing accuracy is: 0.3808909861937966\n",
      "\n",
      "\n",
      "At random state 97,the training accuracy is: 0.40036221800153515\n",
      "At random state 97,the testing accuracy is: 0.38547641603019445\n",
      "\n",
      "\n",
      "At random state 98,the training accuracy is: 0.3911362566189983\n",
      "At random state 98,the testing accuracy is: 0.42585149373544695\n",
      "\n",
      "\n",
      "At random state 99,the training accuracy is: 0.3871993524089571\n",
      "At random state 99,the testing accuracy is: 0.43434881709431905\n",
      "\n",
      "\n"
     ]
    }
   ],
   "source": [
    "for i in range(0,100):\n",
    "    x_train,x_test,y_train,y_test=train_test_split(x,y,test_size=0.20,random_state=i)\n",
    "    lr=LinearRegression()\n",
    "    lr.fit(x_train,y_train)\n",
    "    pred_train=lr.predict(x_train)\n",
    "    pred_test=lr.predict(x_test)\n",
    "    print(f'At random state {i},the training accuracy is: {r2_score(y_train,pred_train)}')\n",
    "    print(f'At random state {i},the testing accuracy is: {r2_score(y_test,pred_test)}')\n",
    "    print('\\n')"
   ]
  },
  {
   "cell_type": "markdown",
   "id": "3ab038d1",
   "metadata": {},
   "source": [
    "We will now split the data with the random_state 54 as that has given us the best accuracy on training and test data.\n",
    "\n"
   ]
  },
  {
   "cell_type": "code",
   "execution_count": 89,
   "id": "a4f30d79",
   "metadata": {},
   "outputs": [],
   "source": [
    "x_train,x_test,y_train,y_test=train_test_split(x,y,test_size=.20,random_state=54)"
   ]
  },
  {
   "cell_type": "markdown",
   "id": "e73e6314",
   "metadata": {},
   "source": [
    "# Fitting the data to SupportVectorRegression model\n"
   ]
  },
  {
   "cell_type": "code",
   "execution_count": 90,
   "id": "e9ffc1c5",
   "metadata": {},
   "outputs": [
    {
     "name": "stdout",
     "output_type": "stream",
     "text": [
      "0.3896445440179682\n",
      "0.6896750957547306\n",
      "0.7982917195766307\n"
     ]
    }
   ],
   "source": [
    "from sklearn.svm import SVR\n",
    "kernellist=['linear','poly','rbf']\n",
    "for i in kernellist:\n",
    "    sv=SVR(kernel=i)\n",
    "    sv.fit(x_train,y_train)\n",
    "    print(sv.score(x_train,y_train))"
   ]
  },
  {
   "cell_type": "markdown",
   "id": "6dceefb3",
   "metadata": {},
   "source": [
    "Kernel 'rbf' has given us the best output, hence we will select 'rbf' for testing the mod\n",
    "\n"
   ]
  },
  {
   "cell_type": "markdown",
   "id": "57d64dbc",
   "metadata": {},
   "source": [
    "Fitting the data to various model and checking the accuracy\n"
   ]
  },
  {
   "cell_type": "code",
   "execution_count": 91,
   "id": "2af2ec02",
   "metadata": {},
   "outputs": [
    {
     "data": {
      "text/html": [
       "<div>\n",
       "<style scoped>\n",
       "    .dataframe tbody tr th:only-of-type {\n",
       "        vertical-align: middle;\n",
       "    }\n",
       "\n",
       "    .dataframe tbody tr th {\n",
       "        vertical-align: top;\n",
       "    }\n",
       "\n",
       "    .dataframe thead th {\n",
       "        text-align: right;\n",
       "    }\n",
       "</style>\n",
       "<table border=\"1\" class=\"dataframe\">\n",
       "  <thead>\n",
       "    <tr style=\"text-align: right;\">\n",
       "      <th></th>\n",
       "      <th>Model</th>\n",
       "      <th>Training Score</th>\n",
       "      <th>Test Score</th>\n",
       "      <th>Mean Square Error</th>\n",
       "      <th>Cross Validation Score</th>\n",
       "    </tr>\n",
       "  </thead>\n",
       "  <tbody>\n",
       "    <tr>\n",
       "      <th>0</th>\n",
       "      <td>Linear Regression</td>\n",
       "      <td>0.392694</td>\n",
       "      <td>0.421713</td>\n",
       "      <td>0.021319</td>\n",
       "      <td>0.385688</td>\n",
       "    </tr>\n",
       "    <tr>\n",
       "      <th>1</th>\n",
       "      <td>SupportVector</td>\n",
       "      <td>0.798292</td>\n",
       "      <td>0.765529</td>\n",
       "      <td>0.008644</td>\n",
       "      <td>0.730193</td>\n",
       "    </tr>\n",
       "    <tr>\n",
       "      <th>2</th>\n",
       "      <td>DecisionTree</td>\n",
       "      <td>1.000000</td>\n",
       "      <td>0.673191</td>\n",
       "      <td>0.012048</td>\n",
       "      <td>0.678064</td>\n",
       "    </tr>\n",
       "    <tr>\n",
       "      <th>3</th>\n",
       "      <td>RandomForest</td>\n",
       "      <td>0.974998</td>\n",
       "      <td>0.852648</td>\n",
       "      <td>0.005432</td>\n",
       "      <td>0.821455</td>\n",
       "    </tr>\n",
       "    <tr>\n",
       "      <th>4</th>\n",
       "      <td>KNN</td>\n",
       "      <td>0.821209</td>\n",
       "      <td>0.765673</td>\n",
       "      <td>0.008639</td>\n",
       "      <td>0.711889</td>\n",
       "    </tr>\n",
       "    <tr>\n",
       "      <th>5</th>\n",
       "      <td>AdaBoost</td>\n",
       "      <td>0.650201</td>\n",
       "      <td>0.639212</td>\n",
       "      <td>0.013301</td>\n",
       "      <td>0.601411</td>\n",
       "    </tr>\n",
       "  </tbody>\n",
       "</table>\n",
       "</div>"
      ],
      "text/plain": [
       "               Model  Training Score  Test Score  Mean Square Error  \\\n",
       "0  Linear Regression        0.392694    0.421713           0.021319   \n",
       "1      SupportVector        0.798292    0.765529           0.008644   \n",
       "2       DecisionTree        1.000000    0.673191           0.012048   \n",
       "3       RandomForest        0.974998    0.852648           0.005432   \n",
       "4                KNN        0.821209    0.765673           0.008639   \n",
       "5           AdaBoost        0.650201    0.639212           0.013301   \n",
       "\n",
       "   Cross Validation Score  \n",
       "0                0.385688  \n",
       "1                0.730193  \n",
       "2                0.678064  \n",
       "3                0.821455  \n",
       "4                0.711889  \n",
       "5                0.601411  "
      ]
     },
     "execution_count": 91,
     "metadata": {},
     "output_type": "execute_result"
    }
   ],
   "source": [
    "sv=SVR(kernel='rbf')\n",
    "dt=DecisionTreeRegressor()\n",
    "rf=RandomForestRegressor()\n",
    "kn=KNeighborsRegressor()\n",
    "ab=AdaBoostRegressor()\n",
    "\n",
    "model=[lr,sv,dt,rf,kn,ab]\n",
    "kf = KFold(n_splits=5, random_state=54, shuffle=True)\n",
    "\n",
    "train=[]\n",
    "test=[]\n",
    "Mse=[]\n",
    "cv=[]\n",
    "\n",
    "for m in model:\n",
    "    m.fit(x_train,y_train)\n",
    "    pred_train=m.predict(x_train)\n",
    "    pred_test=m.predict(x_test)\n",
    "    train_score=r2_score(y_train,pred_train)\n",
    "    train.append(train_score)\n",
    "    test_score=r2_score(y_test,pred_test)\n",
    "    test.append(test_score)\n",
    "    mse = mean_squared_error(y_test,pred_test)\n",
    "    Mse.append(mse)\n",
    "    score=cross_val_score(m,x,y,cv=kf)\n",
    "    cv.append(score.mean())\n",
    "    \n",
    "Performance={'Model':['Linear Regression','SupportVector','DecisionTree','RandomForest','KNN','AdaBoost'],\n",
    "             'Training Score':train,\n",
    "            'Test Score':test,\n",
    "            'Mean Square Error':Mse,\n",
    "            'Cross Validation Score': cv}\n",
    "Performance=pd.DataFrame(data=Performance)\n",
    "Performance"
   ]
  },
  {
   "cell_type": "markdown",
   "id": "73826f0d",
   "metadata": {},
   "source": [
    "# We can say that Random Forest Regressor has performed well with test score of 85% and CV score of 82%.SV has also performed well with 76% test accuracy and CV score of 73%\n"
   ]
  },
  {
   "cell_type": "markdown",
   "id": "e4905e7a",
   "metadata": {},
   "source": [
    "# Normalization and HyperTuning"
   ]
  },
  {
   "cell_type": "markdown",
   "id": "1d952579",
   "metadata": {},
   "source": [
    "Importing the required libraries for normalizing the coefficients and Hypertuning our model\n",
    "\n",
    "Using Lasso for Normalization\n",
    "\n",
    "Lets check the best parameters for Lasso"
   ]
  },
  {
   "cell_type": "code",
   "execution_count": 92,
   "id": "0e8a8280",
   "metadata": {},
   "outputs": [
    {
     "name": "stdout",
     "output_type": "stream",
     "text": [
      "{'alpha': 0.0001, 'random_state': 0}\n"
     ]
    }
   ],
   "source": [
    "from sklearn.model_selection import GridSearchCV\n",
    "from sklearn.linear_model import Lasso\n",
    "\n",
    "parameters={'alpha':[.0001,.001,.01,.1,1,10],'random_state':list(range(0,10))}\n",
    "ls=Lasso()\n",
    "clf=GridSearchCV(ls,parameters)\n",
    "clf.fit(x_train,y_train)\n",
    "\n",
    "print(clf.best_params_)"
   ]
  },
  {
   "cell_type": "markdown",
   "id": "1c1e21cc",
   "metadata": {},
   "source": [
    "Lets fit the above parameters to the Lasso\n"
   ]
  },
  {
   "cell_type": "code",
   "execution_count": 93,
   "id": "4adaebc5",
   "metadata": {},
   "outputs": [
    {
     "data": {
      "text/plain": [
       "0.42127201588679575"
      ]
     },
     "execution_count": 93,
     "metadata": {},
     "output_type": "execute_result"
    }
   ],
   "source": [
    "ls=Lasso(alpha=0.0001,random_state=0)\n",
    "ls.fit(x_train,y_train)\n",
    "pred_ls=ls.predict(x_test)\n",
    "lss=r2_score(y_test,pred_ls)\n",
    "lss"
   ]
  },
  {
   "cell_type": "markdown",
   "id": "97dfd5cf",
   "metadata": {},
   "source": [
    "Checking cross validation score for Lasso\n",
    "\n"
   ]
  },
  {
   "cell_type": "code",
   "execution_count": 94,
   "id": "1cb77fd0",
   "metadata": {},
   "outputs": [
    {
     "data": {
      "text/plain": [
       "0.3857379099698203"
      ]
     },
     "execution_count": 94,
     "metadata": {},
     "output_type": "execute_result"
    }
   ],
   "source": [
    "cv_score=cross_val_score(ls,x,y,cv=kf)\n",
    "cv_mean=cv_score.mean()\n",
    "cv_mean"
   ]
  },
  {
   "cell_type": "markdown",
   "id": "1fd7c33e",
   "metadata": {},
   "source": [
    "# We will select RandomForest and Support Vector as our model and Hypertune it to se if there is increase in any accuracy\n"
   ]
  },
  {
   "cell_type": "code",
   "execution_count": 95,
   "id": "b034650d",
   "metadata": {},
   "outputs": [],
   "source": [
    "from sklearn.model_selection import GridSearchCV"
   ]
  },
  {
   "cell_type": "markdown",
   "id": "1aa3ab7c",
   "metadata": {},
   "source": [
    "Importing the library GridSearch for Hypertuning\n",
    "\n",
    "Updating parameters for RFR"
   ]
  },
  {
   "cell_type": "code",
   "execution_count": 96,
   "id": "4f7f48b7",
   "metadata": {},
   "outputs": [],
   "source": [
    "parameters = {'max_depth': [10, 20, 30, 40, None],\n",
    "              'max_features': ['auto', 'sqrt'],\n",
    "              'min_samples_leaf': [1, 2, 4],\n",
    "              'min_samples_split': [2, 5, 10],\n",
    "              'n_estimators': [5, 10, 20, 30, 50]}"
   ]
  },
  {
   "cell_type": "code",
   "execution_count": 97,
   "id": "e72c459b",
   "metadata": {},
   "outputs": [
    {
     "data": {
      "text/plain": [
       "{'max_depth': 20,\n",
       " 'max_features': 'sqrt',\n",
       " 'min_samples_leaf': 1,\n",
       " 'min_samples_split': 2,\n",
       " 'n_estimators': 50}"
      ]
     },
     "execution_count": 97,
     "metadata": {},
     "output_type": "execute_result"
    }
   ],
   "source": [
    "GCV=GridSearchCV(RandomForestRegressor(),parameters,cv=3)\n",
    "GCV.fit(x_train,y_train)\n",
    "GCV.best_params_"
   ]
  },
  {
   "cell_type": "markdown",
   "id": "5f23a5d2",
   "metadata": {},
   "source": [
    "We got the best parameters for our Random Forest model. We will fit it to re train our model\n",
    "\n"
   ]
  },
  {
   "cell_type": "code",
   "execution_count": 98,
   "id": "2b43178d",
   "metadata": {},
   "outputs": [
    {
     "name": "stdout",
     "output_type": "stream",
     "text": [
      "Accuracy Score of RandomForest is 85.85195017545541\n",
      "Mean Square Error is 0.013300939230920619\n",
      "Cross Vaidation Score is 83.40520069189301\n"
     ]
    }
   ],
   "source": [
    "Finalmod=RandomForestRegressor(max_features= 'sqrt', min_samples_leaf= 1, min_samples_split=2,n_estimators=50)\n",
    "Finalmod.fit(x_train,y_train)\n",
    "pred=Finalmod.predict(x_test)\n",
    "acc=r2_score(y_test,pred)\n",
    "MSE = mean_squared_error(y_test,pred_test)\n",
    "cvs_score=cross_val_score(Finalmod,x,y,cv=kf)\n",
    "\n",
    "print('Accuracy Score of RandomForest is',acc*100)\n",
    "print('Mean Square Error is',MSE)\n",
    "print('Cross Vaidation Score is', cvs_score.mean()*100)"
   ]
  },
  {
   "cell_type": "markdown",
   "id": "56de590b",
   "metadata": {},
   "source": [
    "# There is a slight incrase in the model performance with Accuracy score of 85% and CV score of 83%\n"
   ]
  },
  {
   "cell_type": "markdown",
   "id": "da24b9a3",
   "metadata": {},
   "source": [
    "We will now select SVR model for Hypertuning\n",
    "\n"
   ]
  },
  {
   "cell_type": "code",
   "execution_count": 99,
   "id": "d03eda25",
   "metadata": {},
   "outputs": [],
   "source": [
    "param = {'kernel' : ('linear', 'poly', 'rbf', 'sigmoid'),'C' : [1,5,10],'degree' : [3,8],'coef0' : [0.01,10,0.5],'gamma' : ('auto','scale')}"
   ]
  },
  {
   "cell_type": "code",
   "execution_count": 100,
   "id": "9b933e4e",
   "metadata": {},
   "outputs": [
    {
     "data": {
      "text/plain": [
       "{'C': 5, 'coef0': 0.01, 'degree': 3, 'gamma': 'scale', 'kernel': 'rbf'}"
      ]
     },
     "execution_count": 100,
     "metadata": {},
     "output_type": "execute_result"
    }
   ],
   "source": [
    "GCV=GridSearchCV(SVR(),param,cv=3)\n",
    "GCV.fit(x_train,y_train)\n",
    "GCV.best_params_"
   ]
  },
  {
   "cell_type": "code",
   "execution_count": 101,
   "id": "022d6711",
   "metadata": {},
   "outputs": [
    {
     "name": "stdout",
     "output_type": "stream",
     "text": [
      "Accuracy Score of RandomForest is 79.9980678117177\n",
      "Mean Square Error is 0.013300939230920619\n",
      "Cross Vaidation Score is 75.88324189798733\n"
     ]
    }
   ],
   "source": [
    "Finalmod1=SVR(C= 5, coef0= 0.01, degree=3, gamma='scale',kernel='rbf')\n",
    "Finalmod1.fit(x_train,y_train)\n",
    "pred=Finalmod1.predict(x_test)\n",
    "acc1=r2_score(y_test,pred)\n",
    "MSE1 = mean_squared_error(y_test,pred_test)\n",
    "cvs_score1=cross_val_score(Finalmod1,x,y,cv=kf)\n",
    "\n",
    "print('Accuracy Score of RandomForest is',acc1*100)\n",
    "print('Mean Square Error is',MSE1)\n",
    "print('Cross Vaidation Score is', cvs_score1.mean()*100)"
   ]
  },
  {
   "cell_type": "markdown",
   "id": "e88b4991",
   "metadata": {},
   "source": [
    "# SVR has imrpove sigificantly from test performance however RandomForest is giving better result. Hence we will select RandomForest as the final model\n"
   ]
  },
  {
   "cell_type": "markdown",
   "id": "6cbafeac",
   "metadata": {},
   "source": [
    "# Lets Visualize our model\n"
   ]
  },
  {
   "cell_type": "code",
   "execution_count": 102,
   "id": "09bd358f",
   "metadata": {},
   "outputs": [
    {
     "data": {
      "image/png": "[encoded data removed]",
      "text/plain": [
       "<Figure size 576x432 with 1 Axes>"
      ]
     },
     "metadata": {
      "needs_background": "light"
     },
     "output_type": "display_data"
    }
   ],
   "source": [
    "plt.figure(figsize=(8,6))\n",
    "plt.scatter(x=y_test,y=pred,color='r')\n",
    "plt.plot(y_test,y_test,color='b')\n",
    "plt.xlabel('Actual Wins',fontsize=14)\n",
    "plt.ylabel('Predicted Wins',fontsize=14)\n",
    "plt.title('RandomForest Regressor',fontsize=18)\n",
    "plt.show()"
   ]
  },
  {
   "cell_type": "markdown",
   "id": "ac9ee74a",
   "metadata": {},
   "source": [
    "#The model is performing iwth 84% accuracy. Hence we can say that we can predict 84% of the Avocado prices correctly.\n",
    "\n",
    "Lets create our object file for the final model\n",
    "\n"
   ]
  },
  {
   "cell_type": "code",
   "execution_count": 103,
   "id": "43506590",
   "metadata": {},
   "outputs": [
    {
     "data": {
      "text/plain": [
       "['Avocado_price.obj']"
      ]
     },
     "execution_count": 103,
     "metadata": {},
     "output_type": "execute_result"
    }
   ],
   "source": [
    "import joblib\n",
    "joblib.dump(Finalmod,'Avocado_price.obj')"
   ]
  }
 ],
 "metadata": {
  "kernelspec": {
   "display_name": "Python 3 (ipykernel)",
   "language": "python",
   "name": "python3"
  },
  "language_info": {
   "codemirror_mode": {
    "name": "ipython",
    "version": 3
   },
   "file_extension": ".py",
   "mimetype": "text/x-python",
   "name": "python",
   "nbconvert_exporter": "python",
   "pygments_lexer": "ipython3",
   "version": "3.9.7"
  }
 },
 "nbformat": 4,
 "nbformat_minor": 5
}
