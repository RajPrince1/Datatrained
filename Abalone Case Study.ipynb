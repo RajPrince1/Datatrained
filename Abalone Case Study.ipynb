{
 "cells": [
  {
   "cell_type": "code",
   "execution_count": 1,
   "id": "14f281b4",
   "metadata": {},
   "outputs": [],
   "source": [
    "import numpy as np\n",
    "import pandas as pd\n",
    "import matplotlib.pyplot as plt\n",
    "import seaborn as sns\n",
    "import warnings\n",
    "warnings.filterwarnings('ignore') "
   ]
  },
  {
   "cell_type": "code",
   "execution_count": 2,
   "id": "b13614a3",
   "metadata": {},
   "outputs": [
    {
     "data": {
      "text/html": [
       "<div>\n",
       "<style scoped>\n",
       "    .dataframe tbody tr th:only-of-type {\n",
       "        vertical-align: middle;\n",
       "    }\n",
       "\n",
       "    .dataframe tbody tr th {\n",
       "        vertical-align: top;\n",
       "    }\n",
       "\n",
       "    .dataframe thead th {\n",
       "        text-align: right;\n",
       "    }\n",
       "</style>\n",
       "<table border=\"1\" class=\"dataframe\">\n",
       "  <thead>\n",
       "    <tr style=\"text-align: right;\">\n",
       "      <th></th>\n",
       "      <th>Sex</th>\n",
       "      <th>Length</th>\n",
       "      <th>Diameter</th>\n",
       "      <th>Height</th>\n",
       "      <th>Whole weight</th>\n",
       "      <th>Shucked weight</th>\n",
       "      <th>Viscera weight</th>\n",
       "      <th>Shell weight</th>\n",
       "      <th>Rings</th>\n",
       "    </tr>\n",
       "  </thead>\n",
       "  <tbody>\n",
       "    <tr>\n",
       "      <th>0</th>\n",
       "      <td>M</td>\n",
       "      <td>0.455</td>\n",
       "      <td>0.365</td>\n",
       "      <td>0.095</td>\n",
       "      <td>0.5140</td>\n",
       "      <td>0.2245</td>\n",
       "      <td>0.1010</td>\n",
       "      <td>0.1500</td>\n",
       "      <td>15</td>\n",
       "    </tr>\n",
       "    <tr>\n",
       "      <th>1</th>\n",
       "      <td>M</td>\n",
       "      <td>0.350</td>\n",
       "      <td>0.265</td>\n",
       "      <td>0.090</td>\n",
       "      <td>0.2255</td>\n",
       "      <td>0.0995</td>\n",
       "      <td>0.0485</td>\n",
       "      <td>0.0700</td>\n",
       "      <td>7</td>\n",
       "    </tr>\n",
       "    <tr>\n",
       "      <th>2</th>\n",
       "      <td>F</td>\n",
       "      <td>0.530</td>\n",
       "      <td>0.420</td>\n",
       "      <td>0.135</td>\n",
       "      <td>0.6770</td>\n",
       "      <td>0.2565</td>\n",
       "      <td>0.1415</td>\n",
       "      <td>0.2100</td>\n",
       "      <td>9</td>\n",
       "    </tr>\n",
       "    <tr>\n",
       "      <th>3</th>\n",
       "      <td>M</td>\n",
       "      <td>0.440</td>\n",
       "      <td>0.365</td>\n",
       "      <td>0.125</td>\n",
       "      <td>0.5160</td>\n",
       "      <td>0.2155</td>\n",
       "      <td>0.1140</td>\n",
       "      <td>0.1550</td>\n",
       "      <td>10</td>\n",
       "    </tr>\n",
       "    <tr>\n",
       "      <th>4</th>\n",
       "      <td>I</td>\n",
       "      <td>0.330</td>\n",
       "      <td>0.255</td>\n",
       "      <td>0.080</td>\n",
       "      <td>0.2050</td>\n",
       "      <td>0.0895</td>\n",
       "      <td>0.0395</td>\n",
       "      <td>0.0550</td>\n",
       "      <td>7</td>\n",
       "    </tr>\n",
       "    <tr>\n",
       "      <th>...</th>\n",
       "      <td>...</td>\n",
       "      <td>...</td>\n",
       "      <td>...</td>\n",
       "      <td>...</td>\n",
       "      <td>...</td>\n",
       "      <td>...</td>\n",
       "      <td>...</td>\n",
       "      <td>...</td>\n",
       "      <td>...</td>\n",
       "    </tr>\n",
       "    <tr>\n",
       "      <th>4172</th>\n",
       "      <td>F</td>\n",
       "      <td>0.565</td>\n",
       "      <td>0.450</td>\n",
       "      <td>0.165</td>\n",
       "      <td>0.8870</td>\n",
       "      <td>0.3700</td>\n",
       "      <td>0.2390</td>\n",
       "      <td>0.2490</td>\n",
       "      <td>11</td>\n",
       "    </tr>\n",
       "    <tr>\n",
       "      <th>4173</th>\n",
       "      <td>M</td>\n",
       "      <td>0.590</td>\n",
       "      <td>0.440</td>\n",
       "      <td>0.135</td>\n",
       "      <td>0.9660</td>\n",
       "      <td>0.4390</td>\n",
       "      <td>0.2145</td>\n",
       "      <td>0.2605</td>\n",
       "      <td>10</td>\n",
       "    </tr>\n",
       "    <tr>\n",
       "      <th>4174</th>\n",
       "      <td>M</td>\n",
       "      <td>0.600</td>\n",
       "      <td>0.475</td>\n",
       "      <td>0.205</td>\n",
       "      <td>1.1760</td>\n",
       "      <td>0.5255</td>\n",
       "      <td>0.2875</td>\n",
       "      <td>0.3080</td>\n",
       "      <td>9</td>\n",
       "    </tr>\n",
       "    <tr>\n",
       "      <th>4175</th>\n",
       "      <td>F</td>\n",
       "      <td>0.625</td>\n",
       "      <td>0.485</td>\n",
       "      <td>0.150</td>\n",
       "      <td>1.0945</td>\n",
       "      <td>0.5310</td>\n",
       "      <td>0.2610</td>\n",
       "      <td>0.2960</td>\n",
       "      <td>10</td>\n",
       "    </tr>\n",
       "    <tr>\n",
       "      <th>4176</th>\n",
       "      <td>M</td>\n",
       "      <td>0.710</td>\n",
       "      <td>0.555</td>\n",
       "      <td>0.195</td>\n",
       "      <td>1.9485</td>\n",
       "      <td>0.9455</td>\n",
       "      <td>0.3765</td>\n",
       "      <td>0.4950</td>\n",
       "      <td>12</td>\n",
       "    </tr>\n",
       "  </tbody>\n",
       "</table>\n",
       "<p>4177 rows × 9 columns</p>\n",
       "</div>"
      ],
      "text/plain": [
       "     Sex  Length  Diameter  Height  Whole weight  Shucked weight  \\\n",
       "0      M   0.455     0.365   0.095        0.5140          0.2245   \n",
       "1      M   0.350     0.265   0.090        0.2255          0.0995   \n",
       "2      F   0.530     0.420   0.135        0.6770          0.2565   \n",
       "3      M   0.440     0.365   0.125        0.5160          0.2155   \n",
       "4      I   0.330     0.255   0.080        0.2050          0.0895   \n",
       "...   ..     ...       ...     ...           ...             ...   \n",
       "4172   F   0.565     0.450   0.165        0.8870          0.3700   \n",
       "4173   M   0.590     0.440   0.135        0.9660          0.4390   \n",
       "4174   M   0.600     0.475   0.205        1.1760          0.5255   \n",
       "4175   F   0.625     0.485   0.150        1.0945          0.5310   \n",
       "4176   M   0.710     0.555   0.195        1.9485          0.9455   \n",
       "\n",
       "      Viscera weight  Shell weight  Rings  \n",
       "0             0.1010        0.1500     15  \n",
       "1             0.0485        0.0700      7  \n",
       "2             0.1415        0.2100      9  \n",
       "3             0.1140        0.1550     10  \n",
       "4             0.0395        0.0550      7  \n",
       "...              ...           ...    ...  \n",
       "4172          0.2390        0.2490     11  \n",
       "4173          0.2145        0.2605     10  \n",
       "4174          0.2875        0.3080      9  \n",
       "4175          0.2610        0.2960     10  \n",
       "4176          0.3765        0.4950     12  \n",
       "\n",
       "[4177 rows x 9 columns]"
      ]
     },
     "execution_count": 2,
     "metadata": {},
     "output_type": "execute_result"
    }
   ],
   "source": [
    "df=pd.read_csv('https://raw.githubusercontent.com/dsrscientist/dataset1/master/abalone.csv')\n",
    "df"
   ]
  },
  {
   "cell_type": "code",
   "execution_count": 3,
   "id": "c7955f87",
   "metadata": {},
   "outputs": [
    {
     "name": "stdout",
     "output_type": "stream",
     "text": [
      "<class 'pandas.core.frame.DataFrame'>\n",
      "RangeIndex: 4177 entries, 0 to 4176\n",
      "Data columns (total 9 columns):\n",
      " #   Column          Non-Null Count  Dtype  \n",
      "---  ------          --------------  -----  \n",
      " 0   Sex             4177 non-null   object \n",
      " 1   Length          4177 non-null   float64\n",
      " 2   Diameter        4177 non-null   float64\n",
      " 3   Height          4177 non-null   float64\n",
      " 4   Whole weight    4177 non-null   float64\n",
      " 5   Shucked weight  4177 non-null   float64\n",
      " 6   Viscera weight  4177 non-null   float64\n",
      " 7   Shell weight    4177 non-null   float64\n",
      " 8   Rings           4177 non-null   int64  \n",
      "dtypes: float64(7), int64(1), object(1)\n",
      "memory usage: 293.8+ KB\n"
     ]
    }
   ],
   "source": [
    "df.info()"
   ]
  },
  {
   "cell_type": "markdown",
   "id": "3e413f75",
   "metadata": {},
   "source": [
    "We have only feature with object data, remaining has numeric values"
   ]
  },
  {
   "cell_type": "code",
   "execution_count": 4,
   "id": "4a0396d0",
   "metadata": {},
   "outputs": [
    {
     "data": {
      "text/plain": [
       "Sex               0\n",
       "Length            0\n",
       "Diameter          0\n",
       "Height            0\n",
       "Whole weight      0\n",
       "Shucked weight    0\n",
       "Viscera weight    0\n",
       "Shell weight      0\n",
       "Rings             0\n",
       "dtype: int64"
      ]
     },
     "execution_count": 4,
     "metadata": {},
     "output_type": "execute_result"
    }
   ],
   "source": [
    "df.isnull().sum()"
   ]
  },
  {
   "cell_type": "markdown",
   "id": "9ff3cd95",
   "metadata": {},
   "source": [
    "There are no null values in the dataset"
   ]
  },
  {
   "cell_type": "code",
   "execution_count": 5,
   "id": "819fd58a",
   "metadata": {},
   "outputs": [
    {
     "data": {
      "text/plain": [
       "<AxesSubplot:>"
      ]
     },
     "execution_count": 5,
     "metadata": {},
     "output_type": "execute_result"
    },
    {
     "data": {
      "image/png": "[encoded data removed]",
      "text/plain": [
       "<Figure size 432x288 with 2 Axes>"
      ]
     },
     "metadata": {
      "needs_background": "light"
     },
     "output_type": "display_data"
    }
   ],
   "source": [
    "sns.heatmap(df.isnull())"
   ]
  },
  {
   "cell_type": "code",
   "execution_count": 7,
   "id": "3703e8f6",
   "metadata": {},
   "outputs": [],
   "source": [
    "missing_values = [\"?\",'--','']\n",
    "df=pd.read_csv('https://raw.githubusercontent.com/dsrscientist/dataset1/master/abalone.csv',na_values = missing_values)"
   ]
  },
  {
   "cell_type": "code",
   "execution_count": 8,
   "id": "f4c1703d",
   "metadata": {},
   "outputs": [
    {
     "data": {
      "text/plain": [
       "Sex               0\n",
       "Length            0\n",
       "Diameter          0\n",
       "Height            0\n",
       "Whole weight      0\n",
       "Shucked weight    0\n",
       "Viscera weight    0\n",
       "Shell weight      0\n",
       "Rings             0\n",
       "dtype: int64"
      ]
     },
     "execution_count": 8,
     "metadata": {},
     "output_type": "execute_result"
    }
   ],
   "source": [
    "df.isnull().sum()"
   ]
  },
  {
   "cell_type": "code",
   "execution_count": 9,
   "id": "2ccb0c57",
   "metadata": {},
   "outputs": [
    {
     "data": {
      "text/html": [
       "<div>\n",
       "<style scoped>\n",
       "    .dataframe tbody tr th:only-of-type {\n",
       "        vertical-align: middle;\n",
       "    }\n",
       "\n",
       "    .dataframe tbody tr th {\n",
       "        vertical-align: top;\n",
       "    }\n",
       "\n",
       "    .dataframe thead th {\n",
       "        text-align: right;\n",
       "    }\n",
       "</style>\n",
       "<table border=\"1\" class=\"dataframe\">\n",
       "  <thead>\n",
       "    <tr style=\"text-align: right;\">\n",
       "      <th></th>\n",
       "      <th>Length</th>\n",
       "      <th>Diameter</th>\n",
       "      <th>Height</th>\n",
       "      <th>Whole weight</th>\n",
       "      <th>Shucked weight</th>\n",
       "      <th>Viscera weight</th>\n",
       "      <th>Shell weight</th>\n",
       "      <th>Rings</th>\n",
       "    </tr>\n",
       "  </thead>\n",
       "  <tbody>\n",
       "    <tr>\n",
       "      <th>count</th>\n",
       "      <td>4177.000000</td>\n",
       "      <td>4177.000000</td>\n",
       "      <td>4177.000000</td>\n",
       "      <td>4177.000000</td>\n",
       "      <td>4177.000000</td>\n",
       "      <td>4177.000000</td>\n",
       "      <td>4177.000000</td>\n",
       "      <td>4177.000000</td>\n",
       "    </tr>\n",
       "    <tr>\n",
       "      <th>mean</th>\n",
       "      <td>0.523992</td>\n",
       "      <td>0.407881</td>\n",
       "      <td>0.139516</td>\n",
       "      <td>0.828742</td>\n",
       "      <td>0.359367</td>\n",
       "      <td>0.180594</td>\n",
       "      <td>0.238831</td>\n",
       "      <td>9.933684</td>\n",
       "    </tr>\n",
       "    <tr>\n",
       "      <th>std</th>\n",
       "      <td>0.120093</td>\n",
       "      <td>0.099240</td>\n",
       "      <td>0.041827</td>\n",
       "      <td>0.490389</td>\n",
       "      <td>0.221963</td>\n",
       "      <td>0.109614</td>\n",
       "      <td>0.139203</td>\n",
       "      <td>3.224169</td>\n",
       "    </tr>\n",
       "    <tr>\n",
       "      <th>min</th>\n",
       "      <td>0.075000</td>\n",
       "      <td>0.055000</td>\n",
       "      <td>0.000000</td>\n",
       "      <td>0.002000</td>\n",
       "      <td>0.001000</td>\n",
       "      <td>0.000500</td>\n",
       "      <td>0.001500</td>\n",
       "      <td>1.000000</td>\n",
       "    </tr>\n",
       "    <tr>\n",
       "      <th>25%</th>\n",
       "      <td>0.450000</td>\n",
       "      <td>0.350000</td>\n",
       "      <td>0.115000</td>\n",
       "      <td>0.441500</td>\n",
       "      <td>0.186000</td>\n",
       "      <td>0.093500</td>\n",
       "      <td>0.130000</td>\n",
       "      <td>8.000000</td>\n",
       "    </tr>\n",
       "    <tr>\n",
       "      <th>50%</th>\n",
       "      <td>0.545000</td>\n",
       "      <td>0.425000</td>\n",
       "      <td>0.140000</td>\n",
       "      <td>0.799500</td>\n",
       "      <td>0.336000</td>\n",
       "      <td>0.171000</td>\n",
       "      <td>0.234000</td>\n",
       "      <td>9.000000</td>\n",
       "    </tr>\n",
       "    <tr>\n",
       "      <th>75%</th>\n",
       "      <td>0.615000</td>\n",
       "      <td>0.480000</td>\n",
       "      <td>0.165000</td>\n",
       "      <td>1.153000</td>\n",
       "      <td>0.502000</td>\n",
       "      <td>0.253000</td>\n",
       "      <td>0.329000</td>\n",
       "      <td>11.000000</td>\n",
       "    </tr>\n",
       "    <tr>\n",
       "      <th>max</th>\n",
       "      <td>0.815000</td>\n",
       "      <td>0.650000</td>\n",
       "      <td>1.130000</td>\n",
       "      <td>2.825500</td>\n",
       "      <td>1.488000</td>\n",
       "      <td>0.760000</td>\n",
       "      <td>1.005000</td>\n",
       "      <td>29.000000</td>\n",
       "    </tr>\n",
       "  </tbody>\n",
       "</table>\n",
       "</div>"
      ],
      "text/plain": [
       "            Length     Diameter       Height  Whole weight  Shucked weight  \\\n",
       "count  4177.000000  4177.000000  4177.000000   4177.000000     4177.000000   \n",
       "mean      0.523992     0.407881     0.139516      0.828742        0.359367   \n",
       "std       0.120093     0.099240     0.041827      0.490389        0.221963   \n",
       "min       0.075000     0.055000     0.000000      0.002000        0.001000   \n",
       "25%       0.450000     0.350000     0.115000      0.441500        0.186000   \n",
       "50%       0.545000     0.425000     0.140000      0.799500        0.336000   \n",
       "75%       0.615000     0.480000     0.165000      1.153000        0.502000   \n",
       "max       0.815000     0.650000     1.130000      2.825500        1.488000   \n",
       "\n",
       "       Viscera weight  Shell weight        Rings  \n",
       "count     4177.000000   4177.000000  4177.000000  \n",
       "mean         0.180594      0.238831     9.933684  \n",
       "std          0.109614      0.139203     3.224169  \n",
       "min          0.000500      0.001500     1.000000  \n",
       "25%          0.093500      0.130000     8.000000  \n",
       "50%          0.171000      0.234000     9.000000  \n",
       "75%          0.253000      0.329000    11.000000  \n",
       "max          0.760000      1.005000    29.000000  "
      ]
     },
     "execution_count": 9,
     "metadata": {},
     "output_type": "execute_result"
    }
   ],
   "source": [
    "df.describe()"
   ]
  },
  {
   "cell_type": "markdown",
   "id": "746c5787",
   "metadata": {},
   "source": [
    "As per attributes given Rings / integer / -- / +1.5 gives the age in years.\n",
    "\n",
    "Hence we will change the column name of 'Rings' to 'Age' and will add 1.5 to each row"
   ]
  },
  {
   "cell_type": "code",
   "execution_count": 10,
   "id": "d1d44db2",
   "metadata": {},
   "outputs": [],
   "source": [
    "df['Age'] = df['Rings']+1.5"
   ]
  },
  {
   "cell_type": "code",
   "execution_count": 11,
   "id": "6f024070",
   "metadata": {},
   "outputs": [
    {
     "data": {
      "text/html": [
       "<div>\n",
       "<style scoped>\n",
       "    .dataframe tbody tr th:only-of-type {\n",
       "        vertical-align: middle;\n",
       "    }\n",
       "\n",
       "    .dataframe tbody tr th {\n",
       "        vertical-align: top;\n",
       "    }\n",
       "\n",
       "    .dataframe thead th {\n",
       "        text-align: right;\n",
       "    }\n",
       "</style>\n",
       "<table border=\"1\" class=\"dataframe\">\n",
       "  <thead>\n",
       "    <tr style=\"text-align: right;\">\n",
       "      <th></th>\n",
       "      <th>Sex</th>\n",
       "      <th>Length</th>\n",
       "      <th>Diameter</th>\n",
       "      <th>Height</th>\n",
       "      <th>Whole weight</th>\n",
       "      <th>Shucked weight</th>\n",
       "      <th>Viscera weight</th>\n",
       "      <th>Shell weight</th>\n",
       "      <th>Rings</th>\n",
       "      <th>Age</th>\n",
       "    </tr>\n",
       "  </thead>\n",
       "  <tbody>\n",
       "    <tr>\n",
       "      <th>0</th>\n",
       "      <td>M</td>\n",
       "      <td>0.455</td>\n",
       "      <td>0.365</td>\n",
       "      <td>0.095</td>\n",
       "      <td>0.5140</td>\n",
       "      <td>0.2245</td>\n",
       "      <td>0.1010</td>\n",
       "      <td>0.1500</td>\n",
       "      <td>15</td>\n",
       "      <td>16.5</td>\n",
       "    </tr>\n",
       "    <tr>\n",
       "      <th>1</th>\n",
       "      <td>M</td>\n",
       "      <td>0.350</td>\n",
       "      <td>0.265</td>\n",
       "      <td>0.090</td>\n",
       "      <td>0.2255</td>\n",
       "      <td>0.0995</td>\n",
       "      <td>0.0485</td>\n",
       "      <td>0.0700</td>\n",
       "      <td>7</td>\n",
       "      <td>8.5</td>\n",
       "    </tr>\n",
       "    <tr>\n",
       "      <th>2</th>\n",
       "      <td>F</td>\n",
       "      <td>0.530</td>\n",
       "      <td>0.420</td>\n",
       "      <td>0.135</td>\n",
       "      <td>0.6770</td>\n",
       "      <td>0.2565</td>\n",
       "      <td>0.1415</td>\n",
       "      <td>0.2100</td>\n",
       "      <td>9</td>\n",
       "      <td>10.5</td>\n",
       "    </tr>\n",
       "    <tr>\n",
       "      <th>3</th>\n",
       "      <td>M</td>\n",
       "      <td>0.440</td>\n",
       "      <td>0.365</td>\n",
       "      <td>0.125</td>\n",
       "      <td>0.5160</td>\n",
       "      <td>0.2155</td>\n",
       "      <td>0.1140</td>\n",
       "      <td>0.1550</td>\n",
       "      <td>10</td>\n",
       "      <td>11.5</td>\n",
       "    </tr>\n",
       "    <tr>\n",
       "      <th>4</th>\n",
       "      <td>I</td>\n",
       "      <td>0.330</td>\n",
       "      <td>0.255</td>\n",
       "      <td>0.080</td>\n",
       "      <td>0.2050</td>\n",
       "      <td>0.0895</td>\n",
       "      <td>0.0395</td>\n",
       "      <td>0.0550</td>\n",
       "      <td>7</td>\n",
       "      <td>8.5</td>\n",
       "    </tr>\n",
       "    <tr>\n",
       "      <th>...</th>\n",
       "      <td>...</td>\n",
       "      <td>...</td>\n",
       "      <td>...</td>\n",
       "      <td>...</td>\n",
       "      <td>...</td>\n",
       "      <td>...</td>\n",
       "      <td>...</td>\n",
       "      <td>...</td>\n",
       "      <td>...</td>\n",
       "      <td>...</td>\n",
       "    </tr>\n",
       "    <tr>\n",
       "      <th>4172</th>\n",
       "      <td>F</td>\n",
       "      <td>0.565</td>\n",
       "      <td>0.450</td>\n",
       "      <td>0.165</td>\n",
       "      <td>0.8870</td>\n",
       "      <td>0.3700</td>\n",
       "      <td>0.2390</td>\n",
       "      <td>0.2490</td>\n",
       "      <td>11</td>\n",
       "      <td>12.5</td>\n",
       "    </tr>\n",
       "    <tr>\n",
       "      <th>4173</th>\n",
       "      <td>M</td>\n",
       "      <td>0.590</td>\n",
       "      <td>0.440</td>\n",
       "      <td>0.135</td>\n",
       "      <td>0.9660</td>\n",
       "      <td>0.4390</td>\n",
       "      <td>0.2145</td>\n",
       "      <td>0.2605</td>\n",
       "      <td>10</td>\n",
       "      <td>11.5</td>\n",
       "    </tr>\n",
       "    <tr>\n",
       "      <th>4174</th>\n",
       "      <td>M</td>\n",
       "      <td>0.600</td>\n",
       "      <td>0.475</td>\n",
       "      <td>0.205</td>\n",
       "      <td>1.1760</td>\n",
       "      <td>0.5255</td>\n",
       "      <td>0.2875</td>\n",
       "      <td>0.3080</td>\n",
       "      <td>9</td>\n",
       "      <td>10.5</td>\n",
       "    </tr>\n",
       "    <tr>\n",
       "      <th>4175</th>\n",
       "      <td>F</td>\n",
       "      <td>0.625</td>\n",
       "      <td>0.485</td>\n",
       "      <td>0.150</td>\n",
       "      <td>1.0945</td>\n",
       "      <td>0.5310</td>\n",
       "      <td>0.2610</td>\n",
       "      <td>0.2960</td>\n",
       "      <td>10</td>\n",
       "      <td>11.5</td>\n",
       "    </tr>\n",
       "    <tr>\n",
       "      <th>4176</th>\n",
       "      <td>M</td>\n",
       "      <td>0.710</td>\n",
       "      <td>0.555</td>\n",
       "      <td>0.195</td>\n",
       "      <td>1.9485</td>\n",
       "      <td>0.9455</td>\n",
       "      <td>0.3765</td>\n",
       "      <td>0.4950</td>\n",
       "      <td>12</td>\n",
       "      <td>13.5</td>\n",
       "    </tr>\n",
       "  </tbody>\n",
       "</table>\n",
       "<p>4177 rows × 10 columns</p>\n",
       "</div>"
      ],
      "text/plain": [
       "     Sex  Length  Diameter  Height  Whole weight  Shucked weight  \\\n",
       "0      M   0.455     0.365   0.095        0.5140          0.2245   \n",
       "1      M   0.350     0.265   0.090        0.2255          0.0995   \n",
       "2      F   0.530     0.420   0.135        0.6770          0.2565   \n",
       "3      M   0.440     0.365   0.125        0.5160          0.2155   \n",
       "4      I   0.330     0.255   0.080        0.2050          0.0895   \n",
       "...   ..     ...       ...     ...           ...             ...   \n",
       "4172   F   0.565     0.450   0.165        0.8870          0.3700   \n",
       "4173   M   0.590     0.440   0.135        0.9660          0.4390   \n",
       "4174   M   0.600     0.475   0.205        1.1760          0.5255   \n",
       "4175   F   0.625     0.485   0.150        1.0945          0.5310   \n",
       "4176   M   0.710     0.555   0.195        1.9485          0.9455   \n",
       "\n",
       "      Viscera weight  Shell weight  Rings   Age  \n",
       "0             0.1010        0.1500     15  16.5  \n",
       "1             0.0485        0.0700      7   8.5  \n",
       "2             0.1415        0.2100      9  10.5  \n",
       "3             0.1140        0.1550     10  11.5  \n",
       "4             0.0395        0.0550      7   8.5  \n",
       "...              ...           ...    ...   ...  \n",
       "4172          0.2390        0.2490     11  12.5  \n",
       "4173          0.2145        0.2605     10  11.5  \n",
       "4174          0.2875        0.3080      9  10.5  \n",
       "4175          0.2610        0.2960     10  11.5  \n",
       "4176          0.3765        0.4950     12  13.5  \n",
       "\n",
       "[4177 rows x 10 columns]"
      ]
     },
     "execution_count": 11,
     "metadata": {},
     "output_type": "execute_result"
    }
   ],
   "source": [
    "df"
   ]
  },
  {
   "cell_type": "markdown",
   "id": "38d33a09",
   "metadata": {},
   "source": [
    "We can see that we have added 1.5 value to the Rings to get the Age. Now we will drop the \"Rings\" columns."
   ]
  },
  {
   "cell_type": "code",
   "execution_count": 12,
   "id": "c7c5f640",
   "metadata": {},
   "outputs": [],
   "source": [
    "df.drop(['Rings'],axis=1,inplace=True)"
   ]
  },
  {
   "cell_type": "code",
   "execution_count": 13,
   "id": "dd444c08",
   "metadata": {},
   "outputs": [
    {
     "data": {
      "text/html": [
       "<div>\n",
       "<style scoped>\n",
       "    .dataframe tbody tr th:only-of-type {\n",
       "        vertical-align: middle;\n",
       "    }\n",
       "\n",
       "    .dataframe tbody tr th {\n",
       "        vertical-align: top;\n",
       "    }\n",
       "\n",
       "    .dataframe thead th {\n",
       "        text-align: right;\n",
       "    }\n",
       "</style>\n",
       "<table border=\"1\" class=\"dataframe\">\n",
       "  <thead>\n",
       "    <tr style=\"text-align: right;\">\n",
       "      <th></th>\n",
       "      <th>Sex</th>\n",
       "      <th>Length</th>\n",
       "      <th>Diameter</th>\n",
       "      <th>Height</th>\n",
       "      <th>Whole weight</th>\n",
       "      <th>Shucked weight</th>\n",
       "      <th>Viscera weight</th>\n",
       "      <th>Shell weight</th>\n",
       "      <th>Age</th>\n",
       "    </tr>\n",
       "  </thead>\n",
       "  <tbody>\n",
       "    <tr>\n",
       "      <th>0</th>\n",
       "      <td>M</td>\n",
       "      <td>0.455</td>\n",
       "      <td>0.365</td>\n",
       "      <td>0.095</td>\n",
       "      <td>0.5140</td>\n",
       "      <td>0.2245</td>\n",
       "      <td>0.1010</td>\n",
       "      <td>0.1500</td>\n",
       "      <td>16.5</td>\n",
       "    </tr>\n",
       "    <tr>\n",
       "      <th>1</th>\n",
       "      <td>M</td>\n",
       "      <td>0.350</td>\n",
       "      <td>0.265</td>\n",
       "      <td>0.090</td>\n",
       "      <td>0.2255</td>\n",
       "      <td>0.0995</td>\n",
       "      <td>0.0485</td>\n",
       "      <td>0.0700</td>\n",
       "      <td>8.5</td>\n",
       "    </tr>\n",
       "    <tr>\n",
       "      <th>2</th>\n",
       "      <td>F</td>\n",
       "      <td>0.530</td>\n",
       "      <td>0.420</td>\n",
       "      <td>0.135</td>\n",
       "      <td>0.6770</td>\n",
       "      <td>0.2565</td>\n",
       "      <td>0.1415</td>\n",
       "      <td>0.2100</td>\n",
       "      <td>10.5</td>\n",
       "    </tr>\n",
       "    <tr>\n",
       "      <th>3</th>\n",
       "      <td>M</td>\n",
       "      <td>0.440</td>\n",
       "      <td>0.365</td>\n",
       "      <td>0.125</td>\n",
       "      <td>0.5160</td>\n",
       "      <td>0.2155</td>\n",
       "      <td>0.1140</td>\n",
       "      <td>0.1550</td>\n",
       "      <td>11.5</td>\n",
       "    </tr>\n",
       "    <tr>\n",
       "      <th>4</th>\n",
       "      <td>I</td>\n",
       "      <td>0.330</td>\n",
       "      <td>0.255</td>\n",
       "      <td>0.080</td>\n",
       "      <td>0.2050</td>\n",
       "      <td>0.0895</td>\n",
       "      <td>0.0395</td>\n",
       "      <td>0.0550</td>\n",
       "      <td>8.5</td>\n",
       "    </tr>\n",
       "    <tr>\n",
       "      <th>...</th>\n",
       "      <td>...</td>\n",
       "      <td>...</td>\n",
       "      <td>...</td>\n",
       "      <td>...</td>\n",
       "      <td>...</td>\n",
       "      <td>...</td>\n",
       "      <td>...</td>\n",
       "      <td>...</td>\n",
       "      <td>...</td>\n",
       "    </tr>\n",
       "    <tr>\n",
       "      <th>4172</th>\n",
       "      <td>F</td>\n",
       "      <td>0.565</td>\n",
       "      <td>0.450</td>\n",
       "      <td>0.165</td>\n",
       "      <td>0.8870</td>\n",
       "      <td>0.3700</td>\n",
       "      <td>0.2390</td>\n",
       "      <td>0.2490</td>\n",
       "      <td>12.5</td>\n",
       "    </tr>\n",
       "    <tr>\n",
       "      <th>4173</th>\n",
       "      <td>M</td>\n",
       "      <td>0.590</td>\n",
       "      <td>0.440</td>\n",
       "      <td>0.135</td>\n",
       "      <td>0.9660</td>\n",
       "      <td>0.4390</td>\n",
       "      <td>0.2145</td>\n",
       "      <td>0.2605</td>\n",
       "      <td>11.5</td>\n",
       "    </tr>\n",
       "    <tr>\n",
       "      <th>4174</th>\n",
       "      <td>M</td>\n",
       "      <td>0.600</td>\n",
       "      <td>0.475</td>\n",
       "      <td>0.205</td>\n",
       "      <td>1.1760</td>\n",
       "      <td>0.5255</td>\n",
       "      <td>0.2875</td>\n",
       "      <td>0.3080</td>\n",
       "      <td>10.5</td>\n",
       "    </tr>\n",
       "    <tr>\n",
       "      <th>4175</th>\n",
       "      <td>F</td>\n",
       "      <td>0.625</td>\n",
       "      <td>0.485</td>\n",
       "      <td>0.150</td>\n",
       "      <td>1.0945</td>\n",
       "      <td>0.5310</td>\n",
       "      <td>0.2610</td>\n",
       "      <td>0.2960</td>\n",
       "      <td>11.5</td>\n",
       "    </tr>\n",
       "    <tr>\n",
       "      <th>4176</th>\n",
       "      <td>M</td>\n",
       "      <td>0.710</td>\n",
       "      <td>0.555</td>\n",
       "      <td>0.195</td>\n",
       "      <td>1.9485</td>\n",
       "      <td>0.9455</td>\n",
       "      <td>0.3765</td>\n",
       "      <td>0.4950</td>\n",
       "      <td>13.5</td>\n",
       "    </tr>\n",
       "  </tbody>\n",
       "</table>\n",
       "<p>4177 rows × 9 columns</p>\n",
       "</div>"
      ],
      "text/plain": [
       "     Sex  Length  Diameter  Height  Whole weight  Shucked weight  \\\n",
       "0      M   0.455     0.365   0.095        0.5140          0.2245   \n",
       "1      M   0.350     0.265   0.090        0.2255          0.0995   \n",
       "2      F   0.530     0.420   0.135        0.6770          0.2565   \n",
       "3      M   0.440     0.365   0.125        0.5160          0.2155   \n",
       "4      I   0.330     0.255   0.080        0.2050          0.0895   \n",
       "...   ..     ...       ...     ...           ...             ...   \n",
       "4172   F   0.565     0.450   0.165        0.8870          0.3700   \n",
       "4173   M   0.590     0.440   0.135        0.9660          0.4390   \n",
       "4174   M   0.600     0.475   0.205        1.1760          0.5255   \n",
       "4175   F   0.625     0.485   0.150        1.0945          0.5310   \n",
       "4176   M   0.710     0.555   0.195        1.9485          0.9455   \n",
       "\n",
       "      Viscera weight  Shell weight   Age  \n",
       "0             0.1010        0.1500  16.5  \n",
       "1             0.0485        0.0700   8.5  \n",
       "2             0.1415        0.2100  10.5  \n",
       "3             0.1140        0.1550  11.5  \n",
       "4             0.0395        0.0550   8.5  \n",
       "...              ...           ...   ...  \n",
       "4172          0.2390        0.2490  12.5  \n",
       "4173          0.2145        0.2605  11.5  \n",
       "4174          0.2875        0.3080  10.5  \n",
       "4175          0.2610        0.2960  11.5  \n",
       "4176          0.3765        0.4950  13.5  \n",
       "\n",
       "[4177 rows x 9 columns]"
      ]
     },
     "execution_count": 13,
     "metadata": {},
     "output_type": "execute_result"
    }
   ],
   "source": [
    "df"
   ]
  },
  {
   "cell_type": "markdown",
   "id": "189d22b9",
   "metadata": {},
   "source": [
    "# EDA"
   ]
  },
  {
   "cell_type": "markdown",
   "id": "84fd2d93",
   "metadata": {},
   "source": [
    "Lets see what is the distribution of Sex attributes in the dataset"
   ]
  },
  {
   "cell_type": "code",
   "execution_count": 14,
   "id": "89787205",
   "metadata": {},
   "outputs": [
    {
     "data": {
      "text/plain": [
       "M    1528\n",
       "I    1342\n",
       "F    1307\n",
       "Name: Sex, dtype: int64"
      ]
     },
     "execution_count": 14,
     "metadata": {},
     "output_type": "execute_result"
    }
   ],
   "source": [
    "df['Sex'].value_counts()"
   ]
  },
  {
   "cell_type": "code",
   "execution_count": 15,
   "id": "0838c7ad",
   "metadata": {},
   "outputs": [
    {
     "data": {
      "text/plain": [
       "<AxesSubplot:xlabel='Sex', ylabel='count'>"
      ]
     },
     "execution_count": 15,
     "metadata": {},
     "output_type": "execute_result"
    },
    {
     "data": {
      "image/png": "[encoded data removed]",
      "text/plain": [
       "<Figure size 432x288 with 1 Axes>"
      ]
     },
     "metadata": {
      "needs_background": "light"
     },
     "output_type": "display_data"
    }
   ],
   "source": [
    "sns.countplot(x='Sex',data=df)"
   ]
  },
  {
   "cell_type": "markdown",
   "id": "37ec7e47",
   "metadata": {},
   "source": [
    "We have high number of males attributes followed by Infant."
   ]
  },
  {
   "cell_type": "code",
   "execution_count": 16,
   "id": "0989840e",
   "metadata": {},
   "outputs": [
    {
     "data": {
      "text/plain": [
       "<AxesSubplot:xlabel='Sex', ylabel='Age'>"
      ]
     },
     "execution_count": 16,
     "metadata": {},
     "output_type": "execute_result"
    },
    {
     "data": {
      "image/png": "[encoded data removed]",
      "text/plain": [
       "<Figure size 432x288 with 1 Axes>"
      ]
     },
     "metadata": {
      "needs_background": "light"
     },
     "output_type": "display_data"
    }
   ],
   "source": [
    "sns.violinplot(x='Sex', y='Age', data=df)"
   ]
  },
  {
   "cell_type": "markdown",
   "id": "e6654a25",
   "metadata": {},
   "source": [
    "Male has an age range between 7 to 18years. Female has an age range between 7 to 18years. Infant has an age range between 5 to 13years."
   ]
  },
  {
   "cell_type": "code",
   "execution_count": 17,
   "id": "41d5cad1",
   "metadata": {},
   "outputs": [
    {
     "data": {
      "image/png": "[encoded data removed]",
      "text/plain": [
       "<Figure size 432x288 with 1 Axes>"
      ]
     },
     "metadata": {
      "needs_background": "light"
     },
     "output_type": "display_data"
    },
    {
     "data": {
      "image/png": "[encoded data removed]",
      "text/plain": [
       "<Figure size 432x288 with 1 Axes>"
      ]
     },
     "metadata": {
      "needs_background": "light"
     },
     "output_type": "display_data"
    },
    {
     "data": {
      "image/png": "[encoded data removed]",
      "text/plain": [
       "<Figure size 432x288 with 1 Axes>"
      ]
     },
     "metadata": {
      "needs_background": "light"
     },
     "output_type": "display_data"
    },
    {
     "data": {
      "image/png": "[encoded data removed]",
      "text/plain": [
       "<Figure size 432x288 with 1 Axes>"
      ]
     },
     "metadata": {
      "needs_background": "light"
     },
     "output_type": "display_data"
    },
    {
     "data": {
      "image/png": "[encoded data removed]",
      "text/plain": [
       "<Figure size 432x288 with 1 Axes>"
      ]
     },
     "metadata": {
      "needs_background": "light"
     },
     "output_type": "display_data"
    },
    {
     "data": {
      "image/png": "[encoded data removed]",
      "text/plain": [
       "<Figure size 432x288 with 1 Axes>"
      ]
     },
     "metadata": {
      "needs_background": "light"
     },
     "output_type": "display_data"
    },
    {
     "data": {
      "image/png": "[encoded data removed]",
      "text/plain": [
       "<Figure size 432x288 with 1 Axes>"
      ]
     },
     "metadata": {
      "needs_background": "light"
     },
     "output_type": "display_data"
    },
    {
     "data": {
      "image/png": "[encoded data removed]",
      "text/plain": [
       "<Figure size 432x288 with 1 Axes>"
      ]
     },
     "metadata": {
      "needs_background": "light"
     },
     "output_type": "display_data"
    },
    {
     "data": {
      "image/png": "[encoded data removed]",
      "text/plain": [
       "<Figure size 432x288 with 1 Axes>"
      ]
     },
     "metadata": {
      "needs_background": "light"
     },
     "output_type": "display_data"
    }
   ],
   "source": [
    "for i in df.columns:\n",
    "    sns.lineplot(x='Age',y=i,data=df)\n",
    "    plt.show()"
   ]
  },
  {
   "cell_type": "markdown",
   "id": "7111f0f8",
   "metadata": {},
   "source": [
    "We can se all the features have positive relation with the Age"
   ]
  },
  {
   "cell_type": "code",
   "execution_count": 18,
   "id": "35d723c4",
   "metadata": {},
   "outputs": [
    {
     "data": {
      "image/png": "[encoded data removed]",
      "text/plain": [
       "<Figure size 432x288 with 1 Axes>"
      ]
     },
     "metadata": {
      "needs_background": "light"
     },
     "output_type": "display_data"
    },
    {
     "data": {
      "image/png": "[encoded data removed]",
      "text/plain": [
       "<Figure size 432x288 with 1 Axes>"
      ]
     },
     "metadata": {
      "needs_background": "light"
     },
     "output_type": "display_data"
    },
    {
     "data": {
      "image/png": "[encoded data removed]",
      "text/plain": [
       "<Figure size 432x288 with 1 Axes>"
      ]
     },
     "metadata": {
      "needs_background": "light"
     },
     "output_type": "display_data"
    },
    {
     "data": {
      "image/png": "[encoded data removed]",
      "text/plain": [
       "<Figure size 432x288 with 1 Axes>"
      ]
     },
     "metadata": {
      "needs_background": "light"
     },
     "output_type": "display_data"
    },
    {
     "data": {
      "image/png": "[encoded data removed]",
      "text/plain": [
       "<Figure size 432x288 with 1 Axes>"
      ]
     },
     "metadata": {
      "needs_background": "light"
     },
     "output_type": "display_data"
    },
    {
     "data": {
      "image/png": "[encoded data removed]",
      "text/plain": [
       "<Figure size 432x288 with 1 Axes>"
      ]
     },
     "metadata": {
      "needs_background": "light"
     },
     "output_type": "display_data"
    },
    {
     "data": {
      "image/png": "[encoded data removed]",
      "text/plain": [
       "<Figure size 432x288 with 1 Axes>"
      ]
     },
     "metadata": {
      "needs_background": "light"
     },
     "output_type": "display_data"
    },
    {
     "data": {
      "image/png": "[encoded data removed]",
      "text/plain": [
       "<Figure size 432x288 with 1 Axes>"
      ]
     },
     "metadata": {
      "needs_background": "light"
     },
     "output_type": "display_data"
    }
   ],
   "source": [
    "columns = ['Length','Diameter','Height','Whole weight','Shucked weight','Viscera weight','Shell weight','Age']\n",
    "           \n",
    "for i in columns:\n",
    "           sns.distplot(df[i])\n",
    "           plt.show()"
   ]
  },
  {
   "cell_type": "markdown",
   "id": "34546ffe",
   "metadata": {},
   "source": [
    "Most of the data is skewed, though they are close to normality. Possible outliers in Height."
   ]
  },
  {
   "cell_type": "code",
   "execution_count": 19,
   "id": "c0024813",
   "metadata": {},
   "outputs": [
    {
     "data": {
      "image/png": "[encoded data removed]",
      "text/plain": [
       "<Figure size 432x288 with 1 Axes>"
      ]
     },
     "metadata": {
      "needs_background": "light"
     },
     "output_type": "display_data"
    },
    {
     "data": {
      "image/png": "[encoded data removed]",
      "text/plain": [
       "<Figure size 432x288 with 1 Axes>"
      ]
     },
     "metadata": {
      "needs_background": "light"
     },
     "output_type": "display_data"
    },
    {
     "data": {
      "image/png": "[encoded data removed]",
      "text/plain": [
       "<Figure size 432x288 with 1 Axes>"
      ]
     },
     "metadata": {
      "needs_background": "light"
     },
     "output_type": "display_data"
    },
    {
     "data": {
      "image/png": "[encoded data removed]",
      "text/plain": [
       "<Figure size 432x288 with 1 Axes>"
      ]
     },
     "metadata": {
      "needs_background": "light"
     },
     "output_type": "display_data"
    },
    {
     "data": {
      "image/png": "[encoded data removed]",
      "text/plain": [
       "<Figure size 432x288 with 1 Axes>"
      ]
     },
     "metadata": {
      "needs_background": "light"
     },
     "output_type": "display_data"
    },
    {
     "data": {
      "image/png": "[encoded data removed]",
      "text/plain": [
       "<Figure size 432x288 with 1 Axes>"
      ]
     },
     "metadata": {
      "needs_background": "light"
     },
     "output_type": "display_data"
    },
    {
     "data": {
      "image/png": "[encoded data removed]",
      "text/plain": [
       "<Figure size 432x288 with 1 Axes>"
      ]
     },
     "metadata": {
      "needs_background": "light"
     },
     "output_type": "display_data"
    },
    {
     "data": {
      "image/png": "[encoded data removed]",
      "text/plain": [
       "<Figure size 432x288 with 1 Axes>"
      ]
     },
     "metadata": {
      "needs_background": "light"
     },
     "output_type": "display_data"
    }
   ],
   "source": [
    "for i in columns:\n",
    "    plt.subplots()\n",
    "    sns.boxplot(df[i])"
   ]
  },
  {
   "cell_type": "markdown",
   "id": "440e1eff",
   "metadata": {},
   "source": [
    "Barring length and diameter all our features has the outliers hence we have treat them before model fitting"
   ]
  },
  {
   "cell_type": "markdown",
   "id": "b949013e",
   "metadata": {},
   "source": [
    "# MultiVariate Analysis"
   ]
  },
  {
   "cell_type": "code",
   "execution_count": 20,
   "id": "f9ca621f",
   "metadata": {},
   "outputs": [
    {
     "data": {
      "text/plain": [
       "<AxesSubplot:>"
      ]
     },
     "execution_count": 20,
     "metadata": {},
     "output_type": "execute_result"
    },
    {
     "data": {
      "image/png": "[encoded data removed]",
      "text/plain": [
       "<Figure size 720x720 with 2 Axes>"
      ]
     },
     "metadata": {
      "needs_background": "light"
     },
     "output_type": "display_data"
    }
   ],
   "source": [
    "plt.figure(figsize=(10, 10))\n",
    "corr = df.corr()\n",
    "sns.heatmap(corr, annot=True)"
   ]
  },
  {
   "cell_type": "markdown",
   "id": "b1c286f9",
   "metadata": {},
   "source": [
    "# Age has the highest co relation with Shell weight and least with Shucked weight.\n",
    "\n",
    "Whole weight is highly corelated with all the features\n",
    "\n",
    "Shell weight, Viscera weight, Shucked weight and whole weight are highly co related with each other.\n",
    "\n",
    "We will see how our model will perform. We can also check our model performance with PCA"
   ]
  },
  {
   "cell_type": "markdown",
   "id": "88b671f5",
   "metadata": {},
   "source": [
    "# Before model fitting"
   ]
  },
  {
   "cell_type": "markdown",
   "id": "09320997",
   "metadata": {},
   "source": [
    "Use OrdinalEncoder on 'Sex' attribute to change the categorical data to numerical\n",
    "\n",
    "Treat the data for outliers and skewness.\n",
    "\n",
    "Standardize the data.\n",
    "\n",
    "Can try PCA to check if the model will perform better with PCA"
   ]
  },
  {
   "cell_type": "markdown",
   "id": "0c7c4988",
   "metadata": {},
   "source": [
    "# Data Pre Processing"
   ]
  },
  {
   "cell_type": "markdown",
   "id": "e2ad6a14",
   "metadata": {},
   "source": [
    "Splitting our data into input(x) and output(y) variable.\n",
    "\n",
    "Using OrdinalEncoder on 'Sex' attribute to change the categorical data to numerical. We will import the necessary library"
   ]
  },
  {
   "cell_type": "code",
   "execution_count": 21,
   "id": "6e6d22f6",
   "metadata": {},
   "outputs": [],
   "source": [
    "from sklearn.preprocessing import OrdinalEncoder"
   ]
  },
  {
   "cell_type": "code",
   "execution_count": 22,
   "id": "9629c8b3",
   "metadata": {},
   "outputs": [],
   "source": [
    "oe=OrdinalEncoder()"
   ]
  },
  {
   "cell_type": "markdown",
   "id": "d328abad",
   "metadata": {},
   "source": [
    "Transforming the required columns."
   ]
  },
  {
   "cell_type": "code",
   "execution_count": 23,
   "id": "5b8f5efd",
   "metadata": {},
   "outputs": [],
   "source": [
    "df[['Sex']]=oe.fit_transform(df[['Sex']])"
   ]
  },
  {
   "cell_type": "code",
   "execution_count": 24,
   "id": "ba66e8c8",
   "metadata": {},
   "outputs": [
    {
     "data": {
      "text/plain": [
       "array([2., 0., 1.])"
      ]
     },
     "execution_count": 24,
     "metadata": {},
     "output_type": "execute_result"
    }
   ],
   "source": [
    "df['Sex'].unique()"
   ]
  },
  {
   "cell_type": "markdown",
   "id": "b28ab4d3",
   "metadata": {},
   "source": [
    "We can see the Female, Infant and Male has been changed to 0,1 and 2 respectively"
   ]
  },
  {
   "cell_type": "code",
   "execution_count": 25,
   "id": "82e57fdd",
   "metadata": {},
   "outputs": [
    {
     "data": {
      "text/plain": [
       "2.0    1528\n",
       "1.0    1342\n",
       "0.0    1307\n",
       "Name: Sex, dtype: int64"
      ]
     },
     "execution_count": 25,
     "metadata": {},
     "output_type": "execute_result"
    }
   ],
   "source": [
    "df['Sex'].value_counts()"
   ]
  },
  {
   "cell_type": "markdown",
   "id": "3f2742c2",
   "metadata": {},
   "source": [
    "Lets treat the outliers"
   ]
  },
  {
   "cell_type": "code",
   "execution_count": 26,
   "id": "40dbf310",
   "metadata": {},
   "outputs": [
    {
     "data": {
      "text/plain": [
       "10.5    689\n",
       "11.5    634\n",
       "9.5     568\n",
       "12.5    487\n",
       "8.5     391\n",
       "13.5    267\n",
       "7.5     259\n",
       "14.5    203\n",
       "15.5    126\n",
       "6.5     115\n",
       "16.5    103\n",
       "17.5     67\n",
       "18.5     58\n",
       "5.5      57\n",
       "19.5     42\n",
       "20.5     32\n",
       "21.5     26\n",
       "4.5      15\n",
       "22.5     14\n",
       "24.5      9\n",
       "23.5      6\n",
       "28.5      2\n",
       "25.5      2\n",
       "2.5       1\n",
       "27.5      1\n",
       "30.5      1\n",
       "3.5       1\n",
       "26.5      1\n",
       "Name: Age, dtype: int64"
      ]
     },
     "execution_count": 26,
     "metadata": {},
     "output_type": "execute_result"
    }
   ],
   "source": [
    "df['Age'].value_counts()"
   ]
  },
  {
   "cell_type": "code",
   "execution_count": 27,
   "id": "04b0b309",
   "metadata": {},
   "outputs": [
    {
     "data": {
      "text/html": [
       "<div>\n",
       "<style scoped>\n",
       "    .dataframe tbody tr th:only-of-type {\n",
       "        vertical-align: middle;\n",
       "    }\n",
       "\n",
       "    .dataframe tbody tr th {\n",
       "        vertical-align: top;\n",
       "    }\n",
       "\n",
       "    .dataframe thead th {\n",
       "        text-align: right;\n",
       "    }\n",
       "</style>\n",
       "<table border=\"1\" class=\"dataframe\">\n",
       "  <thead>\n",
       "    <tr style=\"text-align: right;\">\n",
       "      <th></th>\n",
       "      <th>Sex</th>\n",
       "      <th>Length</th>\n",
       "      <th>Diameter</th>\n",
       "      <th>Height</th>\n",
       "      <th>Whole weight</th>\n",
       "      <th>Shucked weight</th>\n",
       "      <th>Viscera weight</th>\n",
       "      <th>Shell weight</th>\n",
       "      <th>Age</th>\n",
       "    </tr>\n",
       "  </thead>\n",
       "  <tbody>\n",
       "    <tr>\n",
       "      <th>0</th>\n",
       "      <td>1.151980</td>\n",
       "      <td>0.574558</td>\n",
       "      <td>0.432149</td>\n",
       "      <td>1.064424</td>\n",
       "      <td>0.641898</td>\n",
       "      <td>0.607685</td>\n",
       "      <td>0.726212</td>\n",
       "      <td>0.638217</td>\n",
       "      <td>1.571544</td>\n",
       "    </tr>\n",
       "    <tr>\n",
       "      <th>1</th>\n",
       "      <td>1.151980</td>\n",
       "      <td>1.448986</td>\n",
       "      <td>1.439929</td>\n",
       "      <td>1.183978</td>\n",
       "      <td>1.230277</td>\n",
       "      <td>1.170910</td>\n",
       "      <td>1.205221</td>\n",
       "      <td>1.212987</td>\n",
       "      <td>0.910013</td>\n",
       "    </tr>\n",
       "    <tr>\n",
       "      <th>2</th>\n",
       "      <td>1.280690</td>\n",
       "      <td>0.050033</td>\n",
       "      <td>0.122130</td>\n",
       "      <td>0.107991</td>\n",
       "      <td>0.309469</td>\n",
       "      <td>0.463500</td>\n",
       "      <td>0.356690</td>\n",
       "      <td>0.207139</td>\n",
       "      <td>0.289624</td>\n",
       "    </tr>\n",
       "    <tr>\n",
       "      <th>3</th>\n",
       "      <td>1.151980</td>\n",
       "      <td>0.699476</td>\n",
       "      <td>0.432149</td>\n",
       "      <td>0.347099</td>\n",
       "      <td>0.637819</td>\n",
       "      <td>0.648238</td>\n",
       "      <td>0.607600</td>\n",
       "      <td>0.602294</td>\n",
       "      <td>0.020571</td>\n",
       "    </tr>\n",
       "    <tr>\n",
       "      <th>4</th>\n",
       "      <td>0.064355</td>\n",
       "      <td>1.615544</td>\n",
       "      <td>1.540707</td>\n",
       "      <td>1.423087</td>\n",
       "      <td>1.272086</td>\n",
       "      <td>1.215968</td>\n",
       "      <td>1.287337</td>\n",
       "      <td>1.320757</td>\n",
       "      <td>0.910013</td>\n",
       "    </tr>\n",
       "    <tr>\n",
       "      <th>...</th>\n",
       "      <td>...</td>\n",
       "      <td>...</td>\n",
       "      <td>...</td>\n",
       "      <td>...</td>\n",
       "      <td>...</td>\n",
       "      <td>...</td>\n",
       "      <td>...</td>\n",
       "      <td>...</td>\n",
       "      <td>...</td>\n",
       "    </tr>\n",
       "    <tr>\n",
       "      <th>4172</th>\n",
       "      <td>1.280690</td>\n",
       "      <td>0.341509</td>\n",
       "      <td>0.424464</td>\n",
       "      <td>0.609334</td>\n",
       "      <td>0.118813</td>\n",
       "      <td>0.047908</td>\n",
       "      <td>0.532900</td>\n",
       "      <td>0.073062</td>\n",
       "      <td>0.330765</td>\n",
       "    </tr>\n",
       "    <tr>\n",
       "      <th>4173</th>\n",
       "      <td>1.151980</td>\n",
       "      <td>0.549706</td>\n",
       "      <td>0.323686</td>\n",
       "      <td>0.107991</td>\n",
       "      <td>0.279929</td>\n",
       "      <td>0.358808</td>\n",
       "      <td>0.309362</td>\n",
       "      <td>0.155685</td>\n",
       "      <td>0.020571</td>\n",
       "    </tr>\n",
       "    <tr>\n",
       "      <th>4174</th>\n",
       "      <td>1.151980</td>\n",
       "      <td>0.632985</td>\n",
       "      <td>0.676409</td>\n",
       "      <td>1.565767</td>\n",
       "      <td>0.708212</td>\n",
       "      <td>0.748559</td>\n",
       "      <td>0.975413</td>\n",
       "      <td>0.496955</td>\n",
       "      <td>0.289624</td>\n",
       "    </tr>\n",
       "    <tr>\n",
       "      <th>4175</th>\n",
       "      <td>1.280690</td>\n",
       "      <td>0.841182</td>\n",
       "      <td>0.777187</td>\n",
       "      <td>0.250672</td>\n",
       "      <td>0.541998</td>\n",
       "      <td>0.773341</td>\n",
       "      <td>0.733627</td>\n",
       "      <td>0.410739</td>\n",
       "      <td>0.020571</td>\n",
       "    </tr>\n",
       "    <tr>\n",
       "      <th>4176</th>\n",
       "      <td>1.151980</td>\n",
       "      <td>1.549052</td>\n",
       "      <td>1.482634</td>\n",
       "      <td>1.326659</td>\n",
       "      <td>2.283681</td>\n",
       "      <td>2.640993</td>\n",
       "      <td>1.787449</td>\n",
       "      <td>1.840481</td>\n",
       "      <td>0.640960</td>\n",
       "    </tr>\n",
       "  </tbody>\n",
       "</table>\n",
       "<p>4177 rows × 9 columns</p>\n",
       "</div>"
      ],
      "text/plain": [
       "           Sex    Length  Diameter    Height  Whole weight  Shucked weight  \\\n",
       "0     1.151980  0.574558  0.432149  1.064424      0.641898        0.607685   \n",
       "1     1.151980  1.448986  1.439929  1.183978      1.230277        1.170910   \n",
       "2     1.280690  0.050033  0.122130  0.107991      0.309469        0.463500   \n",
       "3     1.151980  0.699476  0.432149  0.347099      0.637819        0.648238   \n",
       "4     0.064355  1.615544  1.540707  1.423087      1.272086        1.215968   \n",
       "...        ...       ...       ...       ...           ...             ...   \n",
       "4172  1.280690  0.341509  0.424464  0.609334      0.118813        0.047908   \n",
       "4173  1.151980  0.549706  0.323686  0.107991      0.279929        0.358808   \n",
       "4174  1.151980  0.632985  0.676409  1.565767      0.708212        0.748559   \n",
       "4175  1.280690  0.841182  0.777187  0.250672      0.541998        0.773341   \n",
       "4176  1.151980  1.549052  1.482634  1.326659      2.283681        2.640993   \n",
       "\n",
       "      Viscera weight  Shell weight       Age  \n",
       "0           0.726212      0.638217  1.571544  \n",
       "1           1.205221      1.212987  0.910013  \n",
       "2           0.356690      0.207139  0.289624  \n",
       "3           0.607600      0.602294  0.020571  \n",
       "4           1.287337      1.320757  0.910013  \n",
       "...              ...           ...       ...  \n",
       "4172        0.532900      0.073062  0.330765  \n",
       "4173        0.309362      0.155685  0.020571  \n",
       "4174        0.975413      0.496955  0.289624  \n",
       "4175        0.733627      0.410739  0.020571  \n",
       "4176        1.787449      1.840481  0.640960  \n",
       "\n",
       "[4177 rows x 9 columns]"
      ]
     },
     "execution_count": 27,
     "metadata": {},
     "output_type": "execute_result"
    }
   ],
   "source": [
    "from scipy.stats import zscore\n",
    "z=np.abs(zscore(df))\n",
    "z"
   ]
  },
  {
   "cell_type": "code",
   "execution_count": 28,
   "id": "f328f31a",
   "metadata": {},
   "outputs": [],
   "source": [
    "df_new=df[(z<3).all(axis=1)]"
   ]
  },
  {
   "cell_type": "code",
   "execution_count": 29,
   "id": "cf1df677",
   "metadata": {},
   "outputs": [
    {
     "name": "stdout",
     "output_type": "stream",
     "text": [
      "(4177, 9)\n",
      "(4027, 9)\n"
     ]
    }
   ],
   "source": [
    "print(df.shape)\n",
    "print(df_new.shape)"
   ]
  },
  {
   "cell_type": "code",
   "execution_count": 30,
   "id": "9ca62047",
   "metadata": {},
   "outputs": [
    {
     "data": {
      "text/plain": [
       "3.5910940866650662"
      ]
     },
     "execution_count": 30,
     "metadata": {},
     "output_type": "execute_result"
    }
   ],
   "source": [
    "100-((4027/4177)*100)"
   ]
  },
  {
   "cell_type": "markdown",
   "id": "75abb761",
   "metadata": {},
   "source": [
    "We are losing 3.59% of the data after removing the outliers which is fine"
   ]
  },
  {
   "cell_type": "code",
   "execution_count": 31,
   "id": "e51e739c",
   "metadata": {},
   "outputs": [
    {
     "data": {
      "text/plain": [
       "10.5    686\n",
       "11.5    625\n",
       "9.5     566\n",
       "12.5    472\n",
       "8.5     391\n",
       "7.5     258\n",
       "13.5    251\n",
       "14.5    199\n",
       "15.5    119\n",
       "6.5     113\n",
       "16.5    102\n",
       "17.5     62\n",
       "18.5     53\n",
       "5.5      49\n",
       "19.5     39\n",
       "20.5     32\n",
       "4.5      10\n",
       "Name: Age, dtype: int64"
      ]
     },
     "execution_count": 31,
     "metadata": {},
     "output_type": "execute_result"
    }
   ],
   "source": [
    "df_new['Age'].value_counts()"
   ]
  },
  {
   "cell_type": "markdown",
   "id": "fb5d2cae",
   "metadata": {},
   "source": [
    "We have lost important data from Age while removing the outliers, hence we will not go forward with the same\n",
    "\n",
    "Now lets check for skewness"
   ]
  },
  {
   "cell_type": "code",
   "execution_count": 32,
   "id": "4cf5f2e6",
   "metadata": {},
   "outputs": [],
   "source": [
    "x=df.drop(columns='Age')\n",
    "y=df['Age']"
   ]
  },
  {
   "cell_type": "code",
   "execution_count": 33,
   "id": "e46bc2fd",
   "metadata": {},
   "outputs": [
    {
     "data": {
      "text/plain": [
       "Sex              -0.098155\n",
       "Length           -0.639873\n",
       "Diameter         -0.609198\n",
       "Height            3.128817\n",
       "Whole weight      0.530959\n",
       "Shucked weight    0.719098\n",
       "Viscera weight    0.591852\n",
       "Shell weight      0.620927\n",
       "dtype: float64"
      ]
     },
     "execution_count": 33,
     "metadata": {},
     "output_type": "execute_result"
    }
   ],
   "source": [
    "x.skew()"
   ]
  },
  {
   "cell_type": "markdown",
   "id": "cf2a5737",
   "metadata": {},
   "source": [
    "We have to treat skewness in Length, Diameter, Height and Shucked weight"
   ]
  },
  {
   "cell_type": "code",
   "execution_count": 34,
   "id": "83f55bc9",
   "metadata": {},
   "outputs": [],
   "source": [
    "x['Length']=np.square(x['Length'])\n",
    "x['Diameter']=np.square(x['Diameter'])"
   ]
  },
  {
   "cell_type": "code",
   "execution_count": 35,
   "id": "fe784ef3",
   "metadata": {},
   "outputs": [],
   "source": [
    "x['Shucked weight']=np.sqrt(x['Shucked weight'])"
   ]
  },
  {
   "cell_type": "code",
   "execution_count": 36,
   "id": "5cb122a0",
   "metadata": {},
   "outputs": [],
   "source": [
    "x['Height']=np.sqrt(x['Height'])"
   ]
  },
  {
   "cell_type": "code",
   "execution_count": 37,
   "id": "19395586",
   "metadata": {},
   "outputs": [
    {
     "data": {
      "text/plain": [
       "Sex              -0.098155\n",
       "Length           -0.068660\n",
       "Diameter         -0.026554\n",
       "Height           -0.295641\n",
       "Whole weight      0.530959\n",
       "Shucked weight   -0.141443\n",
       "Viscera weight    0.591852\n",
       "Shell weight      0.620927\n",
       "dtype: float64"
      ]
     },
     "execution_count": 37,
     "metadata": {},
     "output_type": "execute_result"
    }
   ],
   "source": [
    "x.skew()"
   ]
  },
  {
   "cell_type": "markdown",
   "id": "6b850055",
   "metadata": {},
   "source": [
    "We have sucessfully removed the outliers and skewness. Lets check this with Histogram plot"
   ]
  },
  {
   "cell_type": "code",
   "execution_count": 38,
   "id": "9d340a0d",
   "metadata": {},
   "outputs": [
    {
     "data": {
      "text/plain": [
       "array([[<AxesSubplot:title={'center':'Sex'}>,\n",
       "        <AxesSubplot:title={'center':'Length'}>,\n",
       "        <AxesSubplot:title={'center':'Diameter'}>,\n",
       "        <AxesSubplot:title={'center':'Height'}>],\n",
       "       [<AxesSubplot:title={'center':'Whole weight'}>,\n",
       "        <AxesSubplot:title={'center':'Shucked weight'}>,\n",
       "        <AxesSubplot:title={'center':'Viscera weight'}>,\n",
       "        <AxesSubplot:title={'center':'Shell weight'}>]], dtype=object)"
      ]
     },
     "execution_count": 38,
     "metadata": {},
     "output_type": "execute_result"
    },
    {
     "data": {
      "image/png": "[encoded data removed]",
      "text/plain": [
       "<Figure size 1440x720 with 8 Axes>"
      ]
     },
     "metadata": {
      "needs_background": "light"
     },
     "output_type": "display_data"
    }
   ],
   "source": [
    "x.hist(figsize=(20,10), grid=False, layout=(2, 4), bins = 40)"
   ]
  },
  {
   "cell_type": "markdown",
   "id": "4670de9f",
   "metadata": {},
   "source": [
    "Now we will standardize our data as it has different scale.\n",
    "\n",
    "We wil be using StandardScaler for the same.\n",
    "\n",
    "Lets import the required library"
   ]
  },
  {
   "cell_type": "code",
   "execution_count": 39,
   "id": "b4a4263b",
   "metadata": {},
   "outputs": [],
   "source": [
    "from sklearn.preprocessing import StandardScaler\n",
    "sc=StandardScaler()\n",
    "sc_x=sc.fit_transform(x)"
   ]
  },
  {
   "cell_type": "code",
   "execution_count": 40,
   "id": "3c9db15b",
   "metadata": {},
   "outputs": [
    {
     "data": {
      "text/plain": [
       "array([[ 1.15198011, -0.69410371, -0.56588297, ..., -0.4737027 ,\n",
       "        -0.72621157, -0.63821689],\n",
       "       [ 1.15198011, -1.40991617, -1.39519277, ..., -1.2824301 ,\n",
       "        -1.20522124, -1.21298732],\n",
       "       [-1.28068972, -0.06848236,  0.00245751, ..., -0.30701248,\n",
       "        -0.35668983, -0.20713907],\n",
       "       ...,\n",
       "       [ 1.15198011,  0.60138768,  0.65043806, ...,  0.80848861,\n",
       "         0.97541324,  0.49695471],\n",
       "       [-1.28068972,  0.86074002,  0.77680907, ...,  0.82780925,\n",
       "         0.73362741,  0.41073914],\n",
       "       [ 1.15198011,  1.82171983,  1.73512261, ...,  2.07206731,\n",
       "         1.78744868,  1.84048058]])"
      ]
     },
     "execution_count": 40,
     "metadata": {},
     "output_type": "execute_result"
    }
   ],
   "source": [
    "sc_x"
   ]
  },
  {
   "cell_type": "code",
   "execution_count": 41,
   "id": "b642be4d",
   "metadata": {},
   "outputs": [],
   "source": [
    "x=sc_x"
   ]
  },
  {
   "cell_type": "markdown",
   "id": "4bc75d13",
   "metadata": {},
   "source": [
    "# Model Preparation and Selection"
   ]
  },
  {
   "cell_type": "markdown",
   "id": "08604335",
   "metadata": {},
   "source": [
    "Now we will move forward for model fitting\n",
    "\n",
    "Importing the required libraries"
   ]
  },
  {
   "cell_type": "code",
   "execution_count": 42,
   "id": "00796015",
   "metadata": {},
   "outputs": [],
   "source": [
    "from sklearn.model_selection import train_test_split\n",
    "from sklearn.linear_model import LinearRegression\n",
    "from sklearn.metrics import mean_squared_error,mean_absolute_error,r2_score"
   ]
  },
  {
   "cell_type": "code",
   "execution_count": 43,
   "id": "2458f36c",
   "metadata": {},
   "outputs": [
    {
     "name": "stdout",
     "output_type": "stream",
     "text": [
      "At random state 0,the training accuracy is: 0.4724879054289598\n",
      "At random state 0,the testing accuracy is: 0.5103873141073607\n",
      "\n",
      "\n",
      "At random state 1,the training accuracy is: 0.48722862572818304\n",
      "At random state 1,the testing accuracy is: 0.45412371191521295\n",
      "\n",
      "\n",
      "At random state 2,the training accuracy is: 0.4783193125753957\n",
      "At random state 2,the testing accuracy is: 0.4830212920946242\n",
      "\n",
      "\n",
      "At random state 3,the training accuracy is: 0.4877300463581071\n",
      "At random state 3,the testing accuracy is: 0.4498050179305143\n",
      "\n",
      "\n",
      "At random state 4,the training accuracy is: 0.4851676809394837\n",
      "At random state 4,the testing accuracy is: 0.45890640673942806\n",
      "\n",
      "\n",
      "At random state 5,the training accuracy is: 0.4940717966353082\n",
      "At random state 5,the testing accuracy is: 0.42755228593042116\n",
      "\n",
      "\n",
      "At random state 6,the training accuracy is: 0.4694416577007686\n",
      "At random state 6,the testing accuracy is: 0.5262267440771846\n",
      "\n",
      "\n",
      "At random state 7,the training accuracy is: 0.47451020301357594\n",
      "At random state 7,the testing accuracy is: 0.49988617572047234\n",
      "\n",
      "\n",
      "At random state 8,the training accuracy is: 0.4884717720923196\n",
      "At random state 8,the testing accuracy is: 0.4498584177301391\n",
      "\n",
      "\n",
      "At random state 9,the training accuracy is: 0.4878780767677555\n",
      "At random state 9,the testing accuracy is: 0.45181471366916703\n",
      "\n",
      "\n",
      "At random state 10,the training accuracy is: 0.48049753959128405\n",
      "At random state 10,the testing accuracy is: 0.4835845067482386\n",
      "\n",
      "\n",
      "At random state 11,the training accuracy is: 0.4720302907041677\n",
      "At random state 11,the testing accuracy is: 0.5152793067174304\n",
      "\n",
      "\n",
      "At random state 12,the training accuracy is: 0.47190927662143\n",
      "At random state 12,the testing accuracy is: 0.5136754905654553\n",
      "\n",
      "\n",
      "At random state 13,the training accuracy is: 0.48064870731751397\n",
      "At random state 13,the testing accuracy is: 0.4819756635444079\n",
      "\n",
      "\n",
      "At random state 14,the training accuracy is: 0.4877342418053221\n",
      "At random state 14,the testing accuracy is: 0.4462300009902821\n",
      "\n",
      "\n",
      "At random state 15,the training accuracy is: 0.48892441802790887\n",
      "At random state 15,the testing accuracy is: 0.4486242624045217\n",
      "\n",
      "\n",
      "At random state 16,the training accuracy is: 0.4816844114765121\n",
      "At random state 16,the testing accuracy is: 0.47883696064326664\n",
      "\n",
      "\n",
      "At random state 17,the training accuracy is: 0.47269635674174326\n",
      "At random state 17,the testing accuracy is: 0.5113124930502156\n",
      "\n",
      "\n",
      "At random state 18,the training accuracy is: 0.48437463741770825\n",
      "At random state 18,the testing accuracy is: 0.4670613533999173\n",
      "\n",
      "\n",
      "At random state 19,the training accuracy is: 0.4924173856008349\n",
      "At random state 19,the testing accuracy is: 0.43459914059218663\n",
      "\n",
      "\n",
      "At random state 20,the training accuracy is: 0.4874417087513566\n",
      "At random state 20,the testing accuracy is: 0.4561491995441237\n",
      "\n",
      "\n",
      "At random state 21,the training accuracy is: 0.4756098375867661\n",
      "At random state 21,the testing accuracy is: 0.49557830617492304\n",
      "\n",
      "\n",
      "At random state 22,the training accuracy is: 0.4964975292627587\n",
      "At random state 22,the testing accuracy is: 0.4120671468979943\n",
      "\n",
      "\n",
      "At random state 23,the training accuracy is: 0.4883078205058883\n",
      "At random state 23,the testing accuracy is: 0.4500994428541346\n",
      "\n",
      "\n",
      "At random state 24,the training accuracy is: 0.49071636306135447\n",
      "At random state 24,the testing accuracy is: 0.43631772820709414\n",
      "\n",
      "\n",
      "At random state 25,the training accuracy is: 0.4937905783089075\n",
      "At random state 25,the testing accuracy is: 0.3999586123711283\n",
      "\n",
      "\n",
      "At random state 26,the training accuracy is: 0.48261444224491046\n",
      "At random state 26,the testing accuracy is: 0.47559044490178326\n",
      "\n",
      "\n",
      "At random state 27,the training accuracy is: 0.49169849478719085\n",
      "At random state 27,the testing accuracy is: 0.4323254885095058\n",
      "\n",
      "\n",
      "At random state 28,the training accuracy is: 0.47436119358259277\n",
      "At random state 28,the testing accuracy is: 0.508114236851176\n",
      "\n",
      "\n",
      "At random state 29,the training accuracy is: 0.48285090917090534\n",
      "At random state 29,the testing accuracy is: 0.47494797595827687\n",
      "\n",
      "\n",
      "At random state 30,the training accuracy is: 0.47003686365405595\n",
      "At random state 30,the testing accuracy is: 0.5208433840200041\n",
      "\n",
      "\n",
      "At random state 31,the training accuracy is: 0.46397546995139416\n",
      "At random state 31,the testing accuracy is: 0.5364663653133825\n",
      "\n",
      "\n",
      "At random state 32,the training accuracy is: 0.4796091311374844\n",
      "At random state 32,the testing accuracy is: 0.48588815665596985\n",
      "\n",
      "\n",
      "At random state 33,the training accuracy is: 0.4815027454883649\n",
      "At random state 33,the testing accuracy is: 0.47796254553565376\n",
      "\n",
      "\n",
      "At random state 34,the training accuracy is: 0.4914407523600257\n",
      "At random state 34,the testing accuracy is: 0.43601877195899974\n",
      "\n",
      "\n",
      "At random state 35,the training accuracy is: 0.4893120487798198\n",
      "At random state 35,the testing accuracy is: 0.4330844708362571\n",
      "\n",
      "\n",
      "At random state 36,the training accuracy is: 0.4831836320243602\n",
      "At random state 36,the testing accuracy is: 0.47219698548112665\n",
      "\n",
      "\n",
      "At random state 37,the training accuracy is: 0.46968823469314946\n",
      "At random state 37,the testing accuracy is: 0.5282673748286202\n",
      "\n",
      "\n",
      "At random state 38,the training accuracy is: 0.4759907670714413\n",
      "At random state 38,the testing accuracy is: 0.4994866238412836\n",
      "\n",
      "\n",
      "At random state 39,the training accuracy is: 0.48855895079066103\n",
      "At random state 39,the testing accuracy is: 0.43700258121302804\n",
      "\n",
      "\n",
      "At random state 40,the training accuracy is: 0.4802372334653836\n",
      "At random state 40,the testing accuracy is: 0.4799852101728528\n",
      "\n",
      "\n",
      "At random state 41,the training accuracy is: 0.4947131923762035\n",
      "At random state 41,the testing accuracy is: 0.4143169119480069\n",
      "\n",
      "\n",
      "At random state 42,the training accuracy is: 0.4818048103148139\n",
      "At random state 42,the testing accuracy is: 0.47657971642324615\n",
      "\n",
      "\n",
      "At random state 43,the training accuracy is: 0.4744337387801134\n",
      "At random state 43,the testing accuracy is: 0.5107432649254678\n",
      "\n",
      "\n",
      "At random state 44,the training accuracy is: 0.48119490612587\n",
      "At random state 44,the testing accuracy is: 0.4808825021947062\n",
      "\n",
      "\n",
      "At random state 45,the training accuracy is: 0.48367024809829906\n",
      "At random state 45,the testing accuracy is: 0.4693352323958122\n",
      "\n",
      "\n",
      "At random state 46,the training accuracy is: 0.47952040971213483\n",
      "At random state 46,the testing accuracy is: 0.48534349110782815\n",
      "\n",
      "\n",
      "At random state 47,the training accuracy is: 0.49492182820897157\n",
      "At random state 47,the testing accuracy is: 0.40342607745533776\n",
      "\n",
      "\n",
      "At random state 48,the training accuracy is: 0.47847860475010684\n",
      "At random state 48,the testing accuracy is: 0.490642141211709\n",
      "\n",
      "\n",
      "At random state 49,the training accuracy is: 0.4852909404518275\n",
      "At random state 49,the testing accuracy is: 0.4622065721036539\n",
      "\n",
      "\n",
      "At random state 50,the training accuracy is: 0.4864437568381269\n",
      "At random state 50,the testing accuracy is: 0.4513776561738895\n",
      "\n",
      "\n",
      "At random state 51,the training accuracy is: 0.4818495882167093\n",
      "At random state 51,the testing accuracy is: 0.4678828826127531\n",
      "\n",
      "\n",
      "At random state 52,the training accuracy is: 0.4735536499689923\n",
      "At random state 52,the testing accuracy is: 0.510137740014462\n",
      "\n",
      "\n",
      "At random state 53,the training accuracy is: 0.4750063184208426\n",
      "At random state 53,the testing accuracy is: 0.5014086988708537\n",
      "\n",
      "\n",
      "At random state 54,the training accuracy is: 0.48590225397381626\n",
      "At random state 54,the testing accuracy is: 0.4599431249243895\n",
      "\n",
      "\n",
      "At random state 55,the training accuracy is: 0.48205738204788573\n",
      "At random state 55,the testing accuracy is: 0.47558832570893805\n",
      "\n",
      "\n",
      "At random state 56,the training accuracy is: 0.48455958134735144\n",
      "At random state 56,the testing accuracy is: 0.45435970724318586\n",
      "\n",
      "\n",
      "At random state 57,the training accuracy is: 0.48756231757557844\n",
      "At random state 57,the testing accuracy is: 0.4521040840583056\n",
      "\n",
      "\n",
      "At random state 58,the training accuracy is: 0.4807342895479412\n",
      "At random state 58,the testing accuracy is: 0.4784235810632339\n",
      "\n",
      "\n",
      "At random state 59,the training accuracy is: 0.48490325563676007\n",
      "At random state 59,the testing accuracy is: 0.46459427455708346\n",
      "\n",
      "\n",
      "At random state 60,the training accuracy is: 0.4851599404771837\n",
      "At random state 60,the testing accuracy is: 0.4637522672985057\n",
      "\n",
      "\n",
      "At random state 61,the training accuracy is: 0.4822442884878222\n",
      "At random state 61,the testing accuracy is: 0.4665681631353056\n",
      "\n",
      "\n",
      "At random state 62,the training accuracy is: 0.4776522208924574\n",
      "At random state 62,the testing accuracy is: 0.4933267914275513\n",
      "\n",
      "\n",
      "At random state 63,the training accuracy is: 0.4939300214348695\n",
      "At random state 63,the testing accuracy is: 0.42172948898139295\n",
      "\n",
      "\n",
      "At random state 64,the training accuracy is: 0.4858530783141749\n",
      "At random state 64,the testing accuracy is: 0.4633759251161236\n",
      "\n",
      "\n",
      "At random state 65,the training accuracy is: 0.48732277597941676\n",
      "At random state 65,the testing accuracy is: 0.4387065183976293\n",
      "\n",
      "\n",
      "At random state 66,the training accuracy is: 0.49240266830730983\n",
      "At random state 66,the testing accuracy is: 0.4212176275957844\n",
      "\n",
      "\n",
      "At random state 67,the training accuracy is: 0.48133932489329856\n",
      "At random state 67,the testing accuracy is: 0.4793292477430704\n",
      "\n",
      "\n",
      "At random state 68,the training accuracy is: 0.49048784450698335\n",
      "At random state 68,the testing accuracy is: 0.44148830173515796\n",
      "\n",
      "\n",
      "At random state 69,the training accuracy is: 0.4760117572721272\n",
      "At random state 69,the testing accuracy is: 0.49977695883081485\n",
      "\n",
      "\n",
      "At random state 70,the training accuracy is: 0.4880341114616412\n",
      "At random state 70,the testing accuracy is: 0.44636225001231344\n",
      "\n",
      "\n",
      "At random state 71,the training accuracy is: 0.48005981465676906\n",
      "At random state 71,the testing accuracy is: 0.4852334632416758\n",
      "\n",
      "\n",
      "At random state 72,the training accuracy is: 0.48435763773737317\n",
      "At random state 72,the testing accuracy is: 0.46521232191872064\n",
      "\n",
      "\n",
      "At random state 73,the training accuracy is: 0.4892856665135914\n",
      "At random state 73,the testing accuracy is: 0.4456189388807571\n",
      "\n",
      "\n",
      "At random state 74,the training accuracy is: 0.4809260992258011\n",
      "At random state 74,the testing accuracy is: 0.4797834869024836\n",
      "\n",
      "\n",
      "At random state 75,the training accuracy is: 0.48344605064695\n",
      "At random state 75,the testing accuracy is: 0.4689166829662246\n",
      "\n",
      "\n",
      "At random state 76,the training accuracy is: 0.47834713271130636\n",
      "At random state 76,the testing accuracy is: 0.4906904747110392\n",
      "\n",
      "\n",
      "At random state 77,the training accuracy is: 0.475013425918818\n",
      "At random state 77,the testing accuracy is: 0.505707664409378\n",
      "\n",
      "\n",
      "At random state 78,the training accuracy is: 0.48575582258789773\n",
      "At random state 78,the testing accuracy is: 0.4591559698360641\n",
      "\n",
      "\n",
      "At random state 79,the training accuracy is: 0.4821295891980979\n",
      "At random state 79,the testing accuracy is: 0.47301726263210353\n",
      "\n",
      "\n",
      "At random state 80,the training accuracy is: 0.48383945149373\n",
      "At random state 80,the testing accuracy is: 0.46565035655528964\n",
      "\n",
      "\n",
      "At random state 81,the training accuracy is: 0.4698653435141401\n",
      "At random state 81,the testing accuracy is: 0.5260418316529383\n",
      "\n",
      "\n",
      "At random state 82,the training accuracy is: 0.47537391307948185\n",
      "At random state 82,the testing accuracy is: 0.5030897742263447\n",
      "\n",
      "\n",
      "At random state 83,the training accuracy is: 0.4860910385553926\n",
      "At random state 83,the testing accuracy is: 0.4573435405426791\n",
      "\n",
      "\n",
      "At random state 84,the training accuracy is: 0.4860528369651105\n",
      "At random state 84,the testing accuracy is: 0.45917882510463637\n",
      "\n",
      "\n",
      "At random state 85,the training accuracy is: 0.47724976351995274\n",
      "At random state 85,the testing accuracy is: 0.4921597349954281\n",
      "\n",
      "\n",
      "At random state 86,the training accuracy is: 0.49135158577039484\n",
      "At random state 86,the testing accuracy is: 0.43853918719148877\n",
      "\n",
      "\n",
      "At random state 87,the training accuracy is: 0.48321320621738484\n",
      "At random state 87,the testing accuracy is: 0.4679901714076956\n",
      "\n",
      "\n",
      "At random state 88,the training accuracy is: 0.47289909399701213\n",
      "At random state 88,the testing accuracy is: 0.5128285541987104\n",
      "\n",
      "\n",
      "At random state 89,the training accuracy is: 0.46883773472835777\n",
      "At random state 89,the testing accuracy is: 0.52908974275759\n",
      "\n",
      "\n",
      "At random state 90,the training accuracy is: 0.4840950115905046\n",
      "At random state 90,the testing accuracy is: 0.47044291858455145\n",
      "\n",
      "\n",
      "At random state 91,the training accuracy is: 0.4841547733233561\n",
      "At random state 91,the testing accuracy is: 0.46673638246282734\n",
      "\n",
      "\n",
      "At random state 92,the training accuracy is: 0.5004170353731717\n",
      "At random state 92,the testing accuracy is: 0.3946732882874391\n",
      "\n",
      "\n",
      "At random state 93,the training accuracy is: 0.4784282446640027\n",
      "At random state 93,the testing accuracy is: 0.48871497165414046\n",
      "\n",
      "\n",
      "At random state 94,the training accuracy is: 0.4750081486689338\n",
      "At random state 94,the testing accuracy is: 0.5019591670598385\n",
      "\n",
      "\n",
      "At random state 95,the training accuracy is: 0.4721476550637136\n",
      "At random state 95,the testing accuracy is: 0.5141245812548271\n",
      "\n",
      "\n",
      "At random state 96,the training accuracy is: 0.4819303391450257\n",
      "At random state 96,the testing accuracy is: 0.47836342604650584\n",
      "\n",
      "\n",
      "At random state 97,the training accuracy is: 0.479477986581906\n",
      "At random state 97,the testing accuracy is: 0.4874515411943934\n",
      "\n",
      "\n",
      "At random state 98,the training accuracy is: 0.4917185111342248\n",
      "At random state 98,the testing accuracy is: 0.43753061532303905\n",
      "\n",
      "\n",
      "At random state 99,the training accuracy is: 0.4920560192751866\n",
      "At random state 99,the testing accuracy is: 0.4222246154427075\n",
      "\n",
      "\n"
     ]
    }
   ],
   "source": [
    "for i in range(0,100):\n",
    "    x_train,x_test,y_train,y_test=train_test_split(x,y,test_size=0.20,random_state=i)\n",
    "    lr=LinearRegression()\n",
    "    lr.fit(x_train,y_train)\n",
    "    pred_train=lr.predict(x_train)\n",
    "    pred_test=lr.predict(x_test)\n",
    "    print(f'At random state {i},the training accuracy is: {r2_score(y_train,pred_train)}')\n",
    "    print(f'At random state {i},the testing accuracy is: {r2_score(y_test,pred_test)}')\n",
    "    print('\\n')"
   ]
  },
  {
   "cell_type": "markdown",
   "id": "2049e0b8",
   "metadata": {},
   "source": [
    "We will now split the data with the random_state 11 as that has given us the best accuracy on training and test data."
   ]
  },
  {
   "cell_type": "code",
   "execution_count": 44,
   "id": "2afb00ca",
   "metadata": {},
   "outputs": [],
   "source": [
    "x_train,x_test,y_train,y_test=train_test_split(x,y,test_size=.20,random_state=11)"
   ]
  },
  {
   "cell_type": "code",
   "execution_count": 45,
   "id": "f67b3880",
   "metadata": {},
   "outputs": [
    {
     "name": "stdout",
     "output_type": "stream",
     "text": [
      "The training accuracy of LinearRegression is 0.4720302907041677\n",
      "The test accuracy of LinearRegression is 0.5152793067174304\n"
     ]
    }
   ],
   "source": [
    "lr.fit(x_train,y_train)\n",
    "pred_train=lr.predict(x_train)\n",
    "pred_test=lr.predict(x_test)\n",
    "train_score=r2_score(y_train,pred_train)\n",
    "test_score=r2_score(y_test,pred_test)\n",
    "print('The training accuracy of LinearRegression is', train_score)\n",
    "print('The test accuracy of LinearRegression is', test_score)"
   ]
  },
  {
   "cell_type": "markdown",
   "id": "39ee3c02",
   "metadata": {},
   "source": [
    "Fitting the data to SupportVectorRegression model"
   ]
  },
  {
   "cell_type": "code",
   "execution_count": 46,
   "id": "df390732",
   "metadata": {},
   "outputs": [
    {
     "name": "stdout",
     "output_type": "stream",
     "text": [
      "0.44472786666144426\n",
      "0.34039602139718483\n",
      "0.5522373036040029\n"
     ]
    }
   ],
   "source": [
    "from sklearn.svm import SVR\n",
    "kernellist=['linear','poly','rbf']\n",
    "for i in kernellist:\n",
    "    sv=SVR(kernel=i)\n",
    "    sv.fit(x_train,y_train)\n",
    "    print(sv.score(x_train,y_train))"
   ]
  },
  {
   "cell_type": "markdown",
   "id": "429cc2a5",
   "metadata": {},
   "source": [
    "Kernel 'rbf' has given us the best output, hence we will select 'rbf' for testing the model"
   ]
  },
  {
   "cell_type": "code",
   "execution_count": 47,
   "id": "6a2760c3",
   "metadata": {},
   "outputs": [
    {
     "name": "stdout",
     "output_type": "stream",
     "text": [
      "The training accuracy of SVR is 0.5522373036040029\n",
      "The test accuracy of SVR is 0.5336551964334351\n"
     ]
    }
   ],
   "source": [
    "sv=SVR(kernel='rbf')\n",
    "sv.fit(x_train,y_train)\n",
    "pred_train=sv.predict(x_train)\n",
    "pred_test=sv.predict(x_test)\n",
    "train_score=r2_score(y_train,pred_train)\n",
    "test_score=r2_score(y_test,pred_test)\n",
    "print('The training accuracy of SVR is', train_score)\n",
    "print('The test accuracy of SVR is', test_score)"
   ]
  },
  {
   "cell_type": "markdown",
   "id": "fb3dcc6b",
   "metadata": {},
   "source": [
    "The accuracy has improved vastly from Linear regression.\n",
    "\n",
    "Now lets check Decision Tree classifier model"
   ]
  },
  {
   "cell_type": "code",
   "execution_count": 48,
   "id": "78fdfdb1",
   "metadata": {},
   "outputs": [
    {
     "name": "stdout",
     "output_type": "stream",
     "text": [
      "The training accuracy of DT is 1.0\n",
      "The test accuracy of DT is 0.1679520333081933\n"
     ]
    }
   ],
   "source": [
    "from sklearn.tree import DecisionTreeRegressor\n",
    "dt=DecisionTreeRegressor()\n",
    "dt.fit(x_train,y_train)\n",
    "pred_train=dt.predict(x_train)\n",
    "pred_test=dt.predict(x_test)\n",
    "train_score=r2_score(y_train,pred_train)\n",
    "test_score=r2_score(y_test,pred_test)\n",
    "print('The training accuracy of DT is', train_score)\n",
    "print('The test accuracy of DT is', test_score)"
   ]
  },
  {
   "cell_type": "markdown",
   "id": "8324f8da",
   "metadata": {},
   "source": [
    "The training accuracy of DTR is 1.0 however it faied in Test accuracy\n",
    "\n",
    "Now Let's usd Random Forest Regressor model"
   ]
  },
  {
   "cell_type": "code",
   "execution_count": 49,
   "id": "b0b40a7a",
   "metadata": {},
   "outputs": [
    {
     "name": "stdout",
     "output_type": "stream",
     "text": [
      "The training accuracy of RF is 0.9359524010198637\n",
      "The test accuracy of RF is 0.5572718234512573\n"
     ]
    }
   ],
   "source": [
    "from sklearn.ensemble import RandomForestRegressor\n",
    "rf=RandomForestRegressor()\n",
    "rf.fit(x_train,y_train)\n",
    "pred_train=rf.predict(x_train)\n",
    "pred_test=rf.predict(x_test)\n",
    "train_score=r2_score(y_train,pred_train)\n",
    "test_score=r2_score(y_test,pred_test)\n",
    "print('The training accuracy of RF is', train_score)\n",
    "print('The test accuracy of RF is', test_score)"
   ]
  },
  {
   "cell_type": "markdown",
   "id": "c73088b2",
   "metadata": {},
   "source": [
    "Again this model has given us the best result on training model but huge difference on testing model."
   ]
  },
  {
   "cell_type": "markdown",
   "id": "8b913ff1",
   "metadata": {},
   "source": [
    "# Cross Vaidation"
   ]
  },
  {
   "cell_type": "code",
   "execution_count": 51,
   "id": "3649ab5a",
   "metadata": {},
   "outputs": [],
   "source": [
    "from sklearn.model_selection import cross_val_score"
   ]
  },
  {
   "cell_type": "code",
   "execution_count": 52,
   "id": "37c630ca",
   "metadata": {},
   "outputs": [
    {
     "name": "stdout",
     "output_type": "stream",
     "text": [
      "Mean Accuracy of LinearRegression()\n",
      "0.3566103516156875\n",
      "\n",
      "\n",
      "Mean Accuracy of RandomForestRegressor()\n",
      "0.4407978467577876\n",
      "\n",
      "\n",
      "Mean Accuracy of DecisionTreeRegressor()\n",
      "-0.15495925753486922\n",
      "\n",
      "\n",
      "Mean Accuracy of SVR()\n",
      "0.49228274143613815\n",
      "\n",
      "\n"
     ]
    }
   ],
   "source": [
    "model=(lr,rf,dt,sv)\n",
    "for m in model:\n",
    "    score=cross_val_score(m,x,y,cv=5)\n",
    "    print('Mean Accuracy of', m)\n",
    "    print(score.mean())\n",
    "    print('\\n')"
   ]
  },
  {
   "cell_type": "markdown",
   "id": "81d53d81",
   "metadata": {},
   "source": [
    "# HyperTuning"
   ]
  },
  {
   "cell_type": "code",
   "execution_count": 53,
   "id": "b18558d5",
   "metadata": {},
   "outputs": [],
   "source": [
    "#Importing libraries for hypertuning and Normalization\n",
    "from sklearn.model_selection import GridSearchCV\n",
    "from sklearn.linear_model import Lasso"
   ]
  },
  {
   "cell_type": "code",
   "execution_count": 54,
   "id": "bb034e0d",
   "metadata": {},
   "outputs": [
    {
     "name": "stdout",
     "output_type": "stream",
     "text": [
      "{'alpha': 0.01, 'random_state': 0}\n"
     ]
    }
   ],
   "source": [
    "parameters={'alpha':[.0001,.001,.01,.1,1,10],'random_state':list(range(0,10))}\n",
    "ls=Lasso()\n",
    "clf=GridSearchCV(ls,parameters)\n",
    "clf.fit(x_train,y_train)\n",
    "\n",
    "print(clf.best_params_)"
   ]
  },
  {
   "cell_type": "code",
   "execution_count": 55,
   "id": "ca395460",
   "metadata": {},
   "outputs": [],
   "source": [
    "ls=Lasso(alpha=0.01,random_state=0)\n",
    "ls.fit(x_train,y_train)\n",
    "ls.score=(x_train,y_train)"
   ]
  },
  {
   "cell_type": "code",
   "execution_count": 56,
   "id": "39c15534",
   "metadata": {},
   "outputs": [],
   "source": [
    "parameters=[{'kernel': ['rbf'], 'gamma': [0.01, 0.1, 0.2, 0.5, 0.6, 0.9],'C': [1, 10, 100]}]\n",
    "clf1=GridSearchCV(SVR(),parameters)"
   ]
  },
  {
   "cell_type": "code",
   "execution_count": 57,
   "id": "ba5038cb",
   "metadata": {},
   "outputs": [
    {
     "data": {
      "text/html": [
       "<style>#sk-container-id-1 {color: black;background-color: white;}#sk-container-id-1 pre{padding: 0;}#sk-container-id-1 div.sk-toggleable {background-color: white;}#sk-container-id-1 label.sk-toggleable__label {cursor: pointer;display: block;width: 100%;margin-bottom: 0;padding: 0.3em;box-sizing: border-box;text-align: center;}#sk-container-id-1 label.sk-toggleable__label-arrow:before {content: \"▸\";float: left;margin-right: 0.25em;color: #696969;}#sk-container-id-1 label.sk-toggleable__label-arrow:hover:before {color: black;}#sk-container-id-1 div.sk-estimator:hover label.sk-toggleable__label-arrow:before {color: black;}#sk-container-id-1 div.sk-toggleable__content {max-height: 0;max-width: 0;overflow: hidden;text-align: left;background-color: #f0f8ff;}#sk-container-id-1 div.sk-toggleable__content pre {margin: 0.2em;color: black;border-radius: 0.25em;background-color: #f0f8ff;}#sk-container-id-1 input.sk-toggleable__control:checked~div.sk-toggleable__content {max-height: 200px;max-width: 100%;overflow: auto;}#sk-container-id-1 input.sk-toggleable__control:checked~label.sk-toggleable__label-arrow:before {content: \"▾\";}#sk-container-id-1 div.sk-estimator input.sk-toggleable__control:checked~label.sk-toggleable__label {background-color: #d4ebff;}#sk-container-id-1 div.sk-label input.sk-toggleable__control:checked~label.sk-toggleable__label {background-color: #d4ebff;}#sk-container-id-1 input.sk-hidden--visually {border: 0;clip: rect(1px 1px 1px 1px);clip: rect(1px, 1px, 1px, 1px);height: 1px;margin: -1px;overflow: hidden;padding: 0;position: absolute;width: 1px;}#sk-container-id-1 div.sk-estimator {font-family: monospace;background-color: #f0f8ff;border: 1px dotted black;border-radius: 0.25em;box-sizing: border-box;margin-bottom: 0.5em;}#sk-container-id-1 div.sk-estimator:hover {background-color: #d4ebff;}#sk-container-id-1 div.sk-parallel-item::after {content: \"\";width: 100%;border-bottom: 1px solid gray;flex-grow: 1;}#sk-container-id-1 div.sk-label:hover label.sk-toggleable__label {background-color: #d4ebff;}#sk-container-id-1 div.sk-serial::before {content: \"\";position: absolute;border-left: 1px solid gray;box-sizing: border-box;top: 0;bottom: 0;left: 50%;z-index: 0;}#sk-container-id-1 div.sk-serial {display: flex;flex-direction: column;align-items: center;background-color: white;padding-right: 0.2em;padding-left: 0.2em;position: relative;}#sk-container-id-1 div.sk-item {position: relative;z-index: 1;}#sk-container-id-1 div.sk-parallel {display: flex;align-items: stretch;justify-content: center;background-color: white;position: relative;}#sk-container-id-1 div.sk-item::before, #sk-container-id-1 div.sk-parallel-item::before {content: \"\";position: absolute;border-left: 1px solid gray;box-sizing: border-box;top: 0;bottom: 0;left: 50%;z-index: -1;}#sk-container-id-1 div.sk-parallel-item {display: flex;flex-direction: column;z-index: 1;position: relative;background-color: white;}#sk-container-id-1 div.sk-parallel-item:first-child::after {align-self: flex-end;width: 50%;}#sk-container-id-1 div.sk-parallel-item:last-child::after {align-self: flex-start;width: 50%;}#sk-container-id-1 div.sk-parallel-item:only-child::after {width: 0;}#sk-container-id-1 div.sk-dashed-wrapped {border: 1px dashed gray;margin: 0 0.4em 0.5em 0.4em;box-sizing: border-box;padding-bottom: 0.4em;background-color: white;}#sk-container-id-1 div.sk-label label {font-family: monospace;font-weight: bold;display: inline-block;line-height: 1.2em;}#sk-container-id-1 div.sk-label-container {text-align: center;}#sk-container-id-1 div.sk-container {/* jupyter's `normalize.less` sets `[hidden] { display: none; }` but bootstrap.min.css set `[hidden] { display: none !important; }` so we also need the `!important` here to be able to override the default hidden behavior on the sphinx rendered scikit-learn.org. See: https://github.com/scikit-learn/scikit-learn/issues/21755 */display: inline-block !important;position: relative;}#sk-container-id-1 div.sk-text-repr-fallback {display: none;}</style><div id=\"sk-container-id-1\" class=\"sk-top-container\"><div class=\"sk-text-repr-fallback\"><pre>GridSearchCV(estimator=SVR(),\n",
       "             param_grid=[{&#x27;C&#x27;: [1, 10, 100],\n",
       "                          &#x27;gamma&#x27;: [0.01, 0.1, 0.2, 0.5, 0.6, 0.9],\n",
       "                          &#x27;kernel&#x27;: [&#x27;rbf&#x27;]}])</pre><b>In a Jupyter environment, please rerun this cell to show the HTML representation or trust the notebook. <br />On GitHub, the HTML representation is unable to render, please try loading this page with nbviewer.org.</b></div><div class=\"sk-container\" hidden><div class=\"sk-item sk-dashed-wrapped\"><div class=\"sk-label-container\"><div class=\"sk-label sk-toggleable\"><input class=\"sk-toggleable__control sk-hidden--visually\" id=\"sk-estimator-id-1\" type=\"checkbox\" ><label for=\"sk-estimator-id-1\" class=\"sk-toggleable__label sk-toggleable__label-arrow\">GridSearchCV</label><div class=\"sk-toggleable__content\"><pre>GridSearchCV(estimator=SVR(),\n",
       "             param_grid=[{&#x27;C&#x27;: [1, 10, 100],\n",
       "                          &#x27;gamma&#x27;: [0.01, 0.1, 0.2, 0.5, 0.6, 0.9],\n",
       "                          &#x27;kernel&#x27;: [&#x27;rbf&#x27;]}])</pre></div></div></div><div class=\"sk-parallel\"><div class=\"sk-parallel-item\"><div class=\"sk-item\"><div class=\"sk-label-container\"><div class=\"sk-label sk-toggleable\"><input class=\"sk-toggleable__control sk-hidden--visually\" id=\"sk-estimator-id-2\" type=\"checkbox\" ><label for=\"sk-estimator-id-2\" class=\"sk-toggleable__label sk-toggleable__label-arrow\">estimator: SVR</label><div class=\"sk-toggleable__content\"><pre>SVR()</pre></div></div></div><div class=\"sk-serial\"><div class=\"sk-item\"><div class=\"sk-estimator sk-toggleable\"><input class=\"sk-toggleable__control sk-hidden--visually\" id=\"sk-estimator-id-3\" type=\"checkbox\" ><label for=\"sk-estimator-id-3\" class=\"sk-toggleable__label sk-toggleable__label-arrow\">SVR</label><div class=\"sk-toggleable__content\"><pre>SVR()</pre></div></div></div></div></div></div></div></div></div></div>"
      ],
      "text/plain": [
       "GridSearchCV(estimator=SVR(),\n",
       "             param_grid=[{'C': [1, 10, 100],\n",
       "                          'gamma': [0.01, 0.1, 0.2, 0.5, 0.6, 0.9],\n",
       "                          'kernel': ['rbf']}])"
      ]
     },
     "execution_count": 57,
     "metadata": {},
     "output_type": "execute_result"
    }
   ],
   "source": [
    "clf1.fit(x_train,y_train)"
   ]
  },
  {
   "cell_type": "code",
   "execution_count": 58,
   "id": "619f3dc9",
   "metadata": {},
   "outputs": [
    {
     "name": "stdout",
     "output_type": "stream",
     "text": [
      "{'C': 10, 'gamma': 0.1, 'kernel': 'rbf'}\n"
     ]
    }
   ],
   "source": [
    "print(clf1.best_params_)"
   ]
  },
  {
   "cell_type": "markdown",
   "id": "1a8ddc52",
   "metadata": {},
   "source": [
    "We will now fit the model with the above parameters"
   ]
  },
  {
   "cell_type": "markdown",
   "id": "c9dca209",
   "metadata": {},
   "source": [
    "# It was taking lot of time if other parameters were added\n"
   ]
  },
  {
   "cell_type": "code",
   "execution_count": 59,
   "id": "28e171d2",
   "metadata": {},
   "outputs": [
    {
     "name": "stdout",
     "output_type": "stream",
     "text": [
      "Model Accuracy 54.801183223695105\n",
      "Cross validation Accuracy 51.64723716536065\n"
     ]
    }
   ],
   "source": [
    "Finalmod=SVR(C=10, gamma=0.1, kernel='rbf')\n",
    "Finalmod.fit(x_train,y_train)\n",
    "pred=Finalmod.predict(x_test)\n",
    "acc=r2_score(y_test,pred)\n",
    "cvscore=cross_val_score(Finalmod,x,y,cv=5)\n",
    "print('Model Accuracy',acc*100)\n",
    "print('Cross validation Accuracy',cvscore.mean()*100)"
   ]
  },
  {
   "cell_type": "markdown",
   "id": "a1ee2cbf",
   "metadata": {},
   "source": [
    "From SVR we are getting the Accuracy 54% and Cross_val score of 51%"
   ]
  },
  {
   "cell_type": "code",
   "execution_count": 60,
   "id": "2d8649f3",
   "metadata": {},
   "outputs": [
    {
     "data": {
      "text/plain": [
       "['Abalone_study.obj']"
      ]
     },
     "execution_count": 60,
     "metadata": {},
     "output_type": "execute_result"
    }
   ],
   "source": [
    "import joblib\n",
    "joblib.dump(Finalmod,'Abalone_study.obj')"
   ]
  },
  {
   "cell_type": "code",
   "execution_count": null,
   "id": "bdf56de6",
   "metadata": {},
   "outputs": [],
   "source": []
  }
 ],
 "metadata": {
  "kernelspec": {
   "display_name": "Python 3 (ipykernel)",
   "language": "python",
   "name": "python3"
  },
  "language_info": {
   "codemirror_mode": {
    "name": "ipython",
    "version": 3
   },
   "file_extension": ".py",
   "mimetype": "text/x-python",
   "name": "python",
   "nbconvert_exporter": "python",
   "pygments_lexer": "ipython3",
   "version": "3.9.7"
  }
 },
 "nbformat": 4,
 "nbformat_minor": 5
}
